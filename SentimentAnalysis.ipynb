{
  "cells": [
    {
      "cell_type": "markdown",
      "metadata": {
        "id": "view-in-github",
        "colab_type": "text"
      },
      "source": [
        "<a href=\"https://colab.research.google.com/github/Fairooz-J/Sentiment-Analysis/blob/main/SentimentAnalysis.ipynb\" target=\"_parent\"><img src=\"https://colab.research.google.com/assets/colab-badge.svg\" alt=\"Open In Colab\"/></a>"
      ]
    },
    {
      "cell_type": "markdown",
      "metadata": {
        "id": "m13yxr8GtQdq"
      },
      "source": [
        "# Loading dataset and splitting into testing and training data"
      ]
    },
    {
      "cell_type": "code",
      "execution_count": null,
      "metadata": {
        "id": "MHHAgMKFwWXm"
      },
      "outputs": [],
      "source": [
        "import numpy as np # for numerical functions\n",
        "import pandas as pd # data manupulation\n",
        "import seaborn as sns # data visualisation\n",
        "import matplotlib.pyplot as plt # data visualisation\n",
        "import plotly.express as px # data visualisation\n",
        "\n",
        "# to split data into test, train  and validation\n",
        "from sklearn.model_selection import train_test_split\n",
        "\n",
        "# Import data cleaning packages\n",
        "import string\n",
        "import nltk\n",
        "from nltk import FreqDist\n",
        "from nltk.corpus import stopwords\n",
        "from nltk.tokenize import word_tokenize\n",
        "from nltk.tokenize import RegexpTokenizer\n",
        "from nltk.stem.porter import PorterStemmer\n",
        "from nltk.stem import SnowballStemmer\n",
        "from nltk.stem import WordNetLemmatizer\n",
        "from nltk.corpus import wordnet\n",
        "from nltk.stem.wordnet import WordNetLemmatizer\n",
        "\n",
        "\n",
        "import string\n",
        "from bs4 import BeautifulSoup\n",
        "!pip install num2words\n",
        "from num2words import num2words\n",
        "\n",
        "\n",
        "# Import vectorization functions and classifiers\n",
        "import pickle\n",
        "from sklearn.feature_extraction.text import CountVectorizer\n",
        "from sklearn.feature_extraction.text import TfidfVectorizer\n",
        "from sklearn.linear_model import LogisticRegression\n",
        "from sklearn.svm import SVC, LinearSVC\n",
        "from sklearn.naive_bayes import GaussianNB\n",
        "from sklearn.utils import shuffle\n",
        "\n",
        "# Import libraries for statistical analysis and visualisation\n",
        "from sklearn.metrics import accuracy_score, confusion_matrix, f1_score,classification_report\n",
        "from sklearn.metrics import ConfusionMatrixDisplay,confusion_matrix\n",
        "from sklearn.metrics import precision_recall_curve, auc\n",
        "from sklearn.metrics import roc_curve, roc_auc_score\n",
        "from sklearn.metrics import RocCurveDisplay"
      ]
    },
    {
      "cell_type": "code",
      "execution_count": null,
      "metadata": {
        "id": "A6WtZcDzGpF_"
      },
      "outputs": [],
      "source": [
        "# I have found that downloading the dataset from kaggle to be much faster than uploading from drive\n",
        "# It does however require a kaggle account\n",
        "!pip install opendatasets --upgrade # username: fairoozzjalal, key:3c3c82efcc71cac040a687ccefb5ff0a\n",
        "import opendatasets as od\n",
        "od.download(\"https://www.kaggle.com/datasets/lakshmi25npathi/imdb-dataset-of-50k-movie-reviews\")\n"
      ]
    },
    {
      "cell_type": "code",
      "execution_count": null,
      "metadata": {
        "colab": {
          "base_uri": "https://localhost:8080/",
          "height": 381
        },
        "id": "fOYvGf3S2qaV",
        "outputId": "2aafe84a-a593-4a0d-ddb1-7a588c367dd8"
      },
      "outputs": [
        {
          "output_type": "stream",
          "name": "stdout",
          "text": [
            "(50000, 2)\n"
          ]
        },
        {
          "output_type": "execute_result",
          "data": {
            "text/plain": [
              "                                              review  sentiment\n",
              "0  One of the other reviewers has mentioned that ...          1\n",
              "1  A wonderful little production. <br /><br />The...          1\n",
              "2  I thought this was a wonderful way to spend ti...          1\n",
              "3  Basically there's a family where a little boy ...          0\n",
              "4  Petter Mattei's \"Love in the Time of Money\" is...          1\n",
              "5  Probably my all-time favorite movie, a story o...          1\n",
              "6  I sure would like to see a resurrection of a u...          1\n",
              "7  This show was an amazing, fresh & innovative i...          0\n",
              "8  Encouraged by the positive comments about this...          0\n",
              "9  If you like original gut wrenching laughter yo...          1"
            ],
            "text/html": [
              "\n",
              "  <div id=\"df-fc73a951-44a5-438b-b85a-ccf464f1274b\">\n",
              "    <div class=\"colab-df-container\">\n",
              "      <div>\n",
              "<style scoped>\n",
              "    .dataframe tbody tr th:only-of-type {\n",
              "        vertical-align: middle;\n",
              "    }\n",
              "\n",
              "    .dataframe tbody tr th {\n",
              "        vertical-align: top;\n",
              "    }\n",
              "\n",
              "    .dataframe thead th {\n",
              "        text-align: right;\n",
              "    }\n",
              "</style>\n",
              "<table border=\"1\" class=\"dataframe\">\n",
              "  <thead>\n",
              "    <tr style=\"text-align: right;\">\n",
              "      <th></th>\n",
              "      <th>review</th>\n",
              "      <th>sentiment</th>\n",
              "    </tr>\n",
              "  </thead>\n",
              "  <tbody>\n",
              "    <tr>\n",
              "      <th>0</th>\n",
              "      <td>One of the other reviewers has mentioned that ...</td>\n",
              "      <td>1</td>\n",
              "    </tr>\n",
              "    <tr>\n",
              "      <th>1</th>\n",
              "      <td>A wonderful little production. &lt;br /&gt;&lt;br /&gt;The...</td>\n",
              "      <td>1</td>\n",
              "    </tr>\n",
              "    <tr>\n",
              "      <th>2</th>\n",
              "      <td>I thought this was a wonderful way to spend ti...</td>\n",
              "      <td>1</td>\n",
              "    </tr>\n",
              "    <tr>\n",
              "      <th>3</th>\n",
              "      <td>Basically there's a family where a little boy ...</td>\n",
              "      <td>0</td>\n",
              "    </tr>\n",
              "    <tr>\n",
              "      <th>4</th>\n",
              "      <td>Petter Mattei's \"Love in the Time of Money\" is...</td>\n",
              "      <td>1</td>\n",
              "    </tr>\n",
              "    <tr>\n",
              "      <th>5</th>\n",
              "      <td>Probably my all-time favorite movie, a story o...</td>\n",
              "      <td>1</td>\n",
              "    </tr>\n",
              "    <tr>\n",
              "      <th>6</th>\n",
              "      <td>I sure would like to see a resurrection of a u...</td>\n",
              "      <td>1</td>\n",
              "    </tr>\n",
              "    <tr>\n",
              "      <th>7</th>\n",
              "      <td>This show was an amazing, fresh &amp; innovative i...</td>\n",
              "      <td>0</td>\n",
              "    </tr>\n",
              "    <tr>\n",
              "      <th>8</th>\n",
              "      <td>Encouraged by the positive comments about this...</td>\n",
              "      <td>0</td>\n",
              "    </tr>\n",
              "    <tr>\n",
              "      <th>9</th>\n",
              "      <td>If you like original gut wrenching laughter yo...</td>\n",
              "      <td>1</td>\n",
              "    </tr>\n",
              "  </tbody>\n",
              "</table>\n",
              "</div>\n",
              "      <button class=\"colab-df-convert\" onclick=\"convertToInteractive('df-fc73a951-44a5-438b-b85a-ccf464f1274b')\"\n",
              "              title=\"Convert this dataframe to an interactive table.\"\n",
              "              style=\"display:none;\">\n",
              "        \n",
              "  <svg xmlns=\"http://www.w3.org/2000/svg\" height=\"24px\"viewBox=\"0 0 24 24\"\n",
              "       width=\"24px\">\n",
              "    <path d=\"M0 0h24v24H0V0z\" fill=\"none\"/>\n",
              "    <path d=\"M18.56 5.44l.94 2.06.94-2.06 2.06-.94-2.06-.94-.94-2.06-.94 2.06-2.06.94zm-11 1L8.5 8.5l.94-2.06 2.06-.94-2.06-.94L8.5 2.5l-.94 2.06-2.06.94zm10 10l.94 2.06.94-2.06 2.06-.94-2.06-.94-.94-2.06-.94 2.06-2.06.94z\"/><path d=\"M17.41 7.96l-1.37-1.37c-.4-.4-.92-.59-1.43-.59-.52 0-1.04.2-1.43.59L10.3 9.45l-7.72 7.72c-.78.78-.78 2.05 0 2.83L4 21.41c.39.39.9.59 1.41.59.51 0 1.02-.2 1.41-.59l7.78-7.78 2.81-2.81c.8-.78.8-2.07 0-2.86zM5.41 20L4 18.59l7.72-7.72 1.47 1.35L5.41 20z\"/>\n",
              "  </svg>\n",
              "      </button>\n",
              "      \n",
              "  <style>\n",
              "    .colab-df-container {\n",
              "      display:flex;\n",
              "      flex-wrap:wrap;\n",
              "      gap: 12px;\n",
              "    }\n",
              "\n",
              "    .colab-df-convert {\n",
              "      background-color: #E8F0FE;\n",
              "      border: none;\n",
              "      border-radius: 50%;\n",
              "      cursor: pointer;\n",
              "      display: none;\n",
              "      fill: #1967D2;\n",
              "      height: 32px;\n",
              "      padding: 0 0 0 0;\n",
              "      width: 32px;\n",
              "    }\n",
              "\n",
              "    .colab-df-convert:hover {\n",
              "      background-color: #E2EBFA;\n",
              "      box-shadow: 0px 1px 2px rgba(60, 64, 67, 0.3), 0px 1px 3px 1px rgba(60, 64, 67, 0.15);\n",
              "      fill: #174EA6;\n",
              "    }\n",
              "\n",
              "    [theme=dark] .colab-df-convert {\n",
              "      background-color: #3B4455;\n",
              "      fill: #D2E3FC;\n",
              "    }\n",
              "\n",
              "    [theme=dark] .colab-df-convert:hover {\n",
              "      background-color: #434B5C;\n",
              "      box-shadow: 0px 1px 3px 1px rgba(0, 0, 0, 0.15);\n",
              "      filter: drop-shadow(0px 1px 2px rgba(0, 0, 0, 0.3));\n",
              "      fill: #FFFFFF;\n",
              "    }\n",
              "  </style>\n",
              "\n",
              "      <script>\n",
              "        const buttonEl =\n",
              "          document.querySelector('#df-fc73a951-44a5-438b-b85a-ccf464f1274b button.colab-df-convert');\n",
              "        buttonEl.style.display =\n",
              "          google.colab.kernel.accessAllowed ? 'block' : 'none';\n",
              "\n",
              "        async function convertToInteractive(key) {\n",
              "          const element = document.querySelector('#df-fc73a951-44a5-438b-b85a-ccf464f1274b');\n",
              "          const dataTable =\n",
              "            await google.colab.kernel.invokeFunction('convertToInteractive',\n",
              "                                                     [key], {});\n",
              "          if (!dataTable) return;\n",
              "\n",
              "          const docLinkHtml = 'Like what you see? Visit the ' +\n",
              "            '<a target=\"_blank\" href=https://colab.research.google.com/notebooks/data_table.ipynb>data table notebook</a>'\n",
              "            + ' to learn more about interactive tables.';\n",
              "          element.innerHTML = '';\n",
              "          dataTable['output_type'] = 'display_data';\n",
              "          await google.colab.output.renderOutput(dataTable, element);\n",
              "          const docLink = document.createElement('div');\n",
              "          docLink.innerHTML = docLinkHtml;\n",
              "          element.appendChild(docLink);\n",
              "        }\n",
              "      </script>\n",
              "    </div>\n",
              "  </div>\n",
              "  "
            ]
          },
          "metadata": {},
          "execution_count": 8
        }
      ],
      "source": [
        "# Loading dataset and viewing data\n",
        "data=pd.read_csv('/content/imdb-dataset-of-50k-movie-reviews/IMDB Dataset.csv', engine='python', encoding=\"utf-8\",on_bad_lines='warn')\n",
        "\n",
        "\n",
        "# Apply LabelEncoding to make target feature into numerical (Positive : 1 , Negative : 0)\n",
        "# This is to make it machine-readable\n",
        "data['sentiment'].replace({'positive':1, 'negative':0}, inplace  = True)\n",
        "print(data.shape)\n",
        "data.head(10)"
      ]
    },
    {
      "cell_type": "markdown",
      "source": [
        "### EDA"
      ],
      "metadata": {
        "id": "ZdLbWzQhx5A3"
      }
    },
    {
      "cell_type": "code",
      "source": [
        "# display number of columns in dataset\n",
        "data.shape"
      ],
      "metadata": {
        "id": "lHjNu6z-QO97",
        "colab": {
          "base_uri": "https://localhost:8080/"
        },
        "outputId": "549f7761-1213-47d9-8ae1-fcb26d1cc43a"
      },
      "execution_count": null,
      "outputs": [
        {
          "output_type": "execute_result",
          "data": {
            "text/plain": [
              "(50000, 2)"
            ]
          },
          "metadata": {},
          "execution_count": 10
        }
      ]
    },
    {
      "cell_type": "code",
      "source": [
        "# display types of data in dataset\n",
        "data.dtypes"
      ],
      "metadata": {
        "id": "HEY2FCq8APD_",
        "outputId": "303bd049-cd51-40bc-8b27-5388315b4daf",
        "colab": {
          "base_uri": "https://localhost:8080/"
        }
      },
      "execution_count": null,
      "outputs": [
        {
          "output_type": "execute_result",
          "data": {
            "text/plain": [
              "review       object\n",
              "sentiment     int64\n",
              "dtype: object"
            ]
          },
          "metadata": {},
          "execution_count": 11
        }
      ]
    },
    {
      "cell_type": "code",
      "source": [
        "# check for null values\n",
        "data.isnull().sum()"
      ],
      "metadata": {
        "id": "jCfGGE18QRoh",
        "colab": {
          "base_uri": "https://localhost:8080/"
        },
        "outputId": "1ae5bcec-9375-4dc7-ea33-69d422cf2972"
      },
      "execution_count": null,
      "outputs": [
        {
          "output_type": "execute_result",
          "data": {
            "text/plain": [
              "review       0\n",
              "sentiment    0\n",
              "dtype: int64"
            ]
          },
          "metadata": {},
          "execution_count": 12
        }
      ]
    },
    {
      "cell_type": "code",
      "source": [
        "# generate discriptive statistics\n",
        "data.describe()"
      ],
      "metadata": {
        "id": "oyCkcJNJQSNZ",
        "colab": {
          "base_uri": "https://localhost:8080/",
          "height": 300
        },
        "outputId": "e1376af8-0b6e-414c-c90e-dbfcc7b1d4e9"
      },
      "execution_count": null,
      "outputs": [
        {
          "output_type": "execute_result",
          "data": {
            "text/plain": [
              "          sentiment\n",
              "count  50000.000000\n",
              "mean       0.500000\n",
              "std        0.500005\n",
              "min        0.000000\n",
              "25%        0.000000\n",
              "50%        0.500000\n",
              "75%        1.000000\n",
              "max        1.000000"
            ],
            "text/html": [
              "\n",
              "  <div id=\"df-90f94728-f50e-4b9d-a4ab-0dbca87e7713\">\n",
              "    <div class=\"colab-df-container\">\n",
              "      <div>\n",
              "<style scoped>\n",
              "    .dataframe tbody tr th:only-of-type {\n",
              "        vertical-align: middle;\n",
              "    }\n",
              "\n",
              "    .dataframe tbody tr th {\n",
              "        vertical-align: top;\n",
              "    }\n",
              "\n",
              "    .dataframe thead th {\n",
              "        text-align: right;\n",
              "    }\n",
              "</style>\n",
              "<table border=\"1\" class=\"dataframe\">\n",
              "  <thead>\n",
              "    <tr style=\"text-align: right;\">\n",
              "      <th></th>\n",
              "      <th>sentiment</th>\n",
              "    </tr>\n",
              "  </thead>\n",
              "  <tbody>\n",
              "    <tr>\n",
              "      <th>count</th>\n",
              "      <td>50000.000000</td>\n",
              "    </tr>\n",
              "    <tr>\n",
              "      <th>mean</th>\n",
              "      <td>0.500000</td>\n",
              "    </tr>\n",
              "    <tr>\n",
              "      <th>std</th>\n",
              "      <td>0.500005</td>\n",
              "    </tr>\n",
              "    <tr>\n",
              "      <th>min</th>\n",
              "      <td>0.000000</td>\n",
              "    </tr>\n",
              "    <tr>\n",
              "      <th>25%</th>\n",
              "      <td>0.000000</td>\n",
              "    </tr>\n",
              "    <tr>\n",
              "      <th>50%</th>\n",
              "      <td>0.500000</td>\n",
              "    </tr>\n",
              "    <tr>\n",
              "      <th>75%</th>\n",
              "      <td>1.000000</td>\n",
              "    </tr>\n",
              "    <tr>\n",
              "      <th>max</th>\n",
              "      <td>1.000000</td>\n",
              "    </tr>\n",
              "  </tbody>\n",
              "</table>\n",
              "</div>\n",
              "      <button class=\"colab-df-convert\" onclick=\"convertToInteractive('df-90f94728-f50e-4b9d-a4ab-0dbca87e7713')\"\n",
              "              title=\"Convert this dataframe to an interactive table.\"\n",
              "              style=\"display:none;\">\n",
              "        \n",
              "  <svg xmlns=\"http://www.w3.org/2000/svg\" height=\"24px\"viewBox=\"0 0 24 24\"\n",
              "       width=\"24px\">\n",
              "    <path d=\"M0 0h24v24H0V0z\" fill=\"none\"/>\n",
              "    <path d=\"M18.56 5.44l.94 2.06.94-2.06 2.06-.94-2.06-.94-.94-2.06-.94 2.06-2.06.94zm-11 1L8.5 8.5l.94-2.06 2.06-.94-2.06-.94L8.5 2.5l-.94 2.06-2.06.94zm10 10l.94 2.06.94-2.06 2.06-.94-2.06-.94-.94-2.06-.94 2.06-2.06.94z\"/><path d=\"M17.41 7.96l-1.37-1.37c-.4-.4-.92-.59-1.43-.59-.52 0-1.04.2-1.43.59L10.3 9.45l-7.72 7.72c-.78.78-.78 2.05 0 2.83L4 21.41c.39.39.9.59 1.41.59.51 0 1.02-.2 1.41-.59l7.78-7.78 2.81-2.81c.8-.78.8-2.07 0-2.86zM5.41 20L4 18.59l7.72-7.72 1.47 1.35L5.41 20z\"/>\n",
              "  </svg>\n",
              "      </button>\n",
              "      \n",
              "  <style>\n",
              "    .colab-df-container {\n",
              "      display:flex;\n",
              "      flex-wrap:wrap;\n",
              "      gap: 12px;\n",
              "    }\n",
              "\n",
              "    .colab-df-convert {\n",
              "      background-color: #E8F0FE;\n",
              "      border: none;\n",
              "      border-radius: 50%;\n",
              "      cursor: pointer;\n",
              "      display: none;\n",
              "      fill: #1967D2;\n",
              "      height: 32px;\n",
              "      padding: 0 0 0 0;\n",
              "      width: 32px;\n",
              "    }\n",
              "\n",
              "    .colab-df-convert:hover {\n",
              "      background-color: #E2EBFA;\n",
              "      box-shadow: 0px 1px 2px rgba(60, 64, 67, 0.3), 0px 1px 3px 1px rgba(60, 64, 67, 0.15);\n",
              "      fill: #174EA6;\n",
              "    }\n",
              "\n",
              "    [theme=dark] .colab-df-convert {\n",
              "      background-color: #3B4455;\n",
              "      fill: #D2E3FC;\n",
              "    }\n",
              "\n",
              "    [theme=dark] .colab-df-convert:hover {\n",
              "      background-color: #434B5C;\n",
              "      box-shadow: 0px 1px 3px 1px rgba(0, 0, 0, 0.15);\n",
              "      filter: drop-shadow(0px 1px 2px rgba(0, 0, 0, 0.3));\n",
              "      fill: #FFFFFF;\n",
              "    }\n",
              "  </style>\n",
              "\n",
              "      <script>\n",
              "        const buttonEl =\n",
              "          document.querySelector('#df-90f94728-f50e-4b9d-a4ab-0dbca87e7713 button.colab-df-convert');\n",
              "        buttonEl.style.display =\n",
              "          google.colab.kernel.accessAllowed ? 'block' : 'none';\n",
              "\n",
              "        async function convertToInteractive(key) {\n",
              "          const element = document.querySelector('#df-90f94728-f50e-4b9d-a4ab-0dbca87e7713');\n",
              "          const dataTable =\n",
              "            await google.colab.kernel.invokeFunction('convertToInteractive',\n",
              "                                                     [key], {});\n",
              "          if (!dataTable) return;\n",
              "\n",
              "          const docLinkHtml = 'Like what you see? Visit the ' +\n",
              "            '<a target=\"_blank\" href=https://colab.research.google.com/notebooks/data_table.ipynb>data table notebook</a>'\n",
              "            + ' to learn more about interactive tables.';\n",
              "          element.innerHTML = '';\n",
              "          dataTable['output_type'] = 'display_data';\n",
              "          await google.colab.output.renderOutput(dataTable, element);\n",
              "          const docLink = document.createElement('div');\n",
              "          docLink.innerHTML = docLinkHtml;\n",
              "          element.appendChild(docLink);\n",
              "        }\n",
              "      </script>\n",
              "    </div>\n",
              "  </div>\n",
              "  "
            ]
          },
          "metadata": {},
          "execution_count": 13
        }
      ]
    },
    {
      "cell_type": "code",
      "source": [
        "# print summary of dataframe\n",
        "data.info()"
      ],
      "metadata": {
        "id": "jcOyhe74QUFZ",
        "colab": {
          "base_uri": "https://localhost:8080/"
        },
        "outputId": "9c748771-ca32-4ed1-db6a-cc4941514f2b"
      },
      "execution_count": null,
      "outputs": [
        {
          "output_type": "stream",
          "name": "stdout",
          "text": [
            "<class 'pandas.core.frame.DataFrame'>\n",
            "RangeIndex: 50000 entries, 0 to 49999\n",
            "Data columns (total 2 columns):\n",
            " #   Column     Non-Null Count  Dtype \n",
            "---  ------     --------------  ----- \n",
            " 0   review     50000 non-null  object\n",
            " 1   sentiment  50000 non-null  int64 \n",
            "dtypes: int64(1), object(1)\n",
            "memory usage: 781.4+ KB\n"
          ]
        }
      ]
    },
    {
      "cell_type": "code",
      "source": [
        "# print unique values\n",
        "data['sentiment'].unique()"
      ],
      "metadata": {
        "id": "NFGoKiX_QWiJ",
        "colab": {
          "base_uri": "https://localhost:8080/"
        },
        "outputId": "d8a34fa4-55ff-4de4-84cb-c7ec1fe0fe47"
      },
      "execution_count": null,
      "outputs": [
        {
          "output_type": "execute_result",
          "data": {
            "text/plain": [
              "array([1, 0])"
            ]
          },
          "metadata": {},
          "execution_count": 15
        }
      ]
    },
    {
      "cell_type": "code",
      "source": [
        "# display sentiment counts to make sure all data has been read\n",
        "data['sentiment'].value_counts()"
      ],
      "metadata": {
        "id": "_K_jFBUnQZPr",
        "colab": {
          "base_uri": "https://localhost:8080/"
        },
        "outputId": "d31dc290-4748-4661-8515-ee97ba09ad9d"
      },
      "execution_count": null,
      "outputs": [
        {
          "output_type": "execute_result",
          "data": {
            "text/plain": [
              "1    25000\n",
              "0    25000\n",
              "Name: sentiment, dtype: int64"
            ]
          },
          "metadata": {},
          "execution_count": 16
        }
      ]
    },
    {
      "cell_type": "code",
      "source": [
        "# diaply graph to show even distribution of sentiments\n",
        "sns.countplot(data['sentiment'])"
      ],
      "metadata": {
        "id": "okLbJHgzQbwZ",
        "colab": {
          "base_uri": "https://localhost:8080/",
          "height": 353
        },
        "outputId": "fdffc29a-07bf-4a52-8c3e-2512975a00c9"
      },
      "execution_count": null,
      "outputs": [
        {
          "output_type": "stream",
          "name": "stderr",
          "text": [
            "/usr/local/lib/python3.8/dist-packages/seaborn/_decorators.py:36: FutureWarning: Pass the following variable as a keyword arg: x. From version 0.12, the only valid positional argument will be `data`, and passing other arguments without an explicit keyword will result in an error or misinterpretation.\n",
            "  warnings.warn(\n"
          ]
        },
        {
          "output_type": "execute_result",
          "data": {
            "text/plain": [
              "<matplotlib.axes._subplots.AxesSubplot at 0x7fa729d6b280>"
            ]
          },
          "metadata": {},
          "execution_count": 17
        },
        {
          "output_type": "display_data",
          "data": {
            "text/plain": [
              "<Figure size 432x288 with 1 Axes>"
            ],
            "image/png": "[encoded data removed]"
          },
          "metadata": {
            "needs_background": "light"
          }
        }
      ]
    },
    {
      "cell_type": "code",
      "source": [
        "# Dsipaly graph to show distribution of words in both sentiment\n",
        "\n",
        "# Get all positive reviews\n",
        "positive_reviews = data[data['sentiment']== 1]['review']\n",
        "positive_reviews.head()\n",
        "\n",
        "# Get all negative reviews\n",
        "negative_reviews = data[data['sentiment']== 0]['review']\n",
        "negative_reviews.head()\n",
        "\n",
        "# Set up two subplots for both sentiments\n",
        "fig,(ax_pos,ax_neg)=plt.subplots(1,2,figsize=(12,8))\n",
        "\n",
        "# Display length of reviews for positive sentiment\n",
        "ax_pos.hist(positive_reviews.str.len(), color=\"navy\")\n",
        "ax_pos.set_title( 'Positive Reviews')\n",
        "ax_pos.set_ylabel(\"Range of Words\")\n",
        "ax_pos.set_xlabel(\"Frequency\")\n",
        "\n",
        "# Display length of reviews for negative sentiment\n",
        "ax_neg.hist(negative_reviews.str.len(), color=\"navy\")\n",
        "ax_neg.set_title( 'Negative Reviews')\n",
        "ax_neg.set_ylabel(\"Range of Words\")\n",
        "ax_neg.set_xlabel(\"Frequency\")"
      ],
      "metadata": {
        "colab": {
          "base_uri": "https://localhost:8080/",
          "height": 531
        },
        "id": "jP32OUaFTWaB",
        "outputId": "49f0e90c-2085-4f77-9e52-880b94ca6663"
      },
      "execution_count": null,
      "outputs": [
        {
          "output_type": "execute_result",
          "data": {
            "text/plain": [
              "Text(0.5, 0, 'Frequency')"
            ]
          },
          "metadata": {},
          "execution_count": 18
        },
        {
          "output_type": "display_data",
          "data": {
            "text/plain": [
              "<Figure size 864x576 with 2 Axes>"
            ],
            "image/png": "[encoded data removed]"
          },
          "metadata": {
            "needs_background": "light"
          }
        }
      ]
    },
    {
      "cell_type": "code",
      "source": [
        "\n",
        "# Finding most common words\n",
        "# Words that appear mostly commonly are later removed duting the preprocessing stage\n",
        "# Note that '/><br' can be seen as a common occurrence and will be removed along with other HTML tags\n",
        "# Another observation is the presence of high occurrence of words like 'not' which can likely be an\n",
        "# emphasis on a negative review. Removal of this word may result is a less robust model\n",
        "from collections import Counter\n",
        "cnt = Counter()\n",
        "for text in data['review'].values:\n",
        "    for word in text.split():\n",
        "        cnt[word] += 1\n",
        "        \n",
        "cnt.most_common(100)"
      ],
      "metadata": {
        "id": "_hfhFCWL0_LM",
        "colab": {
          "base_uri": "https://localhost:8080/"
        },
        "outputId": "d07932c7-1f64-4874-d84a-1e80d4b1156d"
      },
      "execution_count": null,
      "outputs": [
        {
          "output_type": "execute_result",
          "data": {
            "text/plain": [
              "[('the', 568735),\n",
              " ('a', 306960),\n",
              " ('and', 301919),\n",
              " ('of', 283625),\n",
              " ('to', 261850),\n",
              " ('is', 203056),\n",
              " ('in', 169981),\n",
              " ('I', 132498),\n",
              " ('that', 126818),\n",
              " ('this', 113726),\n",
              " ('it', 107916),\n",
              " ('/><br', 100974),\n",
              " ('was', 92658),\n",
              " ('as', 83130),\n",
              " ('with', 82569),\n",
              " ('for', 80919),\n",
              " ('The', 67317),\n",
              " ('but', 66282),\n",
              " ('on', 61197),\n",
              " ('movie', 60762),\n",
              " ('are', 56513),\n",
              " ('film', 54277),\n",
              " ('his', 54198),\n",
              " ('have', 54009),\n",
              " ('not', 52140),\n",
              " ('you', 50697),\n",
              " ('be', 50539),\n",
              " ('at', 42421),\n",
              " ('by', 42290),\n",
              " ('he', 42114),\n",
              " ('one', 41334),\n",
              " ('an', 41076),\n",
              " ('from', 37876),\n",
              " ('who', 37207),\n",
              " ('like', 36028),\n",
              " ('all', 35272),\n",
              " ('they', 35201),\n",
              " ('has', 32420),\n",
              " ('so', 32386),\n",
              " ('just', 32338),\n",
              " ('or', 32221),\n",
              " ('about', 32036),\n",
              " ('her', 29944),\n",
              " ('out', 28679),\n",
              " ('some', 28052),\n",
              " ('very', 25794),\n",
              " ('more', 25412),\n",
              " ('This', 24329),\n",
              " ('would', 23578),\n",
              " ('what', 23320),\n",
              " ('when', 22749),\n",
              " ('good', 22582),\n",
              " ('if', 22009),\n",
              " ('their', 21975),\n",
              " ('only', 21694),\n",
              " ('It', 21475),\n",
              " ('really', 21322),\n",
              " ('had', 21305),\n",
              " ('up', 21196),\n",
              " ('even', 20979),\n",
              " (\"it's\", 20949),\n",
              " ('can', 20863),\n",
              " ('which', 20703),\n",
              " ('were', 20552),\n",
              " ('see', 20364),\n",
              " ('my', 20356),\n",
              " ('no', 19951),\n",
              " ('than', 19043),\n",
              " ('she', 18980),\n",
              " ('-', 18201),\n",
              " ('there', 18160),\n",
              " ('been', 17883),\n",
              " ('into', 17515),\n",
              " ('get', 17333),\n",
              " ('will', 16938),\n",
              " ('much', 16827),\n",
              " ('story', 16443),\n",
              " ('because', 16371),\n",
              " ('other', 15745),\n",
              " ('most', 15508),\n",
              " ('time', 15312),\n",
              " ('we', 15191),\n",
              " ('me', 15173),\n",
              " ('make', 14859),\n",
              " ('do', 14775),\n",
              " ('how', 14754),\n",
              " ('could', 14689),\n",
              " ('also', 14607),\n",
              " ('people', 14414),\n",
              " ('its', 14385),\n",
              " ('great', 14385),\n",
              " ('/>The', 14335),\n",
              " ('first', 14283),\n",
              " ('any', 14199),\n",
              " (\"don't\", 13954),\n",
              " ('made', 13418),\n",
              " ('think', 13083),\n",
              " ('bad', 12847),\n",
              " ('him', 12506),\n",
              " ('being', 12290)]"
            ]
          },
          "metadata": {},
          "execution_count": 19
        }
      ]
    },
    {
      "cell_type": "code",
      "execution_count": null,
      "metadata": {
        "colab": {
          "base_uri": "https://localhost:8080/"
        },
        "id": "NYr0iEGTj3Rc",
        "outputId": "8095f5b2-df2b-4700-d9eb-7aca3351ec32"
      },
      "outputs": [
        {
          "output_type": "stream",
          "name": "stdout",
          "text": [
            "No. of training data: 25000\n",
            "No. of testing data: 25000\n"
          ]
        }
      ],
      "source": [
        "# split data into training and testing evenly\n",
        "training_data, testing_data = train_test_split(data, test_size=0.5, random_state=25)\n",
        "\n",
        "print(f\"No. of training data: {training_data.shape[0]}\")\n",
        "print(f\"No. of testing data: {testing_data.shape[0]}\")"
      ]
    },
    {
      "cell_type": "code",
      "execution_count": null,
      "metadata": {
        "colab": {
          "base_uri": "https://localhost:8080/",
          "height": 143
        },
        "id": "RHXhqe-Ikhn5",
        "outputId": "a83f13ba-59db-4470-d0f1-03138b7b57bd"
      },
      "outputs": [
        {
          "output_type": "execute_result",
          "data": {
            "text/plain": [
              "           sentiment\n",
              "sentiment           \n",
              "0              12406\n",
              "1              12594"
            ],
            "text/html": [
              "\n",
              "  <div id=\"df-b0bcde03-1678-4f29-b59c-4d644ad491fa\">\n",
              "    <div class=\"colab-df-container\">\n",
              "      <div>\n",
              "<style scoped>\n",
              "    .dataframe tbody tr th:only-of-type {\n",
              "        vertical-align: middle;\n",
              "    }\n",
              "\n",
              "    .dataframe tbody tr th {\n",
              "        vertical-align: top;\n",
              "    }\n",
              "\n",
              "    .dataframe thead th {\n",
              "        text-align: right;\n",
              "    }\n",
              "</style>\n",
              "<table border=\"1\" class=\"dataframe\">\n",
              "  <thead>\n",
              "    <tr style=\"text-align: right;\">\n",
              "      <th></th>\n",
              "      <th>sentiment</th>\n",
              "    </tr>\n",
              "    <tr>\n",
              "      <th>sentiment</th>\n",
              "      <th></th>\n",
              "    </tr>\n",
              "  </thead>\n",
              "  <tbody>\n",
              "    <tr>\n",
              "      <th>0</th>\n",
              "      <td>12406</td>\n",
              "    </tr>\n",
              "    <tr>\n",
              "      <th>1</th>\n",
              "      <td>12594</td>\n",
              "    </tr>\n",
              "  </tbody>\n",
              "</table>\n",
              "</div>\n",
              "      <button class=\"colab-df-convert\" onclick=\"convertToInteractive('df-b0bcde03-1678-4f29-b59c-4d644ad491fa')\"\n",
              "              title=\"Convert this dataframe to an interactive table.\"\n",
              "              style=\"display:none;\">\n",
              "        \n",
              "  <svg xmlns=\"http://www.w3.org/2000/svg\" height=\"24px\"viewBox=\"0 0 24 24\"\n",
              "       width=\"24px\">\n",
              "    <path d=\"M0 0h24v24H0V0z\" fill=\"none\"/>\n",
              "    <path d=\"M18.56 5.44l.94 2.06.94-2.06 2.06-.94-2.06-.94-.94-2.06-.94 2.06-2.06.94zm-11 1L8.5 8.5l.94-2.06 2.06-.94-2.06-.94L8.5 2.5l-.94 2.06-2.06.94zm10 10l.94 2.06.94-2.06 2.06-.94-2.06-.94-.94-2.06-.94 2.06-2.06.94z\"/><path d=\"M17.41 7.96l-1.37-1.37c-.4-.4-.92-.59-1.43-.59-.52 0-1.04.2-1.43.59L10.3 9.45l-7.72 7.72c-.78.78-.78 2.05 0 2.83L4 21.41c.39.39.9.59 1.41.59.51 0 1.02-.2 1.41-.59l7.78-7.78 2.81-2.81c.8-.78.8-2.07 0-2.86zM5.41 20L4 18.59l7.72-7.72 1.47 1.35L5.41 20z\"/>\n",
              "  </svg>\n",
              "      </button>\n",
              "      \n",
              "  <style>\n",
              "    .colab-df-container {\n",
              "      display:flex;\n",
              "      flex-wrap:wrap;\n",
              "      gap: 12px;\n",
              "    }\n",
              "\n",
              "    .colab-df-convert {\n",
              "      background-color: #E8F0FE;\n",
              "      border: none;\n",
              "      border-radius: 50%;\n",
              "      cursor: pointer;\n",
              "      display: none;\n",
              "      fill: #1967D2;\n",
              "      height: 32px;\n",
              "      padding: 0 0 0 0;\n",
              "      width: 32px;\n",
              "    }\n",
              "\n",
              "    .colab-df-convert:hover {\n",
              "      background-color: #E2EBFA;\n",
              "      box-shadow: 0px 1px 2px rgba(60, 64, 67, 0.3), 0px 1px 3px 1px rgba(60, 64, 67, 0.15);\n",
              "      fill: #174EA6;\n",
              "    }\n",
              "\n",
              "    [theme=dark] .colab-df-convert {\n",
              "      background-color: #3B4455;\n",
              "      fill: #D2E3FC;\n",
              "    }\n",
              "\n",
              "    [theme=dark] .colab-df-convert:hover {\n",
              "      background-color: #434B5C;\n",
              "      box-shadow: 0px 1px 3px 1px rgba(0, 0, 0, 0.15);\n",
              "      filter: drop-shadow(0px 1px 2px rgba(0, 0, 0, 0.3));\n",
              "      fill: #FFFFFF;\n",
              "    }\n",
              "  </style>\n",
              "\n",
              "      <script>\n",
              "        const buttonEl =\n",
              "          document.querySelector('#df-b0bcde03-1678-4f29-b59c-4d644ad491fa button.colab-df-convert');\n",
              "        buttonEl.style.display =\n",
              "          google.colab.kernel.accessAllowed ? 'block' : 'none';\n",
              "\n",
              "        async function convertToInteractive(key) {\n",
              "          const element = document.querySelector('#df-b0bcde03-1678-4f29-b59c-4d644ad491fa');\n",
              "          const dataTable =\n",
              "            await google.colab.kernel.invokeFunction('convertToInteractive',\n",
              "                                                     [key], {});\n",
              "          if (!dataTable) return;\n",
              "\n",
              "          const docLinkHtml = 'Like what you see? Visit the ' +\n",
              "            '<a target=\"_blank\" href=https://colab.research.google.com/notebooks/data_table.ipynb>data table notebook</a>'\n",
              "            + ' to learn more about interactive tables.';\n",
              "          element.innerHTML = '';\n",
              "          dataTable['output_type'] = 'display_data';\n",
              "          await google.colab.output.renderOutput(dataTable, element);\n",
              "          const docLink = document.createElement('div');\n",
              "          docLink.innerHTML = docLinkHtml;\n",
              "          element.appendChild(docLink);\n",
              "        }\n",
              "      </script>\n",
              "    </div>\n",
              "  </div>\n",
              "  "
            ]
          },
          "metadata": {},
          "execution_count": 24
        }
      ],
      "source": [
        "training_data.groupby(['sentiment'])[['sentiment']].count()"
      ]
    },
    {
      "cell_type": "code",
      "source": [
        "testing_data.groupby(['sentiment'])[['sentiment']].count()"
      ],
      "metadata": {
        "colab": {
          "base_uri": "https://localhost:8080/",
          "height": 143
        },
        "id": "hSbZskBwaaUu",
        "outputId": "362f217c-ecd4-48bb-8e36-a976653df19a"
      },
      "execution_count": null,
      "outputs": [
        {
          "output_type": "execute_result",
          "data": {
            "text/plain": [
              "           sentiment\n",
              "sentiment           \n",
              "0              12594\n",
              "1              12406"
            ],
            "text/html": [
              "\n",
              "  <div id=\"df-234a6a70-0bc8-4b24-8ba8-3cf0ebfb1a4c\">\n",
              "    <div class=\"colab-df-container\">\n",
              "      <div>\n",
              "<style scoped>\n",
              "    .dataframe tbody tr th:only-of-type {\n",
              "        vertical-align: middle;\n",
              "    }\n",
              "\n",
              "    .dataframe tbody tr th {\n",
              "        vertical-align: top;\n",
              "    }\n",
              "\n",
              "    .dataframe thead th {\n",
              "        text-align: right;\n",
              "    }\n",
              "</style>\n",
              "<table border=\"1\" class=\"dataframe\">\n",
              "  <thead>\n",
              "    <tr style=\"text-align: right;\">\n",
              "      <th></th>\n",
              "      <th>sentiment</th>\n",
              "    </tr>\n",
              "    <tr>\n",
              "      <th>sentiment</th>\n",
              "      <th></th>\n",
              "    </tr>\n",
              "  </thead>\n",
              "  <tbody>\n",
              "    <tr>\n",
              "      <th>0</th>\n",
              "      <td>12594</td>\n",
              "    </tr>\n",
              "    <tr>\n",
              "      <th>1</th>\n",
              "      <td>12406</td>\n",
              "    </tr>\n",
              "  </tbody>\n",
              "</table>\n",
              "</div>\n",
              "      <button class=\"colab-df-convert\" onclick=\"convertToInteractive('df-234a6a70-0bc8-4b24-8ba8-3cf0ebfb1a4c')\"\n",
              "              title=\"Convert this dataframe to an interactive table.\"\n",
              "              style=\"display:none;\">\n",
              "        \n",
              "  <svg xmlns=\"http://www.w3.org/2000/svg\" height=\"24px\"viewBox=\"0 0 24 24\"\n",
              "       width=\"24px\">\n",
              "    <path d=\"M0 0h24v24H0V0z\" fill=\"none\"/>\n",
              "    <path d=\"M18.56 5.44l.94 2.06.94-2.06 2.06-.94-2.06-.94-.94-2.06-.94 2.06-2.06.94zm-11 1L8.5 8.5l.94-2.06 2.06-.94-2.06-.94L8.5 2.5l-.94 2.06-2.06.94zm10 10l.94 2.06.94-2.06 2.06-.94-2.06-.94-.94-2.06-.94 2.06-2.06.94z\"/><path d=\"M17.41 7.96l-1.37-1.37c-.4-.4-.92-.59-1.43-.59-.52 0-1.04.2-1.43.59L10.3 9.45l-7.72 7.72c-.78.78-.78 2.05 0 2.83L4 21.41c.39.39.9.59 1.41.59.51 0 1.02-.2 1.41-.59l7.78-7.78 2.81-2.81c.8-.78.8-2.07 0-2.86zM5.41 20L4 18.59l7.72-7.72 1.47 1.35L5.41 20z\"/>\n",
              "  </svg>\n",
              "      </button>\n",
              "      \n",
              "  <style>\n",
              "    .colab-df-container {\n",
              "      display:flex;\n",
              "      flex-wrap:wrap;\n",
              "      gap: 12px;\n",
              "    }\n",
              "\n",
              "    .colab-df-convert {\n",
              "      background-color: #E8F0FE;\n",
              "      border: none;\n",
              "      border-radius: 50%;\n",
              "      cursor: pointer;\n",
              "      display: none;\n",
              "      fill: #1967D2;\n",
              "      height: 32px;\n",
              "      padding: 0 0 0 0;\n",
              "      width: 32px;\n",
              "    }\n",
              "\n",
              "    .colab-df-convert:hover {\n",
              "      background-color: #E2EBFA;\n",
              "      box-shadow: 0px 1px 2px rgba(60, 64, 67, 0.3), 0px 1px 3px 1px rgba(60, 64, 67, 0.15);\n",
              "      fill: #174EA6;\n",
              "    }\n",
              "\n",
              "    [theme=dark] .colab-df-convert {\n",
              "      background-color: #3B4455;\n",
              "      fill: #D2E3FC;\n",
              "    }\n",
              "\n",
              "    [theme=dark] .colab-df-convert:hover {\n",
              "      background-color: #434B5C;\n",
              "      box-shadow: 0px 1px 3px 1px rgba(0, 0, 0, 0.15);\n",
              "      filter: drop-shadow(0px 1px 2px rgba(0, 0, 0, 0.3));\n",
              "      fill: #FFFFFF;\n",
              "    }\n",
              "  </style>\n",
              "\n",
              "      <script>\n",
              "        const buttonEl =\n",
              "          document.querySelector('#df-234a6a70-0bc8-4b24-8ba8-3cf0ebfb1a4c button.colab-df-convert');\n",
              "        buttonEl.style.display =\n",
              "          google.colab.kernel.accessAllowed ? 'block' : 'none';\n",
              "\n",
              "        async function convertToInteractive(key) {\n",
              "          const element = document.querySelector('#df-234a6a70-0bc8-4b24-8ba8-3cf0ebfb1a4c');\n",
              "          const dataTable =\n",
              "            await google.colab.kernel.invokeFunction('convertToInteractive',\n",
              "                                                     [key], {});\n",
              "          if (!dataTable) return;\n",
              "\n",
              "          const docLinkHtml = 'Like what you see? Visit the ' +\n",
              "            '<a target=\"_blank\" href=https://colab.research.google.com/notebooks/data_table.ipynb>data table notebook</a>'\n",
              "            + ' to learn more about interactive tables.';\n",
              "          element.innerHTML = '';\n",
              "          dataTable['output_type'] = 'display_data';\n",
              "          await google.colab.output.renderOutput(dataTable, element);\n",
              "          const docLink = document.createElement('div');\n",
              "          docLink.innerHTML = docLinkHtml;\n",
              "          element.appendChild(docLink);\n",
              "        }\n",
              "      </script>\n",
              "    </div>\n",
              "  </div>\n",
              "  "
            ]
          },
          "metadata": {},
          "execution_count": 25
        }
      ]
    },
    {
      "cell_type": "markdown",
      "metadata": {
        "id": "TD4oKY_BwTPv"
      },
      "source": [
        "# Data Cleaning"
      ]
    },
    {
      "cell_type": "code",
      "execution_count": null,
      "metadata": {
        "colab": {
          "base_uri": "https://localhost:8080/"
        },
        "id": "MkrfGsu4wZRO",
        "outputId": "22029ed8-a9df-4af3-f080-b2c8b516a379"
      },
      "outputs": [
        {
          "output_type": "stream",
          "name": "stdout",
          "text": [
            "Looking in indexes: https://pypi.org/simple, https://us-python.pkg.dev/colab-wheels/public/simple/\n",
            "Requirement already satisfied: num2words in /usr/local/lib/python3.8/dist-packages (0.5.12)\n",
            "Requirement already satisfied: docopt>=0.6.2 in /usr/local/lib/python3.8/dist-packages (from num2words) (0.6.2)\n"
          ]
        }
      ],
      "source": [
        "# The following pre-processing will be done to the data\n",
        "# Converting all text to lowercase *\n",
        "# Remove HTML strips *\n",
        "# Remove URLs *\n",
        "# Remove noisy text *\n",
        "# Remove square brackets ** removes with punctuation\n",
        "# Remove special characters *\n",
        "# Expand contractions *\n",
        "# Filter stopwords *\n",
        "# Remove Punctuation *\n",
        "# Tokenization\n",
        "# Stemming\n",
        "# Lemmatization\n",
        "# Remove frequent words (bag of words and TFI-DF)\n"
      ]
    },
    {
      "cell_type": "markdown",
      "metadata": {
        "id": "XMhzpG3bu3Rb"
      },
      "source": [
        "**1. Convert Text to Lowercase**"
      ]
    },
    {
      "cell_type": "code",
      "source": [
        "training_data.head()"
      ],
      "metadata": {
        "colab": {
          "base_uri": "https://localhost:8080/",
          "height": 206
        },
        "id": "LcBLDul_H6zt",
        "outputId": "51130082-3709-4587-9d24-a6739b05e9ca"
      },
      "execution_count": null,
      "outputs": [
        {
          "output_type": "execute_result",
          "data": {
            "text/plain": [
              "                                                  review  sentiment\n",
              "45069  Garde à Vue has to be seen a number of times i...          1\n",
              "46485  The concept was ok but hardly original. The ac...          0\n",
              "45857  While movie titles contains the word 'Mother',...          1\n",
              "15043  Deep Blood... Its one of those movies you here...          1\n",
              "25586  (Avast, slight spoilers ahead) I got this tape...          0"
            ],
            "text/html": [
              "\n",
              "  <div id=\"df-671312cd-db6d-4dd8-b1f3-4b945eb39cdf\">\n",
              "    <div class=\"colab-df-container\">\n",
              "      <div>\n",
              "<style scoped>\n",
              "    .dataframe tbody tr th:only-of-type {\n",
              "        vertical-align: middle;\n",
              "    }\n",
              "\n",
              "    .dataframe tbody tr th {\n",
              "        vertical-align: top;\n",
              "    }\n",
              "\n",
              "    .dataframe thead th {\n",
              "        text-align: right;\n",
              "    }\n",
              "</style>\n",
              "<table border=\"1\" class=\"dataframe\">\n",
              "  <thead>\n",
              "    <tr style=\"text-align: right;\">\n",
              "      <th></th>\n",
              "      <th>review</th>\n",
              "      <th>sentiment</th>\n",
              "    </tr>\n",
              "  </thead>\n",
              "  <tbody>\n",
              "    <tr>\n",
              "      <th>45069</th>\n",
              "      <td>Garde à Vue has to be seen a number of times i...</td>\n",
              "      <td>1</td>\n",
              "    </tr>\n",
              "    <tr>\n",
              "      <th>46485</th>\n",
              "      <td>The concept was ok but hardly original. The ac...</td>\n",
              "      <td>0</td>\n",
              "    </tr>\n",
              "    <tr>\n",
              "      <th>45857</th>\n",
              "      <td>While movie titles contains the word 'Mother',...</td>\n",
              "      <td>1</td>\n",
              "    </tr>\n",
              "    <tr>\n",
              "      <th>15043</th>\n",
              "      <td>Deep Blood... Its one of those movies you here...</td>\n",
              "      <td>1</td>\n",
              "    </tr>\n",
              "    <tr>\n",
              "      <th>25586</th>\n",
              "      <td>(Avast, slight spoilers ahead) I got this tape...</td>\n",
              "      <td>0</td>\n",
              "    </tr>\n",
              "  </tbody>\n",
              "</table>\n",
              "</div>\n",
              "      <button class=\"colab-df-convert\" onclick=\"convertToInteractive('df-671312cd-db6d-4dd8-b1f3-4b945eb39cdf')\"\n",
              "              title=\"Convert this dataframe to an interactive table.\"\n",
              "              style=\"display:none;\">\n",
              "        \n",
              "  <svg xmlns=\"http://www.w3.org/2000/svg\" height=\"24px\"viewBox=\"0 0 24 24\"\n",
              "       width=\"24px\">\n",
              "    <path d=\"M0 0h24v24H0V0z\" fill=\"none\"/>\n",
              "    <path d=\"M18.56 5.44l.94 2.06.94-2.06 2.06-.94-2.06-.94-.94-2.06-.94 2.06-2.06.94zm-11 1L8.5 8.5l.94-2.06 2.06-.94-2.06-.94L8.5 2.5l-.94 2.06-2.06.94zm10 10l.94 2.06.94-2.06 2.06-.94-2.06-.94-.94-2.06-.94 2.06-2.06.94z\"/><path d=\"M17.41 7.96l-1.37-1.37c-.4-.4-.92-.59-1.43-.59-.52 0-1.04.2-1.43.59L10.3 9.45l-7.72 7.72c-.78.78-.78 2.05 0 2.83L4 21.41c.39.39.9.59 1.41.59.51 0 1.02-.2 1.41-.59l7.78-7.78 2.81-2.81c.8-.78.8-2.07 0-2.86zM5.41 20L4 18.59l7.72-7.72 1.47 1.35L5.41 20z\"/>\n",
              "  </svg>\n",
              "      </button>\n",
              "      \n",
              "  <style>\n",
              "    .colab-df-container {\n",
              "      display:flex;\n",
              "      flex-wrap:wrap;\n",
              "      gap: 12px;\n",
              "    }\n",
              "\n",
              "    .colab-df-convert {\n",
              "      background-color: #E8F0FE;\n",
              "      border: none;\n",
              "      border-radius: 50%;\n",
              "      cursor: pointer;\n",
              "      display: none;\n",
              "      fill: #1967D2;\n",
              "      height: 32px;\n",
              "      padding: 0 0 0 0;\n",
              "      width: 32px;\n",
              "    }\n",
              "\n",
              "    .colab-df-convert:hover {\n",
              "      background-color: #E2EBFA;\n",
              "      box-shadow: 0px 1px 2px rgba(60, 64, 67, 0.3), 0px 1px 3px 1px rgba(60, 64, 67, 0.15);\n",
              "      fill: #174EA6;\n",
              "    }\n",
              "\n",
              "    [theme=dark] .colab-df-convert {\n",
              "      background-color: #3B4455;\n",
              "      fill: #D2E3FC;\n",
              "    }\n",
              "\n",
              "    [theme=dark] .colab-df-convert:hover {\n",
              "      background-color: #434B5C;\n",
              "      box-shadow: 0px 1px 3px 1px rgba(0, 0, 0, 0.15);\n",
              "      filter: drop-shadow(0px 1px 2px rgba(0, 0, 0, 0.3));\n",
              "      fill: #FFFFFF;\n",
              "    }\n",
              "  </style>\n",
              "\n",
              "      <script>\n",
              "        const buttonEl =\n",
              "          document.querySelector('#df-671312cd-db6d-4dd8-b1f3-4b945eb39cdf button.colab-df-convert');\n",
              "        buttonEl.style.display =\n",
              "          google.colab.kernel.accessAllowed ? 'block' : 'none';\n",
              "\n",
              "        async function convertToInteractive(key) {\n",
              "          const element = document.querySelector('#df-671312cd-db6d-4dd8-b1f3-4b945eb39cdf');\n",
              "          const dataTable =\n",
              "            await google.colab.kernel.invokeFunction('convertToInteractive',\n",
              "                                                     [key], {});\n",
              "          if (!dataTable) return;\n",
              "\n",
              "          const docLinkHtml = 'Like what you see? Visit the ' +\n",
              "            '<a target=\"_blank\" href=https://colab.research.google.com/notebooks/data_table.ipynb>data table notebook</a>'\n",
              "            + ' to learn more about interactive tables.';\n",
              "          element.innerHTML = '';\n",
              "          dataTable['output_type'] = 'display_data';\n",
              "          await google.colab.output.renderOutput(dataTable, element);\n",
              "          const docLink = document.createElement('div');\n",
              "          docLink.innerHTML = docLinkHtml;\n",
              "          element.appendChild(docLink);\n",
              "        }\n",
              "      </script>\n",
              "    </div>\n",
              "  </div>\n",
              "  "
            ]
          },
          "metadata": {},
          "execution_count": 69
        }
      ]
    },
    {
      "cell_type": "code",
      "execution_count": null,
      "metadata": {
        "colab": {
          "base_uri": "https://localhost:8080/",
          "height": 363
        },
        "id": "UpDFdoNPu1is",
        "outputId": "958c670e-9938-4f78-ea97-f14b35043b5e"
      },
      "outputs": [
        {
          "output_type": "execute_result",
          "data": {
            "text/plain": [
              "                                                  review  sentiment\n",
              "45069  garde à vue has to be seen a number of times i...          1\n",
              "46485  the concept was ok but hardly original. the ac...          0\n",
              "45857  while movie titles contains the word 'mother',...          1\n",
              "15043  deep blood... its one of those movies you here...          1\n",
              "25586  (avast, slight spoilers ahead) i got this tape...          0\n",
              "1063   like the other comments says, this might be su...          0\n",
              "17734  bridget fonda has disappointed me several time...          1\n",
              "30996  it is a well known fact that when gene roddenb...          1\n",
              "19213  no idea how this is rated as high as it is (5....          0\n",
              "12079  i had always heard about this great mini-serie...          1"
            ],
            "text/html": [
              "\n",
              "  <div id=\"df-8ba88011-c212-48e0-998a-a0a0109928e1\">\n",
              "    <div class=\"colab-df-container\">\n",
              "      <div>\n",
              "<style scoped>\n",
              "    .dataframe tbody tr th:only-of-type {\n",
              "        vertical-align: middle;\n",
              "    }\n",
              "\n",
              "    .dataframe tbody tr th {\n",
              "        vertical-align: top;\n",
              "    }\n",
              "\n",
              "    .dataframe thead th {\n",
              "        text-align: right;\n",
              "    }\n",
              "</style>\n",
              "<table border=\"1\" class=\"dataframe\">\n",
              "  <thead>\n",
              "    <tr style=\"text-align: right;\">\n",
              "      <th></th>\n",
              "      <th>review</th>\n",
              "      <th>sentiment</th>\n",
              "    </tr>\n",
              "  </thead>\n",
              "  <tbody>\n",
              "    <tr>\n",
              "      <th>45069</th>\n",
              "      <td>garde à vue has to be seen a number of times i...</td>\n",
              "      <td>1</td>\n",
              "    </tr>\n",
              "    <tr>\n",
              "      <th>46485</th>\n",
              "      <td>the concept was ok but hardly original. the ac...</td>\n",
              "      <td>0</td>\n",
              "    </tr>\n",
              "    <tr>\n",
              "      <th>45857</th>\n",
              "      <td>while movie titles contains the word 'mother',...</td>\n",
              "      <td>1</td>\n",
              "    </tr>\n",
              "    <tr>\n",
              "      <th>15043</th>\n",
              "      <td>deep blood... its one of those movies you here...</td>\n",
              "      <td>1</td>\n",
              "    </tr>\n",
              "    <tr>\n",
              "      <th>25586</th>\n",
              "      <td>(avast, slight spoilers ahead) i got this tape...</td>\n",
              "      <td>0</td>\n",
              "    </tr>\n",
              "    <tr>\n",
              "      <th>1063</th>\n",
              "      <td>like the other comments says, this might be su...</td>\n",
              "      <td>0</td>\n",
              "    </tr>\n",
              "    <tr>\n",
              "      <th>17734</th>\n",
              "      <td>bridget fonda has disappointed me several time...</td>\n",
              "      <td>1</td>\n",
              "    </tr>\n",
              "    <tr>\n",
              "      <th>30996</th>\n",
              "      <td>it is a well known fact that when gene roddenb...</td>\n",
              "      <td>1</td>\n",
              "    </tr>\n",
              "    <tr>\n",
              "      <th>19213</th>\n",
              "      <td>no idea how this is rated as high as it is (5....</td>\n",
              "      <td>0</td>\n",
              "    </tr>\n",
              "    <tr>\n",
              "      <th>12079</th>\n",
              "      <td>i had always heard about this great mini-serie...</td>\n",
              "      <td>1</td>\n",
              "    </tr>\n",
              "  </tbody>\n",
              "</table>\n",
              "</div>\n",
              "      <button class=\"colab-df-convert\" onclick=\"convertToInteractive('df-8ba88011-c212-48e0-998a-a0a0109928e1')\"\n",
              "              title=\"Convert this dataframe to an interactive table.\"\n",
              "              style=\"display:none;\">\n",
              "        \n",
              "  <svg xmlns=\"http://www.w3.org/2000/svg\" height=\"24px\"viewBox=\"0 0 24 24\"\n",
              "       width=\"24px\">\n",
              "    <path d=\"M0 0h24v24H0V0z\" fill=\"none\"/>\n",
              "    <path d=\"M18.56 5.44l.94 2.06.94-2.06 2.06-.94-2.06-.94-.94-2.06-.94 2.06-2.06.94zm-11 1L8.5 8.5l.94-2.06 2.06-.94-2.06-.94L8.5 2.5l-.94 2.06-2.06.94zm10 10l.94 2.06.94-2.06 2.06-.94-2.06-.94-.94-2.06-.94 2.06-2.06.94z\"/><path d=\"M17.41 7.96l-1.37-1.37c-.4-.4-.92-.59-1.43-.59-.52 0-1.04.2-1.43.59L10.3 9.45l-7.72 7.72c-.78.78-.78 2.05 0 2.83L4 21.41c.39.39.9.59 1.41.59.51 0 1.02-.2 1.41-.59l7.78-7.78 2.81-2.81c.8-.78.8-2.07 0-2.86zM5.41 20L4 18.59l7.72-7.72 1.47 1.35L5.41 20z\"/>\n",
              "  </svg>\n",
              "      </button>\n",
              "      \n",
              "  <style>\n",
              "    .colab-df-container {\n",
              "      display:flex;\n",
              "      flex-wrap:wrap;\n",
              "      gap: 12px;\n",
              "    }\n",
              "\n",
              "    .colab-df-convert {\n",
              "      background-color: #E8F0FE;\n",
              "      border: none;\n",
              "      border-radius: 50%;\n",
              "      cursor: pointer;\n",
              "      display: none;\n",
              "      fill: #1967D2;\n",
              "      height: 32px;\n",
              "      padding: 0 0 0 0;\n",
              "      width: 32px;\n",
              "    }\n",
              "\n",
              "    .colab-df-convert:hover {\n",
              "      background-color: #E2EBFA;\n",
              "      box-shadow: 0px 1px 2px rgba(60, 64, 67, 0.3), 0px 1px 3px 1px rgba(60, 64, 67, 0.15);\n",
              "      fill: #174EA6;\n",
              "    }\n",
              "\n",
              "    [theme=dark] .colab-df-convert {\n",
              "      background-color: #3B4455;\n",
              "      fill: #D2E3FC;\n",
              "    }\n",
              "\n",
              "    [theme=dark] .colab-df-convert:hover {\n",
              "      background-color: #434B5C;\n",
              "      box-shadow: 0px 1px 3px 1px rgba(0, 0, 0, 0.15);\n",
              "      filter: drop-shadow(0px 1px 2px rgba(0, 0, 0, 0.3));\n",
              "      fill: #FFFFFF;\n",
              "    }\n",
              "  </style>\n",
              "\n",
              "      <script>\n",
              "        const buttonEl =\n",
              "          document.querySelector('#df-8ba88011-c212-48e0-998a-a0a0109928e1 button.colab-df-convert');\n",
              "        buttonEl.style.display =\n",
              "          google.colab.kernel.accessAllowed ? 'block' : 'none';\n",
              "\n",
              "        async function convertToInteractive(key) {\n",
              "          const element = document.querySelector('#df-8ba88011-c212-48e0-998a-a0a0109928e1');\n",
              "          const dataTable =\n",
              "            await google.colab.kernel.invokeFunction('convertToInteractive',\n",
              "                                                     [key], {});\n",
              "          if (!dataTable) return;\n",
              "\n",
              "          const docLinkHtml = 'Like what you see? Visit the ' +\n",
              "            '<a target=\"_blank\" href=https://colab.research.google.com/notebooks/data_table.ipynb>data table notebook</a>'\n",
              "            + ' to learn more about interactive tables.';\n",
              "          element.innerHTML = '';\n",
              "          dataTable['output_type'] = 'display_data';\n",
              "          await google.colab.output.renderOutput(dataTable, element);\n",
              "          const docLink = document.createElement('div');\n",
              "          docLink.innerHTML = docLinkHtml;\n",
              "          element.appendChild(docLink);\n",
              "        }\n",
              "      </script>\n",
              "    </div>\n",
              "  </div>\n",
              "  "
            ]
          },
          "metadata": {},
          "execution_count": 70
        }
      ],
      "source": [
        "# Converting data to lowercase to avoid case sensitivity\n",
        "training_data['review'] = training_data['review'].str.lower()\n",
        "training_data.head(10)"
      ]
    },
    {
      "cell_type": "code",
      "execution_count": null,
      "metadata": {
        "id": "nTIZfX2sihDy",
        "colab": {
          "base_uri": "https://localhost:8080/",
          "height": 1000
        },
        "outputId": "9ff363c9-be4b-46ff-fba4-d8767bd26188"
      },
      "outputs": [
        {
          "output_type": "stream",
          "name": "stderr",
          "text": [
            "<ipython-input-71-37ba6eeae22d>:7: FutureWarning: The default value of regex will change from True to False in a future version.\n",
            "  training_data['review'] = training_data['review'].str.replace('http\\S+|www.\\S+', '', case=False)\n"
          ]
        },
        {
          "output_type": "display_data",
          "data": {
            "text/plain": [
              "                                                                                                                                                                                                                                                                                                                                                                                                                                                                                                                                                                                                                                                                                                                                                                                                                                                                                                                                                                                                                                                                                                                                                                                                                                                                                                                                                                                                                                                                                                                                                                                                                                                                                                                                                                                                                                                                                                                                                                                                                                                                                                                                                                                                                                                                                                                                                                                                                                                                                                                                                                                                                                                                                                                                                 review  \\\n",
              "45069                                                                                                                                                                                                                                                                                                                                                                                                                                                                                                                                                                                                                                                                                                                                                                                                                                                                                                                                                                                                                                                                                                                                                                                                                                                                                                                                                                                                                                                                                                                                                                                                                                                                                                                                                                                                                       garde à vue has to be seen a number of times in order to understand the sub-plots it contains. if you're not used to french wordy films, based upon conversation and battle of wits rather than on action, don't even try to watch it. you'll only obtain boredom to death, and reassured opinion that french movies are not for you.garde à vue is a wordy film, essentially based upon dialogs (written by audiard by the way)and it cruelly cuts the veil of appearances.why does maître martineau (serrault) prefer to be unduly accused of being a child murderer rather than telling the truth ? because at the time of the murder he was with a 18 years old girl with which he has a 8-years sexual relation. his wife knows it, she's jealous of it and he prefers to be executed (in 1980 in france, there was still death penalty)rather than unveiling the sole \"pure and innocent\" aspect of his pitiful life.   \n",
              "46485                                                                                                                                                                                                                                                                                                                                                                                                                                                                                                                                                                                                                                                                                                                                                                                                                                                                                                                                                                                                                                                                                                                                                                                                                                                                                                                                                                                                                                                                                                                                                                                                                                                                                                                                                                                                                                                                                                                                                                                                                                                                                                                                                                                                                                                                                                                                                                                                                                                               the concept was ok but hardly original. the acting was plastic. but the real spoiler was that there was only one joke and a grubby one at that. this is a film for fourteen year olds who have been let out on their own for the first time. don't dare to watch it with your kids.   \n",
              "45857  while movie titles contains the word 'mother', the first thing that comes to our mind will be a mother's love for her children.however, the mother tells a different story.the mother do not discuss the love between a mother and her child, or how she sacrifice herself for the benefit of her child. here, notting hill director roger michell tells us how a mother's love for a man about half of her age hurts the people around her.before daniel craig takes on the role of james bond, here, he plays darren, a man who is helping to renovate the house of the son of the mother, and sleeping with her daughter as well. anne reid, who was a familiar face on tv series, takes up the challenging role of the leading character, may.the story begins with may coping with the sudden loss of her husband, toots, in a family visit to her son, bobby. while she befriends darren, a handyman who is doing some renovation in bobby's house, she was shocked to found out that her daughter, paula, was sleeping with darren. at the same time, may was coping with life after the death of toots. fearing that harry and paula do not wanted her, may starts to find her life going off track, until she spends her afternoon with darren.darren was nice and friendly to may, and may soon finds some affection on darren. instead of treating him like a friend, she treated the man who was about half her age with love of a couple. later, may found sexual pleasure from darren, where he gave her the pleasure she could never find on anyone else. and this is the beginning of the disaster that could lead to the break down of a family.the mother explores the inner world of a widow who wanted to try something she never had in her life, and solace on someone who is there for her to shoulder on. this can be told from may buying tea time snacks for darren to fulfilling sexual needs from a man younger than her, where it eventually gave her more than she bargained for.anne reid has made a breakthrough for her role of may, as she was previously best well known for her various role on tv series. as she do not have much movies in her career resume, the mother has put her on the critic's attention. daniel craig, on the other hand, had took on a similar role in his movie career, such as sylvia (2003) and enduring love (2004). if his reprising role of james bond fails, film reviewers should not forget that he has a better performance in small productions in his years of movie career, and the mother is one of them.the mother may not be everyone's favorite, but it is definitely not your usual matinée show to go along with tea and scones, accompanied by butter and jam.   \n",
              "15043                                                                                                                                                                                                                                                                                                                                                                                                                                                                                                                                                                                                                                                                                                                                                                                                                                                                                                                                                                                                                                                                                                                                                                                                                                                                                                                                                                         deep blood... its one of those movies you here about and you say not another italian jaws ripoff! well, deep blood is far from that. it is a cheap as film making can get and on the other side it is creative as well. in jaws and all the other shark films we all have seen or herd about they all use fake made sharks, well in joe d'amato's film he takes a new approach by using all stock footage for his shark scenes. this is one of the many reasons i like deep blood so much is because it didn't use stock footage.in deep blood an ancient indian spirit terrorizes a beach town in the form of a bloodthirsty shark, in joe d'amato's shark classic deep blood.it seems that a native american elder once warned a group of youngsters about this great evil in the sea, and years later, the friends are forced to face their fears when one of them is killed by a shark in a series of attacks along their coastline. now it's up to the remaining few to make sure that this monster is killed, even if it means heading out to sea to do it.joe d'amato directed and produced this film under his company the filmirage. released in 1989 and was later used in bruno mattei's cruel jaws: jaws 5, along with many other shark films. joe d'amato's shark entry is a great film and any joe d'amato fan of shark movie watcher should give it a try.   \n",
              "25586                                                                                                                                                                                                                                                                                                                                                                                                                                                                                                                                                                                                                                                                                                                                                                                                                                                                                         (avast, slight spoilers ahead) i got this tape from my local library, which keeps a copy for obvious reasons.i once went to the town of matewan, west virginia, and in a little museum there i saw the schedule for the town theatre citra may 1954. movies would change at the theatre each day. as there would be no tv for another decade or so in those parts, this was much of the available entertainment in the town. \"the raid\" seems to have been made for towns like matewan in the 1950's. although it wasn't listed for that month, i am sure showed there some monday or tuesday night for an audience which probably wasn't too demanding. the historical raid - daring and remarkably successful - didn't seem to have been very well researched, so the movie is full of hollywood embellishments, including a loose cannon played by lee marvin. marvin uses the opportunity to practice being liberty valance. and st. albans seems to have had more yankee soldiers coming and going through the town than washington d.c. had.what really made me snicker was when the raiders change into their confederate uniforms. only in tacky civil war paintings do rebel uniforms look so pristine. when anne bancroft's son catches van heflin in his uniform just before the raid, i expected the boy to think it was halloween.and then there's anne bancroft herself. while watching the movie i actually looked on the imdb to see if there was a second anne bancroft. the then-studio contract actress looks nothing like in her later films, and has none of the presence she would later have in \"the miracle worker,\" \"agnes of god,\" and of course \"the graduate.\"worth seeing if only 1). you live in st. albans and 2). you have a couple hours to kill on a hollywood fictionalization of your home town's biggest news story.   \n",
              "...                                                                                                                                                                                                                                                                                                                                                                                                                                                                                                                                                                                                                                                                                                                                                                                                                                                                                                                                                                                                                                                                                                                                                                                                                                                                                                                                                                                                                                                                                                                                                                                                                                                                                                                                                                                                                                                                                                                                                                                                                                                                                                                                                                                                                                                                                                                                                                                                                                                                                                                                                                                                                                                                                                                                                 ...   \n",
              "35702                                                                                                                                                                                                                                                                                                                                                                                                                                                                                                                                                                                                                                                                                                                                                                                                                                                                                                                                                                                                                                                                                                                                                                                                                                                                                                                                                                                                                                                                                                                                                                            in a not totally successful attempt to be taken seriously, and move into 'adult' films, mr. hughes gives us this film about a young married couple. true, it's got every cliche in the book in it, silly fantasy stuff and all that, but more importantly- it's got elizabeth mcgovern.clearly the best actress to have ever appeared in a john hughes film, she lends a weight to it that elevates the sometimes silly material. kevin bacon (and his hair) is pretty good as her husband, but mcgovern steals the movie with her quiet true moments of honesty. the 'teen film' fun that worked so well in other hughes films falls flat here- like a favorite uncle whose jokes made you laugh when you were 9, but keeps telling them when you are 15 and you wish he'd find some new material. but i keep going back to mcgoverns performance, because it's truly moving. mr. hughes most interesting films to me have real actors in them (some kind of wonderful, breakfast club) and when his material bumps up against a true talent, some wonderful things can happen. if only he'd trust that it doesn't have to be tarted up with the silly fantasy stuff.   \n",
              "26767                                                                                                                                                                                                                                                                                                                                                                                                                                                                                                                                                                                                                                                                                                                                                                                                                                                                                                                                                                                                                                                                                                                                                                                                                                                                                                                                                                                                                                                                                                                                                                                                                            the case of the scorpion's tail is a highly stylish giallo directed by sergio martino, who appears to be a giallo master second only to dario argento.ernesto gastaldi wrote this fabulous who-dunnit, quite complex but ultimately very satisfying and entertaining murder mystery. it also makes sense in the end, a big plus, 'cause that's not always the case for these giallo's, as they tend to stretch credibility with their endless red-herrings and ultimate solutions. here, the less you know about the plot, the better.pure giallo trademarks present here are the beautiful cinematography, the catchy music score, the gorgeous females (anita strindberg is a goddess), brutal murders, black gloved murderers and explicit sex scenes to name a few.in most parts it's decently acted, goerge hilton his usually suave self and others do fairly well. martino directs with a sure hand, keeps things tight and atmospheric with some terrific set pieces.if you're a giallo fan, this is a must see. if you like well written and suspenseful thrillers in general, this comes highly recommended.   \n",
              "6618                                                                                                                                                                                                                                                                                                                                                                                                                                                                                                                                                                                                                                                                                                                                                                                                                                                                                                                                                                                                                                                                                                                                                                                                                                                                                                                                                                                                                                                                                                                                                                                                                                                                                                                                                                                                                                                                                                                                                                                       atlantis: the lost empire is a better movie than i thought. i never thought this movie would lead to my expectations. true, this movie started slow, but as the movie wore on it became more to my liking. the story takes place in 1914 and is about a guy named milo. milo believes in the fabled atlantis. along with friends of his grandfather, he embarks on an amazing adventure of his own. along the way, he must endear friendship, betrayal, trust, and more. the voice cast is great. they surely know how to carry movies with only their voice talent. the music is nothing special but likable anyway. the animation is not the best, but it is still good enough. overall, this is a good family movie for all ages. i rate this movie 9/10.   \n",
              "24894                                                                                                                                                                                                                                                                                                                                                                                                                                                                                                                                                                                                                                                                                                                                                                                                                                                                                                                                                                                                                                                                                                                                                                                                                                                                                                                                                                                                                                                                                                                                                                                                                                                                                                                                                                                                                                                                                                                                                                                                                                                                                 i thought this series was going to be another fun, action series with some dynamic plots and great performances. i was wrong. while i like jamie denton, this show is hardly worth watching at all, unless you enjoy watching some people brutalized and the actions of the agents supposedly warranted under the theme of \"national security.\" the show is great propaganda for the current government, and spews out jingoism as though we talk that way every day. after a couple of episodes, it was boring the hell out of me, and i started watching reruns of house invaders on bbcamerica instead. rather watch csi and without a trace, without a doubt.   \n",
              "29828                                                                                                                                                                                                                                                                                                                                                                                                                                                                                                                                                                                                                                                                                                                                                                                                                                                                                                                                                                                                                                                                                                                                                                                                                                                                                                                                                                                                                                                                                                                                                                                                                            i saw this movie as a very young girl (i'm 27 now) and it scared me witless for years. i had nightmares about every aspect of this film from the way it was drawn to the music to (obviously) the violence. my parents still argue about who allowed me to watch it and both of them say that they would never let me watch such a movie. i think they only say that knowing that i have such strong feelings about it ;0) i am currently reading the book (out of morbid curiosity and the fact that it's a classic) and it is really a great story. however i don't think that it should have been made into a cartoon. ever. well, maybe kids nowadays would find it quaint but it gave me nightmares for weeks and weeks and i still have a hard time seeing rabbits drawn in a similar way. gives me a little heart palpitation every time. yah i am a wuss but i strongly suggest that any parent looking to show this movie to their kids, read them the book instead or watch it first to make certain that they approve of the content. not everyone finds it as disturbing as i did but we are out there ;0)   \n",
              "\n",
              "       sentiment  \n",
              "45069          1  \n",
              "46485          0  \n",
              "45857          1  \n",
              "15043          1  \n",
              "25586          0  \n",
              "...          ...  \n",
              "35702          0  \n",
              "26767          1  \n",
              "6618           1  \n",
              "24894          0  \n",
              "29828          0  \n",
              "\n",
              "[25000 rows x 2 columns]"
            ],
            "text/html": [
              "\n",
              "  <div id=\"df-8ee8d41c-d650-4804-abcb-6970ac7a4cfb\">\n",
              "    <div class=\"colab-df-container\">\n",
              "      <div>\n",
              "<style scoped>\n",
              "    .dataframe tbody tr th:only-of-type {\n",
              "        vertical-align: middle;\n",
              "    }\n",
              "\n",
              "    .dataframe tbody tr th {\n",
              "        vertical-align: top;\n",
              "    }\n",
              "\n",
              "    .dataframe thead th {\n",
              "        text-align: right;\n",
              "    }\n",
              "</style>\n",
              "<table border=\"1\" class=\"dataframe\">\n",
              "  <thead>\n",
              "    <tr style=\"text-align: right;\">\n",
              "      <th></th>\n",
              "      <th>review</th>\n",
              "      <th>sentiment</th>\n",
              "    </tr>\n",
              "  </thead>\n",
              "  <tbody>\n",
              "    <tr>\n",
              "      <th>45069</th>\n",
              "      <td>garde à vue has to be seen a number of times in order to understand the sub-plots it contains. if you're not used to french wordy films, based upon conversation and battle of wits rather than on action, don't even try to watch it. you'll only obtain boredom to death, and reassured opinion that french movies are not for you.garde à vue is a wordy film, essentially based upon dialogs (written by audiard by the way)and it cruelly cuts the veil of appearances.why does maître martineau (serrault) prefer to be unduly accused of being a child murderer rather than telling the truth ? because at the time of the murder he was with a 18 years old girl with which he has a 8-years sexual relation. his wife knows it, she's jealous of it and he prefers to be executed (in 1980 in france, there was still death penalty)rather than unveiling the sole \"pure and innocent\" aspect of his pitiful life.</td>\n",
              "      <td>1</td>\n",
              "    </tr>\n",
              "    <tr>\n",
              "      <th>46485</th>\n",
              "      <td>the concept was ok but hardly original. the acting was plastic. but the real spoiler was that there was only one joke and a grubby one at that. this is a film for fourteen year olds who have been let out on their own for the first time. don't dare to watch it with your kids.</td>\n",
              "      <td>0</td>\n",
              "    </tr>\n",
              "    <tr>\n",
              "      <th>45857</th>\n",
              "      <td>while movie titles contains the word 'mother', the first thing that comes to our mind will be a mother's love for her children.however, the mother tells a different story.the mother do not discuss the love between a mother and her child, or how she sacrifice herself for the benefit of her child. here, notting hill director roger michell tells us how a mother's love for a man about half of her age hurts the people around her.before daniel craig takes on the role of james bond, here, he plays darren, a man who is helping to renovate the house of the son of the mother, and sleeping with her daughter as well. anne reid, who was a familiar face on tv series, takes up the challenging role of the leading character, may.the story begins with may coping with the sudden loss of her husband, toots, in a family visit to her son, bobby. while she befriends darren, a handyman who is doing some renovation in bobby's house, she was shocked to found out that her daughter, paula, was sleeping with darren. at the same time, may was coping with life after the death of toots. fearing that harry and paula do not wanted her, may starts to find her life going off track, until she spends her afternoon with darren.darren was nice and friendly to may, and may soon finds some affection on darren. instead of treating him like a friend, she treated the man who was about half her age with love of a couple. later, may found sexual pleasure from darren, where he gave her the pleasure she could never find on anyone else. and this is the beginning of the disaster that could lead to the break down of a family.the mother explores the inner world of a widow who wanted to try something she never had in her life, and solace on someone who is there for her to shoulder on. this can be told from may buying tea time snacks for darren to fulfilling sexual needs from a man younger than her, where it eventually gave her more than she bargained for.anne reid has made a breakthrough for her role of may, as she was previously best well known for her various role on tv series. as she do not have much movies in her career resume, the mother has put her on the critic's attention. daniel craig, on the other hand, had took on a similar role in his movie career, such as sylvia (2003) and enduring love (2004). if his reprising role of james bond fails, film reviewers should not forget that he has a better performance in small productions in his years of movie career, and the mother is one of them.the mother may not be everyone's favorite, but it is definitely not your usual matinée show to go along with tea and scones, accompanied by butter and jam.</td>\n",
              "      <td>1</td>\n",
              "    </tr>\n",
              "    <tr>\n",
              "      <th>15043</th>\n",
              "      <td>deep blood... its one of those movies you here about and you say not another italian jaws ripoff! well, deep blood is far from that. it is a cheap as film making can get and on the other side it is creative as well. in jaws and all the other shark films we all have seen or herd about they all use fake made sharks, well in joe d'amato's film he takes a new approach by using all stock footage for his shark scenes. this is one of the many reasons i like deep blood so much is because it didn't use stock footage.in deep blood an ancient indian spirit terrorizes a beach town in the form of a bloodthirsty shark, in joe d'amato's shark classic deep blood.it seems that a native american elder once warned a group of youngsters about this great evil in the sea, and years later, the friends are forced to face their fears when one of them is killed by a shark in a series of attacks along their coastline. now it's up to the remaining few to make sure that this monster is killed, even if it means heading out to sea to do it.joe d'amato directed and produced this film under his company the filmirage. released in 1989 and was later used in bruno mattei's cruel jaws: jaws 5, along with many other shark films. joe d'amato's shark entry is a great film and any joe d'amato fan of shark movie watcher should give it a try.</td>\n",
              "      <td>1</td>\n",
              "    </tr>\n",
              "    <tr>\n",
              "      <th>25586</th>\n",
              "      <td>(avast, slight spoilers ahead) i got this tape from my local library, which keeps a copy for obvious reasons.i once went to the town of matewan, west virginia, and in a little museum there i saw the schedule for the town theatre citra may 1954. movies would change at the theatre each day. as there would be no tv for another decade or so in those parts, this was much of the available entertainment in the town. \"the raid\" seems to have been made for towns like matewan in the 1950's. although it wasn't listed for that month, i am sure showed there some monday or tuesday night for an audience which probably wasn't too demanding. the historical raid - daring and remarkably successful - didn't seem to have been very well researched, so the movie is full of hollywood embellishments, including a loose cannon played by lee marvin. marvin uses the opportunity to practice being liberty valance. and st. albans seems to have had more yankee soldiers coming and going through the town than washington d.c. had.what really made me snicker was when the raiders change into their confederate uniforms. only in tacky civil war paintings do rebel uniforms look so pristine. when anne bancroft's son catches van heflin in his uniform just before the raid, i expected the boy to think it was halloween.and then there's anne bancroft herself. while watching the movie i actually looked on the imdb to see if there was a second anne bancroft. the then-studio contract actress looks nothing like in her later films, and has none of the presence she would later have in \"the miracle worker,\" \"agnes of god,\" and of course \"the graduate.\"worth seeing if only 1). you live in st. albans and 2). you have a couple hours to kill on a hollywood fictionalization of your home town's biggest news story.</td>\n",
              "      <td>0</td>\n",
              "    </tr>\n",
              "    <tr>\n",
              "      <th>...</th>\n",
              "      <td>...</td>\n",
              "      <td>...</td>\n",
              "    </tr>\n",
              "    <tr>\n",
              "      <th>35702</th>\n",
              "      <td>in a not totally successful attempt to be taken seriously, and move into 'adult' films, mr. hughes gives us this film about a young married couple. true, it's got every cliche in the book in it, silly fantasy stuff and all that, but more importantly- it's got elizabeth mcgovern.clearly the best actress to have ever appeared in a john hughes film, she lends a weight to it that elevates the sometimes silly material. kevin bacon (and his hair) is pretty good as her husband, but mcgovern steals the movie with her quiet true moments of honesty. the 'teen film' fun that worked so well in other hughes films falls flat here- like a favorite uncle whose jokes made you laugh when you were 9, but keeps telling them when you are 15 and you wish he'd find some new material. but i keep going back to mcgoverns performance, because it's truly moving. mr. hughes most interesting films to me have real actors in them (some kind of wonderful, breakfast club) and when his material bumps up against a true talent, some wonderful things can happen. if only he'd trust that it doesn't have to be tarted up with the silly fantasy stuff.</td>\n",
              "      <td>0</td>\n",
              "    </tr>\n",
              "    <tr>\n",
              "      <th>26767</th>\n",
              "      <td>the case of the scorpion's tail is a highly stylish giallo directed by sergio martino, who appears to be a giallo master second only to dario argento.ernesto gastaldi wrote this fabulous who-dunnit, quite complex but ultimately very satisfying and entertaining murder mystery. it also makes sense in the end, a big plus, 'cause that's not always the case for these giallo's, as they tend to stretch credibility with their endless red-herrings and ultimate solutions. here, the less you know about the plot, the better.pure giallo trademarks present here are the beautiful cinematography, the catchy music score, the gorgeous females (anita strindberg is a goddess), brutal murders, black gloved murderers and explicit sex scenes to name a few.in most parts it's decently acted, goerge hilton his usually suave self and others do fairly well. martino directs with a sure hand, keeps things tight and atmospheric with some terrific set pieces.if you're a giallo fan, this is a must see. if you like well written and suspenseful thrillers in general, this comes highly recommended.</td>\n",
              "      <td>1</td>\n",
              "    </tr>\n",
              "    <tr>\n",
              "      <th>6618</th>\n",
              "      <td>atlantis: the lost empire is a better movie than i thought. i never thought this movie would lead to my expectations. true, this movie started slow, but as the movie wore on it became more to my liking. the story takes place in 1914 and is about a guy named milo. milo believes in the fabled atlantis. along with friends of his grandfather, he embarks on an amazing adventure of his own. along the way, he must endear friendship, betrayal, trust, and more. the voice cast is great. they surely know how to carry movies with only their voice talent. the music is nothing special but likable anyway. the animation is not the best, but it is still good enough. overall, this is a good family movie for all ages. i rate this movie 9/10.</td>\n",
              "      <td>1</td>\n",
              "    </tr>\n",
              "    <tr>\n",
              "      <th>24894</th>\n",
              "      <td>i thought this series was going to be another fun, action series with some dynamic plots and great performances. i was wrong. while i like jamie denton, this show is hardly worth watching at all, unless you enjoy watching some people brutalized and the actions of the agents supposedly warranted under the theme of \"national security.\" the show is great propaganda for the current government, and spews out jingoism as though we talk that way every day. after a couple of episodes, it was boring the hell out of me, and i started watching reruns of house invaders on bbcamerica instead. rather watch csi and without a trace, without a doubt.</td>\n",
              "      <td>0</td>\n",
              "    </tr>\n",
              "    <tr>\n",
              "      <th>29828</th>\n",
              "      <td>i saw this movie as a very young girl (i'm 27 now) and it scared me witless for years. i had nightmares about every aspect of this film from the way it was drawn to the music to (obviously) the violence. my parents still argue about who allowed me to watch it and both of them say that they would never let me watch such a movie. i think they only say that knowing that i have such strong feelings about it ;0) i am currently reading the book (out of morbid curiosity and the fact that it's a classic) and it is really a great story. however i don't think that it should have been made into a cartoon. ever. well, maybe kids nowadays would find it quaint but it gave me nightmares for weeks and weeks and i still have a hard time seeing rabbits drawn in a similar way. gives me a little heart palpitation every time. yah i am a wuss but i strongly suggest that any parent looking to show this movie to their kids, read them the book instead or watch it first to make certain that they approve of the content. not everyone finds it as disturbing as i did but we are out there ;0)</td>\n",
              "      <td>0</td>\n",
              "    </tr>\n",
              "  </tbody>\n",
              "</table>\n",
              "<p>25000 rows × 2 columns</p>\n",
              "</div>\n",
              "      <button class=\"colab-df-convert\" onclick=\"convertToInteractive('df-8ee8d41c-d650-4804-abcb-6970ac7a4cfb')\"\n",
              "              title=\"Convert this dataframe to an interactive table.\"\n",
              "              style=\"display:none;\">\n",
              "        \n",
              "  <svg xmlns=\"http://www.w3.org/2000/svg\" height=\"24px\"viewBox=\"0 0 24 24\"\n",
              "       width=\"24px\">\n",
              "    <path d=\"M0 0h24v24H0V0z\" fill=\"none\"/>\n",
              "    <path d=\"M18.56 5.44l.94 2.06.94-2.06 2.06-.94-2.06-.94-.94-2.06-.94 2.06-2.06.94zm-11 1L8.5 8.5l.94-2.06 2.06-.94-2.06-.94L8.5 2.5l-.94 2.06-2.06.94zm10 10l.94 2.06.94-2.06 2.06-.94-2.06-.94-.94-2.06-.94 2.06-2.06.94z\"/><path d=\"M17.41 7.96l-1.37-1.37c-.4-.4-.92-.59-1.43-.59-.52 0-1.04.2-1.43.59L10.3 9.45l-7.72 7.72c-.78.78-.78 2.05 0 2.83L4 21.41c.39.39.9.59 1.41.59.51 0 1.02-.2 1.41-.59l7.78-7.78 2.81-2.81c.8-.78.8-2.07 0-2.86zM5.41 20L4 18.59l7.72-7.72 1.47 1.35L5.41 20z\"/>\n",
              "  </svg>\n",
              "      </button>\n",
              "      \n",
              "  <style>\n",
              "    .colab-df-container {\n",
              "      display:flex;\n",
              "      flex-wrap:wrap;\n",
              "      gap: 12px;\n",
              "    }\n",
              "\n",
              "    .colab-df-convert {\n",
              "      background-color: #E8F0FE;\n",
              "      border: none;\n",
              "      border-radius: 50%;\n",
              "      cursor: pointer;\n",
              "      display: none;\n",
              "      fill: #1967D2;\n",
              "      height: 32px;\n",
              "      padding: 0 0 0 0;\n",
              "      width: 32px;\n",
              "    }\n",
              "\n",
              "    .colab-df-convert:hover {\n",
              "      background-color: #E2EBFA;\n",
              "      box-shadow: 0px 1px 2px rgba(60, 64, 67, 0.3), 0px 1px 3px 1px rgba(60, 64, 67, 0.15);\n",
              "      fill: #174EA6;\n",
              "    }\n",
              "\n",
              "    [theme=dark] .colab-df-convert {\n",
              "      background-color: #3B4455;\n",
              "      fill: #D2E3FC;\n",
              "    }\n",
              "\n",
              "    [theme=dark] .colab-df-convert:hover {\n",
              "      background-color: #434B5C;\n",
              "      box-shadow: 0px 1px 3px 1px rgba(0, 0, 0, 0.15);\n",
              "      filter: drop-shadow(0px 1px 2px rgba(0, 0, 0, 0.3));\n",
              "      fill: #FFFFFF;\n",
              "    }\n",
              "  </style>\n",
              "\n",
              "      <script>\n",
              "        const buttonEl =\n",
              "          document.querySelector('#df-8ee8d41c-d650-4804-abcb-6970ac7a4cfb button.colab-df-convert');\n",
              "        buttonEl.style.display =\n",
              "          google.colab.kernel.accessAllowed ? 'block' : 'none';\n",
              "\n",
              "        async function convertToInteractive(key) {\n",
              "          const element = document.querySelector('#df-8ee8d41c-d650-4804-abcb-6970ac7a4cfb');\n",
              "          const dataTable =\n",
              "            await google.colab.kernel.invokeFunction('convertToInteractive',\n",
              "                                                     [key], {});\n",
              "          if (!dataTable) return;\n",
              "\n",
              "          const docLinkHtml = 'Like what you see? Visit the ' +\n",
              "            '<a target=\"_blank\" href=https://colab.research.google.com/notebooks/data_table.ipynb>data table notebook</a>'\n",
              "            + ' to learn more about interactive tables.';\n",
              "          element.innerHTML = '';\n",
              "          dataTable['output_type'] = 'display_data';\n",
              "          await google.colab.output.renderOutput(dataTable, element);\n",
              "          const docLink = document.createElement('div');\n",
              "          docLink.innerHTML = docLinkHtml;\n",
              "          element.appendChild(docLink);\n",
              "        }\n",
              "      </script>\n",
              "    </div>\n",
              "  </div>\n",
              "  "
            ]
          },
          "metadata": {}
        }
      ],
      "source": [
        "# Remove HTML tags using regex\n",
        "def remove_html(text):\n",
        "    return BeautifulSoup(text, \"lxml\").text\n",
        "training_data['review']= training_data['review'].apply(lambda text: remove_html(text))\n",
        "\n",
        "# Remove URLs using regex\n",
        "# this is most commonly http:// links\n",
        "# however it is to be noted that there may be URLs with .com and no http:// that may be present\n",
        "training_data['review'] = training_data['review'].str.replace('http\\S+|www.\\S+', '', case=False)\n",
        "\n",
        "\n",
        "# Display data\n",
        "with pd.option_context('display.max_colwidth', None):\n",
        "  display(training_data)\n"
      ]
    },
    {
      "cell_type": "code",
      "execution_count": null,
      "metadata": {
        "id": "gpDnB5iQZLF6"
      },
      "outputs": [],
      "source": [
        "# below are a declaration of some of the most common contractions\n",
        "import re\n",
        "cList = {\n",
        "  \"ain't\": \"am not\",\n",
        "  \"aren't\": \"are not\",\n",
        "  \"can't\": \"cannot\",\n",
        "  \"can't've\": \"cannot have\",\n",
        "  \"'cause\": \"because\",\n",
        "  \"could've\": \"could have\",\n",
        "  \"couldn't\": \"could not\",\n",
        "  \"couldn't've\": \"could not have\",\n",
        "  \"didn't\": \"did not\",\n",
        "  \"doesn't\": \"does not\",\n",
        "  \"don't\": \"do not\",\n",
        "  \"hadn't\": \"had not\",\n",
        "  \"hadn't've\": \"had not have\",\n",
        "  \"hasn't\": \"has not\",\n",
        "  \"haven't\": \"have not\",\n",
        "  \"he'd\": \"he would\",\n",
        "  \"he'd've\": \"he would have\",\n",
        "  \"he'll\": \"he will\",\n",
        "  \"he'll've\": \"he will have\",\n",
        "  \"he's\": \"he is\",\n",
        "  \"how'd\": \"how did\",\n",
        "  \"how'd'y\": \"how do you\",\n",
        "  \"how'll\": \"how will\",\n",
        "  \"how's\": \"how is\",\n",
        "  \"I'd\": \"I would\",\n",
        "  \"I'd've\": \"I would have\",\n",
        "  \"I'll\": \"I will\",\n",
        "  \"I'll've\": \"I will have\",\n",
        "  \"I'm\": \"I am\",\n",
        "  \"I've\": \"I have\",\n",
        "  \"isn't\": \"is not\",\n",
        "  \"it'd\": \"it had\",\n",
        "  \"it'd've\": \"it would have\",\n",
        "  \"it'll\": \"it will\",\n",
        "  \"it'll've\": \"it will have\",\n",
        "  \"it's\": \"it is\",\n",
        "  \"let's\": \"let us\",\n",
        "  \"ma'am\": \"madam\",\n",
        "  \"mayn't\": \"may not\",\n",
        "  \"might've\": \"might have\",\n",
        "  \"mightn't\": \"might not\",\n",
        "  \"mightn't've\": \"might not have\",\n",
        "  \"must've\": \"must have\",\n",
        "  \"mustn't\": \"must not\",\n",
        "  \"mustn't've\": \"must not have\",\n",
        "  \"needn't\": \"need not\",\n",
        "  \"needn't've\": \"need not have\",\n",
        "  \"o'clock\": \"of the clock\",\n",
        "  \"oughtn't\": \"ought not\",\n",
        "  \"oughtn't've\": \"ought not have\",\n",
        "  \"shan't\": \"shall not\",\n",
        "  \"sha'n't\": \"shall not\",\n",
        "  \"shan't've\": \"shall not have\",\n",
        "  \"she'd\": \"she would\",\n",
        "  \"she'd've\": \"she would have\",\n",
        "  \"she'll\": \"she will\",\n",
        "  \"she'll've\": \"she will have\",\n",
        "  \"she's\": \"she is\",\n",
        "  \"should've\": \"should have\",\n",
        "  \"shouldn't\": \"should not\",\n",
        "  \"shouldn't've\": \"should not have\",\n",
        "  \"so've\": \"so have\",\n",
        "  \"so's\": \"so is\",\n",
        "  \"that'd\": \"that would\",\n",
        "  \"that'd've\": \"that would have\",\n",
        "  \"that's\": \"that is\",\n",
        "  \"there'd\": \"there had\",\n",
        "  \"there'd've\": \"there would have\",\n",
        "  \"there's\": \"there is\",\n",
        "  \"they'd\": \"they would\",\n",
        "  \"they'd've\": \"they would have\",\n",
        "  \"they'll\": \"they will\",\n",
        "  \"they'll've\": \"they will have\",\n",
        "  \"they're\": \"they are\",\n",
        "  \"they've\": \"they have\",\n",
        "  \"to've\": \"to have\",\n",
        "  \"wasn't\": \"was not\",\n",
        "  \"we'd\": \"we had\",\n",
        "  \"we'd've\": \"we would have\",\n",
        "  \"we'll\": \"we will\",\n",
        "  \"we'll've\": \"we will have\",\n",
        "  \"we're\": \"we are\",\n",
        "  \"we've\": \"we have\",\n",
        "  \"weren't\": \"were not\",\n",
        "  \"what'll\": \"what will\",\n",
        "  \"what'll've\": \"what will have\",\n",
        "  \"what're\": \"what are\",\n",
        "  \"what's\": \"what is\",\n",
        "  \"what've\": \"what have\",\n",
        "  \"when's\": \"when is\",\n",
        "  \"when've\": \"when have\",\n",
        "  \"where'd\": \"where did\",\n",
        "  \"where's\": \"where is\",\n",
        "  \"where've\": \"where have\",\n",
        "  \"who'll\": \"who will\",\n",
        "  \"who'll've\": \"who will have\",\n",
        "  \"who's\": \"who is\",\n",
        "  \"who've\": \"who have\",\n",
        "  \"why's\": \"why is\",\n",
        "  \"why've\": \"why have\",\n",
        "  \"will've\": \"will have\",\n",
        "  \"won't\": \"will not\",\n",
        "  \"won't've\": \"will not have\",\n",
        "  \"would've\": \"would have\",\n",
        "  \"wouldn't\": \"would not\",\n",
        "  \"wouldn't've\": \"would not have\",\n",
        "  \"y'all\": \"you all\",\n",
        "  \"y'alls\": \"you alls\",\n",
        "  \"y'all'd\": \"you all would\",\n",
        "  \"y'all'd've\": \"you all would have\",\n",
        "  \"y'all're\": \"you all are\",\n",
        "  \"y'all've\": \"you all have\",\n",
        "  \"you'd\": \"you had\",\n",
        "  \"you'd've\": \"you would have\",\n",
        "  \"you'll\": \"you you will\",\n",
        "  \"you'll've\": \"you you will have\",\n",
        "  \"you're\": \"you are\",\n",
        "  \"you've\": \"you have\"\n",
        "}\n",
        "\n",
        "# complie regular expression pattern into a regex pattern object\n",
        "c_re = re.compile('(%s)' % '|'.join(cList.keys()))\n",
        "\n",
        "# look for regex pattern in string and replace if found\n",
        "def expandContractions(text, c_re=c_re):\n",
        "    def replace(match):\n",
        "        return cList[match.group(0)]\n",
        "    return c_re.sub(replace, text)\n",
        "\n",
        "training_data[\"review\"] = training_data[\"review\"].apply(lambda text: expandContractions(text))\n"
      ]
    },
    {
      "cell_type": "code",
      "execution_count": null,
      "metadata": {
        "colab": {
          "base_uri": "https://localhost:8080/",
          "height": 363
        },
        "id": "x_-rsk3MIzji",
        "outputId": "e3482239-6e13-45e7-8bea-b8a634ebc7e4"
      },
      "outputs": [
        {
          "output_type": "execute_result",
          "data": {
            "text/plain": [
              "                                                  review  sentiment\n",
              "45069  garde à vue has to be seen a number of times i...          1\n",
              "46485  the concept was ok but hardly original the act...          0\n",
              "45857  while movie titles contains the word mother th...          1\n",
              "15043  deep blood its one of those movies you here ab...          1\n",
              "25586  avast slight spoilers ahead i got this tape fr...          0\n",
              "1063   like the other comments says this might be sur...          0\n",
              "17734  bridget fonda has disappointed me several time...          1\n",
              "30996  it is a well known fact that when gene roddenb...          1\n",
              "19213  no idea how this is rated as high as it is 58 ...          0\n",
              "12079  i had always heard about this great miniseries...          1"
            ],
            "text/html": [
              "\n",
              "  <div id=\"df-5d3745d8-5dcd-4a1e-9a0e-636159916760\">\n",
              "    <div class=\"colab-df-container\">\n",
              "      <div>\n",
              "<style scoped>\n",
              "    .dataframe tbody tr th:only-of-type {\n",
              "        vertical-align: middle;\n",
              "    }\n",
              "\n",
              "    .dataframe tbody tr th {\n",
              "        vertical-align: top;\n",
              "    }\n",
              "\n",
              "    .dataframe thead th {\n",
              "        text-align: right;\n",
              "    }\n",
              "</style>\n",
              "<table border=\"1\" class=\"dataframe\">\n",
              "  <thead>\n",
              "    <tr style=\"text-align: right;\">\n",
              "      <th></th>\n",
              "      <th>review</th>\n",
              "      <th>sentiment</th>\n",
              "    </tr>\n",
              "  </thead>\n",
              "  <tbody>\n",
              "    <tr>\n",
              "      <th>45069</th>\n",
              "      <td>garde à vue has to be seen a number of times i...</td>\n",
              "      <td>1</td>\n",
              "    </tr>\n",
              "    <tr>\n",
              "      <th>46485</th>\n",
              "      <td>the concept was ok but hardly original the act...</td>\n",
              "      <td>0</td>\n",
              "    </tr>\n",
              "    <tr>\n",
              "      <th>45857</th>\n",
              "      <td>while movie titles contains the word mother th...</td>\n",
              "      <td>1</td>\n",
              "    </tr>\n",
              "    <tr>\n",
              "      <th>15043</th>\n",
              "      <td>deep blood its one of those movies you here ab...</td>\n",
              "      <td>1</td>\n",
              "    </tr>\n",
              "    <tr>\n",
              "      <th>25586</th>\n",
              "      <td>avast slight spoilers ahead i got this tape fr...</td>\n",
              "      <td>0</td>\n",
              "    </tr>\n",
              "    <tr>\n",
              "      <th>1063</th>\n",
              "      <td>like the other comments says this might be sur...</td>\n",
              "      <td>0</td>\n",
              "    </tr>\n",
              "    <tr>\n",
              "      <th>17734</th>\n",
              "      <td>bridget fonda has disappointed me several time...</td>\n",
              "      <td>1</td>\n",
              "    </tr>\n",
              "    <tr>\n",
              "      <th>30996</th>\n",
              "      <td>it is a well known fact that when gene roddenb...</td>\n",
              "      <td>1</td>\n",
              "    </tr>\n",
              "    <tr>\n",
              "      <th>19213</th>\n",
              "      <td>no idea how this is rated as high as it is 58 ...</td>\n",
              "      <td>0</td>\n",
              "    </tr>\n",
              "    <tr>\n",
              "      <th>12079</th>\n",
              "      <td>i had always heard about this great miniseries...</td>\n",
              "      <td>1</td>\n",
              "    </tr>\n",
              "  </tbody>\n",
              "</table>\n",
              "</div>\n",
              "      <button class=\"colab-df-convert\" onclick=\"convertToInteractive('df-5d3745d8-5dcd-4a1e-9a0e-636159916760')\"\n",
              "              title=\"Convert this dataframe to an interactive table.\"\n",
              "              style=\"display:none;\">\n",
              "        \n",
              "  <svg xmlns=\"http://www.w3.org/2000/svg\" height=\"24px\"viewBox=\"0 0 24 24\"\n",
              "       width=\"24px\">\n",
              "    <path d=\"M0 0h24v24H0V0z\" fill=\"none\"/>\n",
              "    <path d=\"M18.56 5.44l.94 2.06.94-2.06 2.06-.94-2.06-.94-.94-2.06-.94 2.06-2.06.94zm-11 1L8.5 8.5l.94-2.06 2.06-.94-2.06-.94L8.5 2.5l-.94 2.06-2.06.94zm10 10l.94 2.06.94-2.06 2.06-.94-2.06-.94-.94-2.06-.94 2.06-2.06.94z\"/><path d=\"M17.41 7.96l-1.37-1.37c-.4-.4-.92-.59-1.43-.59-.52 0-1.04.2-1.43.59L10.3 9.45l-7.72 7.72c-.78.78-.78 2.05 0 2.83L4 21.41c.39.39.9.59 1.41.59.51 0 1.02-.2 1.41-.59l7.78-7.78 2.81-2.81c.8-.78.8-2.07 0-2.86zM5.41 20L4 18.59l7.72-7.72 1.47 1.35L5.41 20z\"/>\n",
              "  </svg>\n",
              "      </button>\n",
              "      \n",
              "  <style>\n",
              "    .colab-df-container {\n",
              "      display:flex;\n",
              "      flex-wrap:wrap;\n",
              "      gap: 12px;\n",
              "    }\n",
              "\n",
              "    .colab-df-convert {\n",
              "      background-color: #E8F0FE;\n",
              "      border: none;\n",
              "      border-radius: 50%;\n",
              "      cursor: pointer;\n",
              "      display: none;\n",
              "      fill: #1967D2;\n",
              "      height: 32px;\n",
              "      padding: 0 0 0 0;\n",
              "      width: 32px;\n",
              "    }\n",
              "\n",
              "    .colab-df-convert:hover {\n",
              "      background-color: #E2EBFA;\n",
              "      box-shadow: 0px 1px 2px rgba(60, 64, 67, 0.3), 0px 1px 3px 1px rgba(60, 64, 67, 0.15);\n",
              "      fill: #174EA6;\n",
              "    }\n",
              "\n",
              "    [theme=dark] .colab-df-convert {\n",
              "      background-color: #3B4455;\n",
              "      fill: #D2E3FC;\n",
              "    }\n",
              "\n",
              "    [theme=dark] .colab-df-convert:hover {\n",
              "      background-color: #434B5C;\n",
              "      box-shadow: 0px 1px 3px 1px rgba(0, 0, 0, 0.15);\n",
              "      filter: drop-shadow(0px 1px 2px rgba(0, 0, 0, 0.3));\n",
              "      fill: #FFFFFF;\n",
              "    }\n",
              "  </style>\n",
              "\n",
              "      <script>\n",
              "        const buttonEl =\n",
              "          document.querySelector('#df-5d3745d8-5dcd-4a1e-9a0e-636159916760 button.colab-df-convert');\n",
              "        buttonEl.style.display =\n",
              "          google.colab.kernel.accessAllowed ? 'block' : 'none';\n",
              "\n",
              "        async function convertToInteractive(key) {\n",
              "          const element = document.querySelector('#df-5d3745d8-5dcd-4a1e-9a0e-636159916760');\n",
              "          const dataTable =\n",
              "            await google.colab.kernel.invokeFunction('convertToInteractive',\n",
              "                                                     [key], {});\n",
              "          if (!dataTable) return;\n",
              "\n",
              "          const docLinkHtml = 'Like what you see? Visit the ' +\n",
              "            '<a target=\"_blank\" href=https://colab.research.google.com/notebooks/data_table.ipynb>data table notebook</a>'\n",
              "            + ' to learn more about interactive tables.';\n",
              "          element.innerHTML = '';\n",
              "          dataTable['output_type'] = 'display_data';\n",
              "          await google.colab.output.renderOutput(dataTable, element);\n",
              "          const docLink = document.createElement('div');\n",
              "          docLink.innerHTML = docLinkHtml;\n",
              "          element.appendChild(docLink);\n",
              "        }\n",
              "      </script>\n",
              "    </div>\n",
              "  </div>\n",
              "  "
            ]
          },
          "metadata": {},
          "execution_count": 73
        }
      ],
      "source": [
        "# Remove punctuation\n",
        "\n",
        "# import punctuation list from string library\n",
        "Punct_List = string.punctuation\n",
        "\n",
        "# Create a one-to-one mapping of characters in a string an removes punctuations from list\n",
        "def removePunctuation(text):\n",
        "  return text.translate(str.maketrans('', '', Punct_List))\n",
        "\n",
        "training_data[\"review\"] = training_data['review'].apply(lambda text: removePunctuation(text))\n",
        "training_data.head(10)"
      ]
    },
    {
      "cell_type": "code",
      "execution_count": null,
      "metadata": {
        "id": "tdagqypncSB9",
        "colab": {
          "base_uri": "https://localhost:8080/",
          "height": 1000
        },
        "outputId": "7e557986-e83f-4c30-c6dd-d18d680be633"
      },
      "outputs": [
        {
          "output_type": "display_data",
          "data": {
            "text/plain": [
              "45069                                                                                                                                                                                                                                                                                                                                                                                                                                                                                                                                                                                                                                                                                                                                                                                                                                                                                                                                                                                                                                                                                                                                                                                                                                                                                                                                                                                                                                                                                                                                                                                                                                                                                                                                                                   garde à vue has to be seen a number of times in order to understand the subplots it contains if you are not used to french wordy films based upon conversation and battle of wits rather than on action do not even try to watch it you you will only obtain boredom to death and reassured opinion that french movies are not for yougarde à vue is a wordy film essentially based upon dialogs written by audiard by the wayand it cruelly cuts the veil of appearanceswhy does maître martineau serrault prefer to be unduly accused of being a child murderer rather than telling the truth  because at the time of the murder he was with a 18 years old girl with which he has a 8years sexual relation his wife knows it she is jealous of it and he prefers to be executed in 1980 in france there was still death penaltyrather than unveiling the sole pure and innocent aspect of his pitiful life\n",
              "46485                                                                                                                                                                                                                                                                                                                                                                                                                                                                                                                                                                                                                                                                                                                                                                                                                                                                                                                                                                                                                                                                                                                                                                                                                                                                                                                                                                                                                                                                                                                                                                                                                                                                                                                                                                                                                                                                                                                                                                                                                                                                                                                                                                                                                                                                                                                                                                                                 the concept was ok but hardly original the acting was plastic but the real spoiler was that there was only one joke and a grubby one at that this is a film for fourteen year olds who have been let out on their own for the first time do not dare to watch it with your kids\n",
              "45857    while movie titles contains the word mother the first thing that comes to our mind will be a mothers love for her childrenhowever the mother tells a different storythe mother do not discuss the love between a mother and her child or how she sacrifice herself for the benefit of her child here notting hill director roger michell tells us how a mothers love for a man about half of her age hurts the people around herbefore daniel craig takes on the role of james bond here he plays darren a man who is helping to renovate the house of the son of the mother and sleeping with her daughter as well anne reid who was a familiar face on tv series takes up the challenging role of the leading character maythe story begins with may coping with the sudden loss of her husband toots in a family visit to her son bobby while she befriends darren a handyman who is doing some renovation in bobbys house she was shocked to found out that her daughter paula was sleeping with darren at the same time may was coping with life after the death of toots fearing that harry and paula do not wanted her may starts to find her life going off track until she spends her afternoon with darrendarren was nice and friendly to may and may soon finds some affection on darren instead of treating him like a friend she treated the man who was about half her age with love of a couple later may found sexual pleasure from darren where he gave her the pleasure she could never find on anyone else and this is the beginning of the disaster that could lead to the break down of a familythe mother explores the inner world of a widow who wanted to try something she never had in her life and solace on someone who is there for her to shoulder on this can be told from may buying tea time snacks for darren to fulfilling sexual needs from a man younger than her where it eventually gave her more than she bargained foranne reid has made a breakthrough for her role of may as she was previously best well known for her various role on tv series as she do not have much movies in her career resume the mother has put her on the critics attention daniel craig on the other hand had took on a similar role in his movie career such as sylvia 2003 and enduring love 2004 if his reprising role of james bond fails film reviewers should not forget that he has a better performance in small productions in his years of movie career and the mother is one of themthe mother may not be everyones favorite but it is definitely not your usual matinée show to go along with tea and scones accompanied by butter and jam\n",
              "15043                                                                                                                                                                                                                                                                                                                                                                                                                                                                                                                                                                                                                                                                                                                                                                                                                                                                                                                                                                                                                                                                                                                                                                                                                                                                                                                                    deep blood its one of those movies you here about and you say not another italian jaws ripoff well deep blood is far from that it is a cheap as film making can get and on the other side it is creative as well in jaws and all the other shark films we all have seen or herd about they all use fake made sharks well in joe damatos film he takes a new approach by using all stock footage for his shark scenes this is one of the many reasons i like deep blood so much is because it did not use stock footagein deep blood an ancient indian spirit terrorizes a beach town in the form of a bloodthirsty shark in joe damatos shark classic deep bloodit seems that a native american elder once warned a group of youngsters about this great evil in the sea and years later the friends are forced to face their fears when one of them is killed by a shark in a series of attacks along their coastline now it is up to the remaining few to make sure that this monster is killed even if it means heading out to sea to do itjoe damato directed and produced this film under his company the filmirage released in 1989 and was later used in bruno matteis cruel jaws jaws 5 along with many other shark films joe damatos shark entry is a great film and any joe damato fan of shark movie watcher should give it a try\n",
              "25586                                                                                                                                                                                                                                                                                                                                                                                                                                                                                                                                                                                                                                                                                                                                                                                                                                                                       avast slight spoilers ahead i got this tape from my local library which keeps a copy for obvious reasonsi once went to the town of matewan west virginia and in a little museum there i saw the schedule for the town theatre citra may 1954 movies would change at the theatre each day as there would be no tv for another decade or so in those parts this was much of the available entertainment in the town the raid seems to have been made for towns like matewan in the 1950s although it was not listed for that month i am sure showed there some monday or tuesday night for an audience which probably was not too demanding the historical raid  daring and remarkably successful  did not seem to have been very well researched so the movie is full of hollywood embellishments including a loose cannon played by lee marvin marvin uses the opportunity to practice being liberty valance and st albans seems to have had more yankee soldiers coming and going through the town than washington dc hadwhat really made me snicker was when the raiders change into their confederate uniforms only in tacky civil war paintings do rebel uniforms look so pristine when anne bancrofts son catches van heflin in his uniform just before the raid i expected the boy to think it was halloweenand then there is anne bancroft herself while watching the movie i actually looked on the imdb to see if there was a second anne bancroft the thenstudio contract actress looks nothing like in her later films and has none of the presence she would later have in the miracle worker agnes of god and of course the graduateworth seeing if only 1 you live in st albans and 2 you have a couple hours to kill on a hollywood fictionalization of your home towns biggest news story\n",
              "                                                                                                                                                                                                                                                                                                                                                                                                                                                                                                                                                                                                                                                                                                                                                                                                                                                                                                                                                                                                                                                                                                                                                                                                                                                                                                                                             ...                                                                                                                                                                                                                                                                                                                                                                                                                                                                                                                                                                                                                                                                                                                                                                                                                                                                                                                                                                                                                                                                                                                                                                                                                                                                                                                                     \n",
              "35702                                                                                                                                                                                                                                                                                                                                                                                                                                                                                                                                                                                                                                                                                                                                                                                                                                                                                                                                                                                                                                                                                                                                                                                                                                                                                                                                                                                                                                                                                                                             in a not totally successful attempt to be taken seriously and move into adult films mr hughes gives us this film about a young married couple true it is got every cliche in the book in it silly fantasy stuff and all that but more importantly it is got elizabeth mcgovernclearly the best actress to have ever appeared in a john hughes film she lends a weight to it that elevates the sometimes silly material kevin bacon and his hair is pretty good as her husband but mcgovern steals the movie with her quiet true moments of honesty the teen film fun that worked so well in other hughes films falls flat here like a favorite uncle whose jokes made you laugh when you were 9 but keeps telling them when you are 15 and you wish he would find some new material but i keep going back to mcgoverns performance because it is truly moving mr hughes most interesting films to me have real actors in them some kind of wonderful breakfast club and when his material bumps up against a true talent some wonderful things can happen if only he would trust that it does not have to be tarted up with the silly fantasy stuff\n",
              "26767                                                                                                                                                                                                                                                                                                                                                                                                                                                                                                                                                                                                                                                                                                                                                                                                                                                                                                                                                                                                                                                                                                                                                                                                                                                                                                                                                                                                                                                                                                                                                                                    the case of the scorpions tail is a highly stylish giallo directed by sergio martino who appears to be a giallo master second only to dario argentoernesto gastaldi wrote this fabulous whodunnit quite complex but ultimately very satisfying and entertaining murder mystery it also makes sense in the end a big plus because that is not always the case for these giallos as they tend to stretch credibility with their endless redherrings and ultimate solutions here the less you know about the plot the betterpure giallo trademarks present here are the beautiful cinematography the catchy music score the gorgeous females anita strindberg is a goddess brutal murders black gloved murderers and explicit sex scenes to name a fewin most parts it is decently acted goerge hilton his usually suave self and others do fairly well martino directs with a sure hand keeps things tight and atmospheric with some terrific set piecesif you are a giallo fan this is a must see if you like well written and suspenseful thrillers in general this comes highly recommended\n",
              "6618                                                                                                                                                                                                                                                                                                                                                                                                                                                                                                                                                                                                                                                                                                                                                                                                                                                                                                                                                                                                                                                                                                                                                                                                                                                                                                                                                                                                                                                                                                                                                                                                                                                                                                                                                                                                                                                                                                                                             atlantis the lost empire is a better movie than i thought i never thought this movie would lead to my expectations true this movie started slow but as the movie wore on it became more to my liking the story takes place in 1914 and is about a guy named milo milo believes in the fabled atlantis along with friends of his grandfather he embarks on an amazing adventure of his own along the way he must endear friendship betrayal trust and more the voice cast is great they surely know how to carry movies with only their voice talent the music is nothing special but likable anyway the animation is not the best but it is still good enough overall this is a good family movie for all ages i rate this movie 910\n",
              "24894                                                                                                                                                                                                                                                                                                                                                                                                                                                                                                                                                                                                                                                                                                                                                                                                                                                                                                                                                                                                                                                                                                                                                                                                                                                                                                                                                                                                                                                                                                                                                                                                                                                                                                                                                                                                                                                                                                                                                                                                                              i thought this series was going to be another fun action series with some dynamic plots and great performances i was wrong while i like jamie denton this show is hardly worth watching at all unless you enjoy watching some people brutalized and the actions of the agents supposedly warranted under the theme of national security the show is great propaganda for the current government and spews out jingoism as though we talk that way every day after a couple of episodes it was boring the hell out of me and i started watching reruns of house invaders on bbcamerica instead rather watch csi and without a trace without a doubt\n",
              "29828                                                                                                                                                                                                                                                                                                                                                                                                                                                                                                                                                                                                                                                                                                                                                                                                                                                                                                                                                                                                                                                                                                                                                                                                                                                                                                                                                                                                                                                                                                                                                                              i saw this movie as a very young girl im 27 now and it scared me witless for years i had nightmares about every aspect of this film from the way it was drawn to the music to obviously the violence my parents still argue about who allowed me to watch it and both of them say that they would never let me watch such a movie i think they only say that knowing that i have such strong feelings about it 0 i am currently reading the book out of morbid curiosity and the fact that it is a classic and it is really a great story however i do not think that it should have been made into a cartoon ever well maybe kids nowadays would find it quaint but it gave me nightmares for weeks and weeks and i still have a hard time seeing rabbits drawn in a similar way gives me a little heart palpitation every time yah i am a wuss but i strongly suggest that any parent looking to show this movie to their kids read them the book instead or watch it first to make certain that they approve of the content not everyone finds it as disturbing as i did but we are out there 0\n",
              "Name: review, Length: 25000, dtype: object"
            ]
          },
          "metadata": {}
        }
      ],
      "source": [
        "# Display data\n",
        "with pd.option_context('display.max_colwidth', None):\n",
        "  display(training_data['review'])"
      ]
    },
    {
      "cell_type": "code",
      "execution_count": null,
      "metadata": {
        "id": "E_WhfknFlMkL"
      },
      "outputs": [],
      "source": [
        "# Split Data into review and sentiment\n",
        "train_x, train_y = training_data['review'], training_data['sentiment']"
      ]
    },
    {
      "cell_type": "code",
      "execution_count": null,
      "metadata": {
        "colab": {
          "base_uri": "https://localhost:8080/"
        },
        "id": "kBqWqpUUwB5R",
        "outputId": "68389f50-370b-4c12-aa08-d24bf13f7138"
      },
      "outputs": [
        {
          "output_type": "stream",
          "name": "stderr",
          "text": [
            "[nltk_data] Downloading package punkt to /root/nltk_data...\n",
            "[nltk_data]   Package punkt is already up-to-date!\n",
            "[nltk_data] Downloading package stopwords to /root/nltk_data...\n",
            "[nltk_data]   Package stopwords is already up-to-date!\n"
          ]
        }
      ],
      "source": [
        "# Downloads the NLTK corpus for tokenisation which includes a pre-trained model\n",
        "nltk.download('punkt')\n",
        "# Dowloads a list of commonly occurring works \n",
        "nltk.download(\"stopwords\") \n",
        "# Accessing only english list of topwords\n",
        "STOPWORDS = nltk.corpus.stopwords.words('english')"
      ]
    },
    {
      "cell_type": "code",
      "execution_count": null,
      "metadata": {
        "id": "9YcIFXniB2Cg",
        "colab": {
          "base_uri": "https://localhost:8080/"
        },
        "outputId": "cd565314-b11d-4b22-b2eb-60290090e615"
      },
      "outputs": [
        {
          "output_type": "stream",
          "name": "stderr",
          "text": [
            "<ipython-input-78-bbdd1a854dbb>:2: FutureWarning: The default value of regex will change from True to False in a future version.\n",
            "  train_x = train_x.str.replace('\\d+', '')\n"
          ]
        }
      ],
      "source": [
        " # Removes numbers to ensure better tokenisation\n",
        "train_x = train_x.str.replace('\\d+', '')\n",
        "\n",
        "# Remove stopwords\n",
        "def removeStopwords(text):\n",
        "    return \" \".join([word for word in str(text).split() if word not in STOPWORDS])\n",
        "\n",
        "train_x = train_x.apply(lambda text: removeStopwords(text))"
      ]
    },
    {
      "cell_type": "code",
      "execution_count": null,
      "metadata": {
        "id": "M8k_P7aeVytv"
      },
      "outputs": [],
      "source": [
        "# Remove special characters using regular expression\n",
        "# re.sub replaces all occurences of a patterns in a string \n",
        "# The patterns uses a negated character [^] to match any character that does not\n",
        "# belong to (a-z), (A-Z), (0-0) or whitespace (\\s)\n",
        "def removeSpecialCharacters(text):\n",
        "  text = re.sub(r'[^a-zA-z0-9\\s]', '', text)\n",
        "  return text\n",
        "\n",
        "train_x = train_x.apply(removeSpecialCharacters)\n"
      ]
    },
    {
      "cell_type": "code",
      "source": [
        "# Tokenization\n",
        "# the lambda function is used as an argument and applies nltk.word_tokenize to each row of train_x\n",
        "train_x= train_x.apply(lambda row: nltk.word_tokenize(row))"
      ],
      "metadata": {
        "id": "ilunvRH_reQs"
      },
      "execution_count": null,
      "outputs": []
    },
    {
      "cell_type": "code",
      "source": [
        "# Lemmatization\n",
        "lemmatizer = WordNetLemmatizer()\n",
        "nltk.download('wordnet')\n",
        "nltk.download('omw-1.4')\n",
        "\n",
        "def get_pos_tag(treebank_tag):\n",
        "\n",
        "    if treebank_tag.startswith('J'):\n",
        "        return wordnet.ADJ\n",
        "    elif treebank_tag.startswith('V'):\n",
        "        return wordnet.VERB\n",
        "    elif treebank_tag.startswith('N'):\n",
        "        return wordnet.NOUN\n",
        "    elif treebank_tag.startswith('R'):\n",
        "        return wordnet.ADV\n",
        "    else:\n",
        "        return ''\n",
        "\n",
        "def textLemmatization(text):\n",
        "      text= ' '.join([lemmatizer.lemmatize(word, wordnet.VERB) for word in text])\n",
        "      return text\n",
        "\n",
        "#Apply function on review column\n",
        "train_x=train_x.apply(textLemmatization)"
      ],
      "metadata": {
        "id": "e_0Bgmrlwbnt",
        "colab": {
          "base_uri": "https://localhost:8080/"
        },
        "outputId": "3e2b0703-12e7-4a36-8cf2-91b7333b497a"
      },
      "execution_count": null,
      "outputs": [
        {
          "output_type": "stream",
          "name": "stderr",
          "text": [
            "[nltk_data] Downloading package wordnet to /root/nltk_data...\n",
            "[nltk_data]   Package wordnet is already up-to-date!\n",
            "[nltk_data] Downloading package omw-1.4 to /root/nltk_data...\n",
            "[nltk_data]   Package omw-1.4 is already up-to-date!\n"
          ]
        }
      ]
    },
    {
      "cell_type": "code",
      "source": [
        "# Use the same function for the validation set\n",
        "# train_x, val_x, train_y, val_y = train_test_split(train_x, train_y, \n",
        "#     test_size=0.2, random_state=25)"
      ],
      "metadata": {
        "id": "JVMp_AYwzb_f"
      },
      "execution_count": null,
      "outputs": []
    },
    {
      "cell_type": "code",
      "execution_count": null,
      "metadata": {
        "id": "HiPnED2FTdWh"
      },
      "outputs": [],
      "source": [
        "# pd.to_pickle(train_x, \"./training_processed_x.pkl\")\n",
        "# pd.to_pickle(train_y, \"./training_processed_y.pkl\")\n",
        "# train_x = pd.read_pickle(\"./training_untokenized_wo_stopwords_special_characters_w_STEM_LEMM.pkl\")"
      ]
    },
    {
      "cell_type": "code",
      "source": [
        "train_x = pd.read_pickle(\"./training_processed_x.pkl\")\n",
        "df2 = train_x.copy()\n",
        "\n",
        "# Finding most common words\n",
        "from collections import Counter\n",
        "cnt = Counter()\n",
        "for text in df2.values:\n",
        "    for word in text.split():\n",
        "        cnt[word] += 1\n",
        "        \n",
        "cnt.most_common(10)"
      ],
      "metadata": {
        "id": "70e2-jWRzf9n",
        "colab": {
          "base_uri": "https://localhost:8080/"
        },
        "outputId": "82d476cd-c1b3-4c57-e140-85e22dd84925"
      },
      "execution_count": null,
      "outputs": [
        {
          "output_type": "execute_result",
          "data": {
            "text/plain": [
              "[('film', 37151),\n",
              " ('movie', 33215),\n",
              " ('one', 20039),\n",
              " ('make', 17507),\n",
              " ('like', 17223),\n",
              " ('see', 16187),\n",
              " ('get', 14100),\n",
              " ('time', 12027),\n",
              " ('good', 11161),\n",
              " ('character', 10923)]"
            ]
          },
          "metadata": {},
          "execution_count": 16
        }
      ]
    },
    {
      "cell_type": "code",
      "source": [
        "# Finding rarest words\n",
        "n_rare_words = 10\n",
        "RAREWORDS = set([w for (w, wc) in cnt.most_common()[:-n_rare_words-1:-1]])\n",
        "print(RAREWORDS)"
      ],
      "metadata": {
        "id": "iU2ooAS80OJh"
      },
      "execution_count": null,
      "outputs": []
    },
    {
      "cell_type": "code",
      "source": [
        "# Finding words not available in dictionary\n",
        "nltk.download('wordnet')\n",
        "from collections import Counter\n",
        "cnt = Counter()\n",
        "for text in df2.values:\n",
        "    for word in text.split():\n",
        "        if wordnet.synsets(word):\n",
        "            break;\n",
        "        else:\n",
        "            cnt[word] += 1\n",
        "        \n",
        "cnt.most_common()"
      ],
      "metadata": {
        "id": "_ii8VXWoJtYv"
      },
      "execution_count": null,
      "outputs": []
    },
    {
      "cell_type": "code",
      "source": [
        "# Split Data into review and sentiment\n",
        "test_x, test_y = testing_data['review'], testing_data['sentiment']\n",
        "\n",
        "# Use the same function for the validation set\n",
        "# This is so the validation set can be used when the model is tuned \n",
        "train_x, val_x, train_y, val_y = train_test_split(train_x, train_y, \n",
        "    test_size=0.2, random_state=25)\n",
        "\n",
        "# Since pre-processing is a long process I have decided to convert all sets into pickle files\n",
        "# that can be used throughout the code\n",
        "pd.to_pickle(train_x, \"./training_processed_x.pkl\")\n",
        "pd.to_pickle(train_y, \"./training_processed_y.pkl\")\n",
        "\n",
        "pd.to_pickle(test_x, \"./test_x_v4.pkl\")\n",
        "pd.to_pickle(test_y, \"./test_y_v4.pkl\")\n",
        "\n",
        "pd.to_pickle(val_x, \"./val_x.pkl\")\n",
        "pd.to_pickle(val_y, \"./val_y.pkl\")\n"
      ],
      "metadata": {
        "id": "NgCpfB-p547R"
      },
      "execution_count": null,
      "outputs": []
    },
    {
      "cell_type": "markdown",
      "metadata": {
        "id": "LbNCcsOAtmWw"
      },
      "source": [
        "# Feature Distribution of Words"
      ]
    },
    {
      "cell_type": "code",
      "source": [
        "train_x = pd.read_pickle(\"./training_processed_x.pkl\")"
      ],
      "metadata": {
        "id": "baWrgxNXm25Y"
      },
      "execution_count": null,
      "outputs": []
    },
    {
      "cell_type": "code",
      "source": [
        "with pd.option_context('display.max_colwidth', None):\n",
        "  display(test_x)"
      ],
      "metadata": {
        "id": "6e_EWp0Z5Q2B"
      },
      "execution_count": null,
      "outputs": []
    },
    {
      "cell_type": "code",
      "source": [
        "with pd.option_context('display.max_colwidth', None):\n",
        "  display(train_x)"
      ],
      "metadata": {
        "id": "NHYpORzIJOKu"
      },
      "execution_count": null,
      "outputs": []
    },
    {
      "cell_type": "code",
      "source": [
        "# Distribution of all words\n",
        "df_dist = train_x.copy()\n",
        "all_words = []\n",
        "for i in df_dist.values:\n",
        "    for w in i.split():\n",
        "        all_words.append(w.lower())\n",
        "\n",
        "all_words = nltk.FreqDist(all_words)"
      ],
      "metadata": {
        "id": "C6GvcPKYMTYd"
      },
      "execution_count": null,
      "outputs": []
    },
    {
      "cell_type": "code",
      "metadata": {
        "id": "24Zw9kjQ8PyR"
      },
      "source": [
        "print('The word \"great\" was used {} times'.format(all_words['great']))\n",
        "print('The word \"best\" was used {} times'.format(all_words['best']))\n",
        "print('The word \"good\" was used {} times'.format(all_words['good']))\n",
        "print('The word \"like\" was used {} times'.format(all_words['like']))\n",
        "print('The word \"love\" was used {} times'.format(all_words['love']))\n",
        "print('The word \"mediocre\" was used {} times'.format(all_words['mediocre']))\n",
        "print('The word \"bad\" was used {} times'.format(all_words['bad']))\n",
        "print('The word \"hate\" was used {} times'.format(all_words['hate']))\n",
        "print('The word \"worst\" was used {} times'.format(all_words['worst']))"
      ],
      "execution_count": null,
      "outputs": []
    },
    {
      "cell_type": "code",
      "source": [
        "# Determine most relevant features\n",
        "word_features = [item[0] for item in all_words.most_common(10000)]"
      ],
      "metadata": {
        "id": "vSgA6bzgOuiW"
      },
      "execution_count": null,
      "outputs": []
    },
    {
      "cell_type": "code",
      "source": [
        "print('The word \"{}\" occurred {} times in our frequency distribution'.format(word_features[5], all_words[word_features[7]]))\n",
        "print('The word \"{}\" occurred {} times in our frequency distribution'.format(word_features[10], all_words[word_features[23]]))\n",
        "print('The word \"{}\" occurred {} times in our frequency distribution'.format(word_features[25], all_words[word_features[24]]))"
      ],
      "metadata": {
        "id": "XMoMCl8NPAs_"
      },
      "execution_count": null,
      "outputs": []
    },
    {
      "cell_type": "code",
      "source": [
        "# Unigram Language Model\n",
        "from collections import Counter\n",
        "df_dist = train_x.copy()\n",
        "\n",
        "count = Counter()\n",
        "for text in df_dist.values:\n",
        "    for word in text.split():\n",
        "        count[word] += 1\n",
        "        \n",
        "count.most_common(10)\n",
        "most_common_uni = dict(cnt.most_common(10))\n",
        "most_common_df = pd.DataFrame(columns = [\"Most Common Words\" , 'Count'])\n",
        "most_common_df[\"Most Common Words\"] = list(most_common_uni.keys())\n",
        "most_common_df[\"Count\"] = list(most_common_uni.values())\n",
        "\n",
        "# Plot distribution of unigram model into bar chart\n",
        "fig = px.bar(most_common_df, x=\"Count\", y=\"Most Common Words\", title='Common Unigrams', orientation='h', \n",
        "             width=700, height=700)\n",
        "fig.update_layout( yaxis={'categoryorder':'total ascending'})\n",
        "fig.show()"
      ],
      "metadata": {
        "id": "78-0oINXISg9",
        "colab": {
          "base_uri": "https://localhost:8080/",
          "height": 717
        },
        "outputId": "d1795606-47c5-4ce8-adb4-d3625327186d"
      },
      "execution_count": null,
      "outputs": [
        {
          "output_type": "display_data",
          "data": {
            "text/html": [
              "<html>\n",
              "<head><meta charset=\"utf-8\" /></head>\n",
              "<body>\n",
              "    <div>            <script src=\"https://cdnjs.cloudflare.com/ajax/libs/mathjax/2.7.5/MathJax.js?config=TeX-AMS-MML_SVG\"></script><script type=\"text/javascript\">if (window.MathJax) {MathJax.Hub.Config({SVG: {font: \"STIX-Web\"}});}</script>                <script type=\"text/javascript\">window.PlotlyConfig = {MathJaxConfig: 'local'};</script>\n",
              "        <script src=\"https://cdn.plot.ly/plotly-2.8.3.min.js\"></script>                <div id=\"7dac3d06-b704-4791-a36a-da25fd9e6e12\" class=\"plotly-graph-div\" style=\"height:700px; width:700px;\"></div>            <script type=\"text/javascript\">                                    window.PLOTLYENV=window.PLOTLYENV || {};                                    if (document.getElementById(\"7dac3d06-b704-4791-a36a-da25fd9e6e12\")) {                    Plotly.newPlot(                        \"7dac3d06-b704-4791-a36a-da25fd9e6e12\",                        [{\"alignmentgroup\":\"True\",\"hovertemplate\":\"Count=%{x}<br>Most Common Words=%{y}<extra></extra>\",\"legendgroup\":\"\",\"marker\":{\"color\":\"#636efa\",\"pattern\":{\"shape\":\"\"}},\"name\":\"\",\"offsetgroup\":\"\",\"orientation\":\"h\",\"showlegend\":false,\"textposition\":\"auto\",\"x\":[37151,33215,20039,17507,17223,16187,14100,12027,11161,10923],\"xaxis\":\"x\",\"y\":[\"film\",\"movie\",\"one\",\"make\",\"like\",\"see\",\"get\",\"time\",\"good\",\"character\"],\"yaxis\":\"y\",\"type\":\"bar\"}],                        {\"template\":{\"data\":{\"bar\":[{\"error_x\":{\"color\":\"#2a3f5f\"},\"error_y\":{\"color\":\"#2a3f5f\"},\"marker\":{\"line\":{\"color\":\"#E5ECF6\",\"width\":0.5},\"pattern\":{\"fillmode\":\"overlay\",\"size\":10,\"solidity\":0.2}},\"type\":\"bar\"}],\"barpolar\":[{\"marker\":{\"line\":{\"color\":\"#E5ECF6\",\"width\":0.5},\"pattern\":{\"fillmode\":\"overlay\",\"size\":10,\"solidity\":0.2}},\"type\":\"barpolar\"}],\"carpet\":[{\"aaxis\":{\"endlinecolor\":\"#2a3f5f\",\"gridcolor\":\"white\",\"linecolor\":\"white\",\"minorgridcolor\":\"white\",\"startlinecolor\":\"#2a3f5f\"},\"baxis\":{\"endlinecolor\":\"#2a3f5f\",\"gridcolor\":\"white\",\"linecolor\":\"white\",\"minorgridcolor\":\"white\",\"startlinecolor\":\"#2a3f5f\"},\"type\":\"carpet\"}],\"choropleth\":[{\"colorbar\":{\"outlinewidth\":0,\"ticks\":\"\"},\"type\":\"choropleth\"}],\"contour\":[{\"colorbar\":{\"outlinewidth\":0,\"ticks\":\"\"},\"colorscale\":[[0.0,\"#0d0887\"],[0.1111111111111111,\"#46039f\"],[0.2222222222222222,\"#7201a8\"],[0.3333333333333333,\"#9c179e\"],[0.4444444444444444,\"#bd3786\"],[0.5555555555555556,\"#d8576b\"],[0.6666666666666666,\"#ed7953\"],[0.7777777777777778,\"#fb9f3a\"],[0.8888888888888888,\"#fdca26\"],[1.0,\"#f0f921\"]],\"type\":\"contour\"}],\"contourcarpet\":[{\"colorbar\":{\"outlinewidth\":0,\"ticks\":\"\"},\"type\":\"contourcarpet\"}],\"heatmap\":[{\"colorbar\":{\"outlinewidth\":0,\"ticks\":\"\"},\"colorscale\":[[0.0,\"#0d0887\"],[0.1111111111111111,\"#46039f\"],[0.2222222222222222,\"#7201a8\"],[0.3333333333333333,\"#9c179e\"],[0.4444444444444444,\"#bd3786\"],[0.5555555555555556,\"#d8576b\"],[0.6666666666666666,\"#ed7953\"],[0.7777777777777778,\"#fb9f3a\"],[0.8888888888888888,\"#fdca26\"],[1.0,\"#f0f921\"]],\"type\":\"heatmap\"}],\"heatmapgl\":[{\"colorbar\":{\"outlinewidth\":0,\"ticks\":\"\"},\"colorscale\":[[0.0,\"#0d0887\"],[0.1111111111111111,\"#46039f\"],[0.2222222222222222,\"#7201a8\"],[0.3333333333333333,\"#9c179e\"],[0.4444444444444444,\"#bd3786\"],[0.5555555555555556,\"#d8576b\"],[0.6666666666666666,\"#ed7953\"],[0.7777777777777778,\"#fb9f3a\"],[0.8888888888888888,\"#fdca26\"],[1.0,\"#f0f921\"]],\"type\":\"heatmapgl\"}],\"histogram\":[{\"marker\":{\"pattern\":{\"fillmode\":\"overlay\",\"size\":10,\"solidity\":0.2}},\"type\":\"histogram\"}],\"histogram2d\":[{\"colorbar\":{\"outlinewidth\":0,\"ticks\":\"\"},\"colorscale\":[[0.0,\"#0d0887\"],[0.1111111111111111,\"#46039f\"],[0.2222222222222222,\"#7201a8\"],[0.3333333333333333,\"#9c179e\"],[0.4444444444444444,\"#bd3786\"],[0.5555555555555556,\"#d8576b\"],[0.6666666666666666,\"#ed7953\"],[0.7777777777777778,\"#fb9f3a\"],[0.8888888888888888,\"#fdca26\"],[1.0,\"#f0f921\"]],\"type\":\"histogram2d\"}],\"histogram2dcontour\":[{\"colorbar\":{\"outlinewidth\":0,\"ticks\":\"\"},\"colorscale\":[[0.0,\"#0d0887\"],[0.1111111111111111,\"#46039f\"],[0.2222222222222222,\"#7201a8\"],[0.3333333333333333,\"#9c179e\"],[0.4444444444444444,\"#bd3786\"],[0.5555555555555556,\"#d8576b\"],[0.6666666666666666,\"#ed7953\"],[0.7777777777777778,\"#fb9f3a\"],[0.8888888888888888,\"#fdca26\"],[1.0,\"#f0f921\"]],\"type\":\"histogram2dcontour\"}],\"mesh3d\":[{\"colorbar\":{\"outlinewidth\":0,\"ticks\":\"\"},\"type\":\"mesh3d\"}],\"parcoords\":[{\"line\":{\"colorbar\":{\"outlinewidth\":0,\"ticks\":\"\"}},\"type\":\"parcoords\"}],\"pie\":[{\"automargin\":true,\"type\":\"pie\"}],\"scatter\":[{\"marker\":{\"colorbar\":{\"outlinewidth\":0,\"ticks\":\"\"}},\"type\":\"scatter\"}],\"scatter3d\":[{\"line\":{\"colorbar\":{\"outlinewidth\":0,\"ticks\":\"\"}},\"marker\":{\"colorbar\":{\"outlinewidth\":0,\"ticks\":\"\"}},\"type\":\"scatter3d\"}],\"scattercarpet\":[{\"marker\":{\"colorbar\":{\"outlinewidth\":0,\"ticks\":\"\"}},\"type\":\"scattercarpet\"}],\"scattergeo\":[{\"marker\":{\"colorbar\":{\"outlinewidth\":0,\"ticks\":\"\"}},\"type\":\"scattergeo\"}],\"scattergl\":[{\"marker\":{\"colorbar\":{\"outlinewidth\":0,\"ticks\":\"\"}},\"type\":\"scattergl\"}],\"scattermapbox\":[{\"marker\":{\"colorbar\":{\"outlinewidth\":0,\"ticks\":\"\"}},\"type\":\"scattermapbox\"}],\"scatterpolar\":[{\"marker\":{\"colorbar\":{\"outlinewidth\":0,\"ticks\":\"\"}},\"type\":\"scatterpolar\"}],\"scatterpolargl\":[{\"marker\":{\"colorbar\":{\"outlinewidth\":0,\"ticks\":\"\"}},\"type\":\"scatterpolargl\"}],\"scatterternary\":[{\"marker\":{\"colorbar\":{\"outlinewidth\":0,\"ticks\":\"\"}},\"type\":\"scatterternary\"}],\"surface\":[{\"colorbar\":{\"outlinewidth\":0,\"ticks\":\"\"},\"colorscale\":[[0.0,\"#0d0887\"],[0.1111111111111111,\"#46039f\"],[0.2222222222222222,\"#7201a8\"],[0.3333333333333333,\"#9c179e\"],[0.4444444444444444,\"#bd3786\"],[0.5555555555555556,\"#d8576b\"],[0.6666666666666666,\"#ed7953\"],[0.7777777777777778,\"#fb9f3a\"],[0.8888888888888888,\"#fdca26\"],[1.0,\"#f0f921\"]],\"type\":\"surface\"}],\"table\":[{\"cells\":{\"fill\":{\"color\":\"#EBF0F8\"},\"line\":{\"color\":\"white\"}},\"header\":{\"fill\":{\"color\":\"#C8D4E3\"},\"line\":{\"color\":\"white\"}},\"type\":\"table\"}]},\"layout\":{\"annotationdefaults\":{\"arrowcolor\":\"#2a3f5f\",\"arrowhead\":0,\"arrowwidth\":1},\"autotypenumbers\":\"strict\",\"coloraxis\":{\"colorbar\":{\"outlinewidth\":0,\"ticks\":\"\"}},\"colorscale\":{\"diverging\":[[0,\"#8e0152\"],[0.1,\"#c51b7d\"],[0.2,\"#de77ae\"],[0.3,\"#f1b6da\"],[0.4,\"#fde0ef\"],[0.5,\"#f7f7f7\"],[0.6,\"#e6f5d0\"],[0.7,\"#b8e186\"],[0.8,\"#7fbc41\"],[0.9,\"#4d9221\"],[1,\"#276419\"]],\"sequential\":[[0.0,\"#0d0887\"],[0.1111111111111111,\"#46039f\"],[0.2222222222222222,\"#7201a8\"],[0.3333333333333333,\"#9c179e\"],[0.4444444444444444,\"#bd3786\"],[0.5555555555555556,\"#d8576b\"],[0.6666666666666666,\"#ed7953\"],[0.7777777777777778,\"#fb9f3a\"],[0.8888888888888888,\"#fdca26\"],[1.0,\"#f0f921\"]],\"sequentialminus\":[[0.0,\"#0d0887\"],[0.1111111111111111,\"#46039f\"],[0.2222222222222222,\"#7201a8\"],[0.3333333333333333,\"#9c179e\"],[0.4444444444444444,\"#bd3786\"],[0.5555555555555556,\"#d8576b\"],[0.6666666666666666,\"#ed7953\"],[0.7777777777777778,\"#fb9f3a\"],[0.8888888888888888,\"#fdca26\"],[1.0,\"#f0f921\"]]},\"colorway\":[\"#636efa\",\"#EF553B\",\"#00cc96\",\"#ab63fa\",\"#FFA15A\",\"#19d3f3\",\"#FF6692\",\"#B6E880\",\"#FF97FF\",\"#FECB52\"],\"font\":{\"color\":\"#2a3f5f\"},\"geo\":{\"bgcolor\":\"white\",\"lakecolor\":\"white\",\"landcolor\":\"#E5ECF6\",\"showlakes\":true,\"showland\":true,\"subunitcolor\":\"white\"},\"hoverlabel\":{\"align\":\"left\"},\"hovermode\":\"closest\",\"mapbox\":{\"style\":\"light\"},\"paper_bgcolor\":\"white\",\"plot_bgcolor\":\"#E5ECF6\",\"polar\":{\"angularaxis\":{\"gridcolor\":\"white\",\"linecolor\":\"white\",\"ticks\":\"\"},\"bgcolor\":\"#E5ECF6\",\"radialaxis\":{\"gridcolor\":\"white\",\"linecolor\":\"white\",\"ticks\":\"\"}},\"scene\":{\"xaxis\":{\"backgroundcolor\":\"#E5ECF6\",\"gridcolor\":\"white\",\"gridwidth\":2,\"linecolor\":\"white\",\"showbackground\":true,\"ticks\":\"\",\"zerolinecolor\":\"white\"},\"yaxis\":{\"backgroundcolor\":\"#E5ECF6\",\"gridcolor\":\"white\",\"gridwidth\":2,\"linecolor\":\"white\",\"showbackground\":true,\"ticks\":\"\",\"zerolinecolor\":\"white\"},\"zaxis\":{\"backgroundcolor\":\"#E5ECF6\",\"gridcolor\":\"white\",\"gridwidth\":2,\"linecolor\":\"white\",\"showbackground\":true,\"ticks\":\"\",\"zerolinecolor\":\"white\"}},\"shapedefaults\":{\"line\":{\"color\":\"#2a3f5f\"}},\"ternary\":{\"aaxis\":{\"gridcolor\":\"white\",\"linecolor\":\"white\",\"ticks\":\"\"},\"baxis\":{\"gridcolor\":\"white\",\"linecolor\":\"white\",\"ticks\":\"\"},\"bgcolor\":\"#E5ECF6\",\"caxis\":{\"gridcolor\":\"white\",\"linecolor\":\"white\",\"ticks\":\"\"}},\"title\":{\"x\":0.05},\"xaxis\":{\"automargin\":true,\"gridcolor\":\"white\",\"linecolor\":\"white\",\"ticks\":\"\",\"title\":{\"standoff\":15},\"zerolinecolor\":\"white\",\"zerolinewidth\":2},\"yaxis\":{\"automargin\":true,\"gridcolor\":\"white\",\"linecolor\":\"white\",\"ticks\":\"\",\"title\":{\"standoff\":15},\"zerolinecolor\":\"white\",\"zerolinewidth\":2}}},\"xaxis\":{\"anchor\":\"y\",\"domain\":[0.0,1.0],\"title\":{\"text\":\"Count\"}},\"yaxis\":{\"anchor\":\"x\",\"domain\":[0.0,1.0],\"title\":{\"text\":\"Most Common Words\"},\"categoryorder\":\"total ascending\"},\"legend\":{\"tracegroupgap\":0},\"title\":{\"text\":\"Common Unigrams\"},\"barmode\":\"relative\",\"height\":700,\"width\":700},                        {\"responsive\": true}                    ).then(function(){\n",
              "                            \n",
              "var gd = document.getElementById('7dac3d06-b704-4791-a36a-da25fd9e6e12');\n",
              "var x = new MutationObserver(function (mutations, observer) {{\n",
              "        var display = window.getComputedStyle(gd).display;\n",
              "        if (!display || display === 'none') {{\n",
              "            console.log([gd, 'removed!']);\n",
              "            Plotly.purge(gd);\n",
              "            observer.disconnect();\n",
              "        }}\n",
              "}});\n",
              "\n",
              "// Listen for the removal of the full notebook cells\n",
              "var notebookContainer = gd.closest('#notebook-container');\n",
              "if (notebookContainer) {{\n",
              "    x.observe(notebookContainer, {childList: true});\n",
              "}}\n",
              "\n",
              "// Listen for the clearing of the current output cell\n",
              "var outputEl = gd.closest('.output');\n",
              "if (outputEl) {{\n",
              "    x.observe(outputEl, {childList: true});\n",
              "}}\n",
              "\n",
              "                        })                };                            </script>        </div>\n",
              "</body>\n",
              "</html>"
            ]
          },
          "metadata": {}
        }
      ]
    },
    {
      "cell_type": "code",
      "source": [
        "# Bigram Language Model\n",
        "from sklearn.feature_extraction.text import CountVectorizer\n",
        "\n",
        "def getCommonBigrams(text, length):\n",
        "    vector = CountVectorizer(ngram_range=(2, 2)).fit(text)\n",
        "    bagOfWords = vector.transform(text)\n",
        "    sumOfWords = bagOfWords.sum(axis=0) \n",
        "    frequency = [(word, sumOfWords[0, idx]) for word, idx in vector.vocabulary_.items()]\n",
        "    frequency =sorted(frequency, key = lambda x: x[1], reverse=True)\n",
        "    return frequency[:length]\n",
        "\n",
        "# Get top 20 bigrams\n",
        "commonBigrams = getCommonBigrams(df_dist, 20)\n",
        "commonBigrams = dict(commonBigrams)\n",
        "common_bi_df = pd.DataFrame(columns = [\"Common Bigrams\" , 'Count'])\n",
        "common_bi_df[\"Common Bigrams\"] = list(commonBigrams.keys())\n",
        "common_bi_df[\"Count\"] = list(commonBigrams.values())\n",
        "fig = px.bar(common_bi_df, x=\"Count\", y=\"Common Bigrams\", title='Common Bigrams')\n",
        "fig.update_layout( yaxis={'categoryorder':'total ascending'})\n",
        "\n",
        "fig.show()"
      ],
      "metadata": {
        "id": "OGoJuflzJ2Nr",
        "colab": {
          "base_uri": "https://localhost:8080/",
          "height": 542
        },
        "outputId": "b0aeb322-7a37-42a3-d506-92805d1f3d7f"
      },
      "execution_count": null,
      "outputs": [
        {
          "output_type": "display_data",
          "data": {
            "text/html": [
              "<html>\n",
              "<head><meta charset=\"utf-8\" /></head>\n",
              "<body>\n",
              "    <div>            <script src=\"https://cdnjs.cloudflare.com/ajax/libs/mathjax/2.7.5/MathJax.js?config=TeX-AMS-MML_SVG\"></script><script type=\"text/javascript\">if (window.MathJax) {MathJax.Hub.Config({SVG: {font: \"STIX-Web\"}});}</script>                <script type=\"text/javascript\">window.PlotlyConfig = {MathJaxConfig: 'local'};</script>\n",
              "        <script src=\"https://cdn.plot.ly/plotly-2.8.3.min.js\"></script>                <div id=\"8062104a-f1a1-43d0-a260-eb79cfc28c70\" class=\"plotly-graph-div\" style=\"height:525px; width:100%;\"></div>            <script type=\"text/javascript\">                                    window.PLOTLYENV=window.PLOTLYENV || {};                                    if (document.getElementById(\"8062104a-f1a1-43d0-a260-eb79cfc28c70\")) {                    Plotly.newPlot(                        \"8062104a-f1a1-43d0-a260-eb79cfc28c70\",                        [{\"alignmentgroup\":\"True\",\"hovertemplate\":\"Count=%{x}<br>Common Bigrams=%{y}<extra></extra>\",\"legendgroup\":\"\",\"marker\":{\"color\":\"#636efa\",\"pattern\":{\"shape\":\"\"}},\"name\":\"\",\"offsetgroup\":\"\",\"orientation\":\"h\",\"showlegend\":false,\"textposition\":\"auto\",\"x\":[3580,1458,1087,1079,927,876,873,746,732,724,716,713,707,697,678,671,664,593,589,575],\"xaxis\":\"x\",\"y\":[\"can not\",\"look like\",\"watch movie\",\"ever see\",\"see movie\",\"ive see\",\"special effect\",\"even though\",\"make movie\",\"one best\",\"film make\",\"see film\",\"main character\",\"make film\",\"movie make\",\"waste time\",\"watch film\",\"want see\",\"take place\",\"seem like\"],\"yaxis\":\"y\",\"type\":\"bar\"}],                        {\"template\":{\"data\":{\"bar\":[{\"error_x\":{\"color\":\"#2a3f5f\"},\"error_y\":{\"color\":\"#2a3f5f\"},\"marker\":{\"line\":{\"color\":\"#E5ECF6\",\"width\":0.5},\"pattern\":{\"fillmode\":\"overlay\",\"size\":10,\"solidity\":0.2}},\"type\":\"bar\"}],\"barpolar\":[{\"marker\":{\"line\":{\"color\":\"#E5ECF6\",\"width\":0.5},\"pattern\":{\"fillmode\":\"overlay\",\"size\":10,\"solidity\":0.2}},\"type\":\"barpolar\"}],\"carpet\":[{\"aaxis\":{\"endlinecolor\":\"#2a3f5f\",\"gridcolor\":\"white\",\"linecolor\":\"white\",\"minorgridcolor\":\"white\",\"startlinecolor\":\"#2a3f5f\"},\"baxis\":{\"endlinecolor\":\"#2a3f5f\",\"gridcolor\":\"white\",\"linecolor\":\"white\",\"minorgridcolor\":\"white\",\"startlinecolor\":\"#2a3f5f\"},\"type\":\"carpet\"}],\"choropleth\":[{\"colorbar\":{\"outlinewidth\":0,\"ticks\":\"\"},\"type\":\"choropleth\"}],\"contour\":[{\"colorbar\":{\"outlinewidth\":0,\"ticks\":\"\"},\"colorscale\":[[0.0,\"#0d0887\"],[0.1111111111111111,\"#46039f\"],[0.2222222222222222,\"#7201a8\"],[0.3333333333333333,\"#9c179e\"],[0.4444444444444444,\"#bd3786\"],[0.5555555555555556,\"#d8576b\"],[0.6666666666666666,\"#ed7953\"],[0.7777777777777778,\"#fb9f3a\"],[0.8888888888888888,\"#fdca26\"],[1.0,\"#f0f921\"]],\"type\":\"contour\"}],\"contourcarpet\":[{\"colorbar\":{\"outlinewidth\":0,\"ticks\":\"\"},\"type\":\"contourcarpet\"}],\"heatmap\":[{\"colorbar\":{\"outlinewidth\":0,\"ticks\":\"\"},\"colorscale\":[[0.0,\"#0d0887\"],[0.1111111111111111,\"#46039f\"],[0.2222222222222222,\"#7201a8\"],[0.3333333333333333,\"#9c179e\"],[0.4444444444444444,\"#bd3786\"],[0.5555555555555556,\"#d8576b\"],[0.6666666666666666,\"#ed7953\"],[0.7777777777777778,\"#fb9f3a\"],[0.8888888888888888,\"#fdca26\"],[1.0,\"#f0f921\"]],\"type\":\"heatmap\"}],\"heatmapgl\":[{\"colorbar\":{\"outlinewidth\":0,\"ticks\":\"\"},\"colorscale\":[[0.0,\"#0d0887\"],[0.1111111111111111,\"#46039f\"],[0.2222222222222222,\"#7201a8\"],[0.3333333333333333,\"#9c179e\"],[0.4444444444444444,\"#bd3786\"],[0.5555555555555556,\"#d8576b\"],[0.6666666666666666,\"#ed7953\"],[0.7777777777777778,\"#fb9f3a\"],[0.8888888888888888,\"#fdca26\"],[1.0,\"#f0f921\"]],\"type\":\"heatmapgl\"}],\"histogram\":[{\"marker\":{\"pattern\":{\"fillmode\":\"overlay\",\"size\":10,\"solidity\":0.2}},\"type\":\"histogram\"}],\"histogram2d\":[{\"colorbar\":{\"outlinewidth\":0,\"ticks\":\"\"},\"colorscale\":[[0.0,\"#0d0887\"],[0.1111111111111111,\"#46039f\"],[0.2222222222222222,\"#7201a8\"],[0.3333333333333333,\"#9c179e\"],[0.4444444444444444,\"#bd3786\"],[0.5555555555555556,\"#d8576b\"],[0.6666666666666666,\"#ed7953\"],[0.7777777777777778,\"#fb9f3a\"],[0.8888888888888888,\"#fdca26\"],[1.0,\"#f0f921\"]],\"type\":\"histogram2d\"}],\"histogram2dcontour\":[{\"colorbar\":{\"outlinewidth\":0,\"ticks\":\"\"},\"colorscale\":[[0.0,\"#0d0887\"],[0.1111111111111111,\"#46039f\"],[0.2222222222222222,\"#7201a8\"],[0.3333333333333333,\"#9c179e\"],[0.4444444444444444,\"#bd3786\"],[0.5555555555555556,\"#d8576b\"],[0.6666666666666666,\"#ed7953\"],[0.7777777777777778,\"#fb9f3a\"],[0.8888888888888888,\"#fdca26\"],[1.0,\"#f0f921\"]],\"type\":\"histogram2dcontour\"}],\"mesh3d\":[{\"colorbar\":{\"outlinewidth\":0,\"ticks\":\"\"},\"type\":\"mesh3d\"}],\"parcoords\":[{\"line\":{\"colorbar\":{\"outlinewidth\":0,\"ticks\":\"\"}},\"type\":\"parcoords\"}],\"pie\":[{\"automargin\":true,\"type\":\"pie\"}],\"scatter\":[{\"marker\":{\"colorbar\":{\"outlinewidth\":0,\"ticks\":\"\"}},\"type\":\"scatter\"}],\"scatter3d\":[{\"line\":{\"colorbar\":{\"outlinewidth\":0,\"ticks\":\"\"}},\"marker\":{\"colorbar\":{\"outlinewidth\":0,\"ticks\":\"\"}},\"type\":\"scatter3d\"}],\"scattercarpet\":[{\"marker\":{\"colorbar\":{\"outlinewidth\":0,\"ticks\":\"\"}},\"type\":\"scattercarpet\"}],\"scattergeo\":[{\"marker\":{\"colorbar\":{\"outlinewidth\":0,\"ticks\":\"\"}},\"type\":\"scattergeo\"}],\"scattergl\":[{\"marker\":{\"colorbar\":{\"outlinewidth\":0,\"ticks\":\"\"}},\"type\":\"scattergl\"}],\"scattermapbox\":[{\"marker\":{\"colorbar\":{\"outlinewidth\":0,\"ticks\":\"\"}},\"type\":\"scattermapbox\"}],\"scatterpolar\":[{\"marker\":{\"colorbar\":{\"outlinewidth\":0,\"ticks\":\"\"}},\"type\":\"scatterpolar\"}],\"scatterpolargl\":[{\"marker\":{\"colorbar\":{\"outlinewidth\":0,\"ticks\":\"\"}},\"type\":\"scatterpolargl\"}],\"scatterternary\":[{\"marker\":{\"colorbar\":{\"outlinewidth\":0,\"ticks\":\"\"}},\"type\":\"scatterternary\"}],\"surface\":[{\"colorbar\":{\"outlinewidth\":0,\"ticks\":\"\"},\"colorscale\":[[0.0,\"#0d0887\"],[0.1111111111111111,\"#46039f\"],[0.2222222222222222,\"#7201a8\"],[0.3333333333333333,\"#9c179e\"],[0.4444444444444444,\"#bd3786\"],[0.5555555555555556,\"#d8576b\"],[0.6666666666666666,\"#ed7953\"],[0.7777777777777778,\"#fb9f3a\"],[0.8888888888888888,\"#fdca26\"],[1.0,\"#f0f921\"]],\"type\":\"surface\"}],\"table\":[{\"cells\":{\"fill\":{\"color\":\"#EBF0F8\"},\"line\":{\"color\":\"white\"}},\"header\":{\"fill\":{\"color\":\"#C8D4E3\"},\"line\":{\"color\":\"white\"}},\"type\":\"table\"}]},\"layout\":{\"annotationdefaults\":{\"arrowcolor\":\"#2a3f5f\",\"arrowhead\":0,\"arrowwidth\":1},\"autotypenumbers\":\"strict\",\"coloraxis\":{\"colorbar\":{\"outlinewidth\":0,\"ticks\":\"\"}},\"colorscale\":{\"diverging\":[[0,\"#8e0152\"],[0.1,\"#c51b7d\"],[0.2,\"#de77ae\"],[0.3,\"#f1b6da\"],[0.4,\"#fde0ef\"],[0.5,\"#f7f7f7\"],[0.6,\"#e6f5d0\"],[0.7,\"#b8e186\"],[0.8,\"#7fbc41\"],[0.9,\"#4d9221\"],[1,\"#276419\"]],\"sequential\":[[0.0,\"#0d0887\"],[0.1111111111111111,\"#46039f\"],[0.2222222222222222,\"#7201a8\"],[0.3333333333333333,\"#9c179e\"],[0.4444444444444444,\"#bd3786\"],[0.5555555555555556,\"#d8576b\"],[0.6666666666666666,\"#ed7953\"],[0.7777777777777778,\"#fb9f3a\"],[0.8888888888888888,\"#fdca26\"],[1.0,\"#f0f921\"]],\"sequentialminus\":[[0.0,\"#0d0887\"],[0.1111111111111111,\"#46039f\"],[0.2222222222222222,\"#7201a8\"],[0.3333333333333333,\"#9c179e\"],[0.4444444444444444,\"#bd3786\"],[0.5555555555555556,\"#d8576b\"],[0.6666666666666666,\"#ed7953\"],[0.7777777777777778,\"#fb9f3a\"],[0.8888888888888888,\"#fdca26\"],[1.0,\"#f0f921\"]]},\"colorway\":[\"#636efa\",\"#EF553B\",\"#00cc96\",\"#ab63fa\",\"#FFA15A\",\"#19d3f3\",\"#FF6692\",\"#B6E880\",\"#FF97FF\",\"#FECB52\"],\"font\":{\"color\":\"#2a3f5f\"},\"geo\":{\"bgcolor\":\"white\",\"lakecolor\":\"white\",\"landcolor\":\"#E5ECF6\",\"showlakes\":true,\"showland\":true,\"subunitcolor\":\"white\"},\"hoverlabel\":{\"align\":\"left\"},\"hovermode\":\"closest\",\"mapbox\":{\"style\":\"light\"},\"paper_bgcolor\":\"white\",\"plot_bgcolor\":\"#E5ECF6\",\"polar\":{\"angularaxis\":{\"gridcolor\":\"white\",\"linecolor\":\"white\",\"ticks\":\"\"},\"bgcolor\":\"#E5ECF6\",\"radialaxis\":{\"gridcolor\":\"white\",\"linecolor\":\"white\",\"ticks\":\"\"}},\"scene\":{\"xaxis\":{\"backgroundcolor\":\"#E5ECF6\",\"gridcolor\":\"white\",\"gridwidth\":2,\"linecolor\":\"white\",\"showbackground\":true,\"ticks\":\"\",\"zerolinecolor\":\"white\"},\"yaxis\":{\"backgroundcolor\":\"#E5ECF6\",\"gridcolor\":\"white\",\"gridwidth\":2,\"linecolor\":\"white\",\"showbackground\":true,\"ticks\":\"\",\"zerolinecolor\":\"white\"},\"zaxis\":{\"backgroundcolor\":\"#E5ECF6\",\"gridcolor\":\"white\",\"gridwidth\":2,\"linecolor\":\"white\",\"showbackground\":true,\"ticks\":\"\",\"zerolinecolor\":\"white\"}},\"shapedefaults\":{\"line\":{\"color\":\"#2a3f5f\"}},\"ternary\":{\"aaxis\":{\"gridcolor\":\"white\",\"linecolor\":\"white\",\"ticks\":\"\"},\"baxis\":{\"gridcolor\":\"white\",\"linecolor\":\"white\",\"ticks\":\"\"},\"bgcolor\":\"#E5ECF6\",\"caxis\":{\"gridcolor\":\"white\",\"linecolor\":\"white\",\"ticks\":\"\"}},\"title\":{\"x\":0.05},\"xaxis\":{\"automargin\":true,\"gridcolor\":\"white\",\"linecolor\":\"white\",\"ticks\":\"\",\"title\":{\"standoff\":15},\"zerolinecolor\":\"white\",\"zerolinewidth\":2},\"yaxis\":{\"automargin\":true,\"gridcolor\":\"white\",\"linecolor\":\"white\",\"ticks\":\"\",\"title\":{\"standoff\":15},\"zerolinecolor\":\"white\",\"zerolinewidth\":2}}},\"xaxis\":{\"anchor\":\"y\",\"domain\":[0.0,1.0],\"title\":{\"text\":\"Count\"}},\"yaxis\":{\"anchor\":\"x\",\"domain\":[0.0,1.0],\"title\":{\"text\":\"Common Bigrams\"},\"categoryorder\":\"total ascending\"},\"legend\":{\"tracegroupgap\":0},\"title\":{\"text\":\"Common Bigrams\"},\"barmode\":\"relative\"},                        {\"responsive\": true}                    ).then(function(){\n",
              "                            \n",
              "var gd = document.getElementById('8062104a-f1a1-43d0-a260-eb79cfc28c70');\n",
              "var x = new MutationObserver(function (mutations, observer) {{\n",
              "        var display = window.getComputedStyle(gd).display;\n",
              "        if (!display || display === 'none') {{\n",
              "            console.log([gd, 'removed!']);\n",
              "            Plotly.purge(gd);\n",
              "            observer.disconnect();\n",
              "        }}\n",
              "}});\n",
              "\n",
              "// Listen for the removal of the full notebook cells\n",
              "var notebookContainer = gd.closest('#notebook-container');\n",
              "if (notebookContainer) {{\n",
              "    x.observe(notebookContainer, {childList: true});\n",
              "}}\n",
              "\n",
              "// Listen for the clearing of the current output cell\n",
              "var outputEl = gd.closest('.output');\n",
              "if (outputEl) {{\n",
              "    x.observe(outputEl, {childList: true});\n",
              "}}\n",
              "\n",
              "                        })                };                            </script>        </div>\n",
              "</body>\n",
              "</html>"
            ]
          },
          "metadata": {}
        }
      ]
    },
    {
      "cell_type": "markdown",
      "metadata": {
        "id": "1nKxt8DzuN3j"
      },
      "source": [
        "# Training the Machine Learning Model"
      ]
    },
    {
      "cell_type": "code",
      "source": [
        "train_x = pd.read_pickle(\"./training_processed_x.pkl\")\n",
        "train_y = pd.read_pickle(\"./training_processed_y.pkl\")\n",
        "\n",
        "train_x, train_y = shuffle(train_x, train_y)\n"
      ],
      "metadata": {
        "id": "SXJ3BN_j6QEI"
      },
      "execution_count": null,
      "outputs": []
    },
    {
      "cell_type": "code",
      "source": [
        "with pd.option_context('display.max_colwidth', None):\n",
        "  display(train_x)"
      ],
      "metadata": {
        "id": "F3sGP8wl6QEJ"
      },
      "execution_count": null,
      "outputs": []
    },
    {
      "cell_type": "code",
      "source": [
        "train_x.shape"
      ],
      "metadata": {
        "colab": {
          "base_uri": "https://localhost:8080/"
        },
        "id": "jPXJToRetK1D",
        "outputId": "0defd2dc-204d-449b-b63e-72ff22f855e0"
      },
      "execution_count": null,
      "outputs": [
        {
          "output_type": "execute_result",
          "data": {
            "text/plain": [
              "(20000,)"
            ]
          },
          "metadata": {},
          "execution_count": 7
        }
      ]
    },
    {
      "cell_type": "code",
      "source": [
        "\n",
        "\n",
        "# Bag of Words #min_df=0,max_df=1,binary=False,ngram_range=(1,3)\n",
        "#count_vect = CountVectorizer()\n",
        "#cv_train_x = count_vect.fit_transform(train_x)\n",
        "# TF-IDF Score max_features=5000\n",
        "#tfdif_vect = TfidfVectorizer()\n",
        "#tfdif_train_x = tfdif_vect.fit_transform(train_x)\n"
      ],
      "metadata": {
        "id": "drxDfcc7P89Y"
      },
      "execution_count": null,
      "outputs": []
    },
    {
      "cell_type": "markdown",
      "source": [
        "### Logistic Regression using CountVectorizer"
      ],
      "metadata": {
        "id": "900D9-l4DLAM"
      }
    },
    {
      "cell_type": "code",
      "source": [
        "# Logistic Regression using CountVectorizer\n",
        "\n",
        "# Vector Scores\n",
        "count_vect = CountVectorizer()\n",
        "cv_train_x = count_vect.fit_transform(train_x)\n",
        "\n",
        "# Train model\n",
        "train_y = pd.read_pickle(\"./training_processed_y.pkl\")\n",
        "log_reg = LogisticRegression()\n",
        "log_reg.fit(cv_train_x,train_y)\n",
        "\n",
        "# Save Vectorizer\n",
        "vec_file = 'vectorizer2.pickle'\n",
        "pickle.dump(count_vect, open(vec_file, 'wb'))\n",
        "\n",
        "# Save Model\n",
        "mod_file = 'log_reg2.model'\n",
        "pickle.dump(log_reg, open(mod_file, 'wb'))\n"
      ],
      "metadata": {
        "colab": {
          "base_uri": "https://localhost:8080/"
        },
        "id": "SG72bJWODD0u",
        "outputId": "6b2f5441-99b1-44fe-96c6-5a732c9ea0ee"
      },
      "execution_count": null,
      "outputs": [
        {
          "output_type": "stream",
          "name": "stderr",
          "text": [
            "/usr/local/lib/python3.8/dist-packages/sklearn/linear_model/_logistic.py:814: ConvergenceWarning: lbfgs failed to converge (status=1):\n",
            "STOP: TOTAL NO. of ITERATIONS REACHED LIMIT.\n",
            "\n",
            "Increase the number of iterations (max_iter) or scale the data as shown in:\n",
            "    https://scikit-learn.org/stable/modules/preprocessing.html\n",
            "Please also refer to the documentation for alternative solver options:\n",
            "    https://scikit-learn.org/stable/modules/linear_model.html#logistic-regression\n",
            "  n_iter_i = _check_optimize_result(\n"
          ]
        },
        {
          "output_type": "execute_result",
          "data": {
            "text/plain": [
              "LogisticRegression()"
            ]
          },
          "metadata": {},
          "execution_count": 96
        }
      ]
    },
    {
      "cell_type": "code",
      "source": [
        "log_reg.score(cv_train_x,train_y)"
      ],
      "metadata": {
        "id": "lBgH41uW7okV",
        "colab": {
          "base_uri": "https://localhost:8080/"
        },
        "outputId": "d6d84447-f5ea-4c61-ea85-44abccc28eb3"
      },
      "execution_count": null,
      "outputs": [
        {
          "output_type": "execute_result",
          "data": {
            "text/plain": [
              "0.9982"
            ]
          },
          "metadata": {},
          "execution_count": 97
        }
      ]
    },
    {
      "cell_type": "markdown",
      "source": [
        "### Logistic Regression using TF-IDF"
      ],
      "metadata": {
        "id": "OXvwbheNT9Uz"
      }
    },
    {
      "cell_type": "code",
      "source": [
        "# Logistic Regression using TF-IDF\n",
        "\n",
        "# Vector score\n",
        "tfdif_vect = TfidfVectorizer()\n",
        "tfdif_train_x = tfdif_vect.fit_transform(train_x)\n",
        "\n",
        "# Train model\n",
        "train_y = pd.read_pickle(\"./training_processed_y.pkl\")\n",
        "log_reg = LogisticRegression()\n",
        "log_reg.fit(tfdif_train_x,train_y)\n",
        "\n",
        "# Save Vectorizer\n",
        "vec_file = 'vectorizer_tfidf.pickle'\n",
        "pickle.dump(tfdif_vect, open(vec_file, 'wb'))\n",
        "\n",
        "# Save Model\n",
        "mod_file = 'log_reg_tfidf.model'\n",
        "pickle.dump(log_reg, open(mod_file, 'wb'))\n",
        "\n",
        "log_reg.score(tfdif_train_x,train_y)\n"
      ],
      "metadata": {
        "colab": {
          "base_uri": "https://localhost:8080/"
        },
        "outputId": "af0bf992-b4e6-4062-8670-81ffd8266d4a",
        "id": "UeELhh7Kp152"
      },
      "execution_count": null,
      "outputs": [
        {
          "output_type": "execute_result",
          "data": {
            "text/plain": [
              "0.9354"
            ]
          },
          "metadata": {},
          "execution_count": 37
        }
      ]
    },
    {
      "cell_type": "code",
      "source": [
        "test_x = pd.read_pickle(\"./test_x_v4.pkl\")\n",
        "test_y = pd.read_pickle(\"./test_y_v4.pkl\")\n",
        "import pickle\n",
        "\n",
        "# load the vectorizer\n",
        "loaded_vectorizer = pickle.load(open('vectorizer_tfidf.pickle', 'rb'))\n",
        "\n",
        "# load the model\n",
        "loaded_model = pickle.load(open('log_reg_tfidf.model', 'rb'))\n",
        "\n",
        "# make a prediction\n",
        "y_pred = loaded_model.predict(loaded_vectorizer.transform(test_x))\n",
        "y_proba = loaded_model.predict_proba(loaded_vectorizer.transform(test_x))[:,1]"
      ],
      "metadata": {
        "id": "_B7s7NlX08hQ"
      },
      "execution_count": null,
      "outputs": []
    },
    {
      "cell_type": "code",
      "source": [
        "from sklearn.metrics import accuracy_score, confusion_matrix, f1_score,classification_report\n",
        "\n",
        "accuracy = accuracy_score(test_y,y_pred)\n",
        "print(\"TF-TDF Logistic Regression Acurracy :\",accuracy)\n",
        "\n",
        "f1Score= f1_score(test_y,y_pred,average=None)\n",
        "print(\"TF-TDF Logistic Regression F1 Score :\",f1Score)\n",
        "\n",
        "conf_mat = confusion_matrix(test_y,y_pred)\n",
        "print(\"TF-TDF Logistic Regression Confusion Matrix :\",conf_mat)\n"
      ],
      "metadata": {
        "colab": {
          "base_uri": "https://localhost:8080/"
        },
        "id": "e8l0sxAmrKtH",
        "outputId": "eec68f97-7b59-4d4a-857b-bd47de307433"
      },
      "execution_count": null,
      "outputs": [
        {
          "output_type": "stream",
          "name": "stdout",
          "text": [
            "TF-TDF Logistic Regression Acurracy : 0.85768\n",
            "TF-TDF Logistic Regression F1 Score : [0.84802665 0.86618023]\n",
            "TF-TDF Logistic Regression Confusion Matrix : [[ 9927  2667]\n",
            " [  891 11515]]\n"
          ]
        }
      ]
    },
    {
      "cell_type": "code",
      "source": [
        "from sklearn.metrics import roc_curve, roc_auc_score\n",
        "from sklearn.metrics import RocCurveDisplay\n",
        "\n",
        "fpr, tpr , thresholds= roc_curve(test_y, y_proba)\n",
        "roc_display = RocCurveDisplay(fpr=fpr, tpr=tpr)\n",
        "auc = roc_auc_score(test_y, y_proba)\n",
        "\n",
        "# Create ROC curve\n",
        "plt.plot(fpr,tpr,label=\"AUC= \"+str(auc))\n",
        "plt.ylabel('True Positive Rate (Sensitivity)')\n",
        "plt.xlabel('False Positive Rate (Specificity)')\n",
        "plt.legend(loc=4)\n",
        "plt.title(\"ROC Curves - Logistic Regression using TF-IDF\")\n",
        "plt.show()"
      ],
      "metadata": {
        "colab": {
          "base_uri": "https://localhost:8080/",
          "height": 295
        },
        "id": "8wasiEeZoAsO",
        "outputId": "e258d2b5-7495-41b4-be94-1f2f27dffe7e"
      },
      "execution_count": null,
      "outputs": [
        {
          "output_type": "display_data",
          "data": {
            "text/plain": [
              "<Figure size 432x288 with 1 Axes>"
            ],
            "image/png": "[encoded data removed]"
          },
          "metadata": {
            "needs_background": "light"
          }
        }
      ]
    },
    {
      "cell_type": "markdown",
      "source": [
        "### Logistic Regression using TF-IDF and tri-grams"
      ],
      "metadata": {
        "id": "ETe9Ezd9UHVq"
      }
    },
    {
      "cell_type": "code",
      "source": [
        "# TF-IDF Score\n",
        "tfdif_vect = TfidfVectorizer(ngram_range=(1,3))\n",
        "tfdif_train_x = tfdif_vect.fit_transform(train_x)"
      ],
      "metadata": {
        "id": "tGN6grINh2k2"
      },
      "execution_count": null,
      "outputs": []
    },
    {
      "cell_type": "code",
      "source": [
        "# Logistic Regression using TF-IDF\n",
        "\n",
        "# Train model\n",
        "train_y = pd.read_pickle(\"./training_processed_y.pkl\")\n",
        "log_reg = LogisticRegression()\n",
        "log_reg.fit(tfdif_train_x,train_y)\n",
        "\n",
        "# Save Vectorizer\n",
        "vec_file = 'vectorizer_tfidf_2.pickle'\n",
        "pickle.dump(tfdif_vect, open(vec_file, 'wb'))\n",
        "\n",
        "# Save Model\n",
        "mod_file = 'log_reg_tfidf_2.model'\n",
        "pickle.dump(log_reg, open(mod_file, 'wb'))\n",
        "\n",
        "log_reg.score(tfdif_train_x,train_y)\n"
      ],
      "metadata": {
        "colab": {
          "base_uri": "https://localhost:8080/"
        },
        "outputId": "7b8bfe8c-0d0f-43c4-c9da-fc0996c46245",
        "id": "YESASRwVjX1X"
      },
      "execution_count": null,
      "outputs": [
        {
          "output_type": "execute_result",
          "data": {
            "text/plain": [
              "0.9738"
            ]
          },
          "metadata": {},
          "execution_count": 19
        }
      ]
    },
    {
      "cell_type": "markdown",
      "source": [
        "### Support Vector Machine with CountVectorizer"
      ],
      "metadata": {
        "id": "WWU6QAFkWMbq"
      }
    },
    {
      "cell_type": "code",
      "source": [
        "# Support Vector Machine \n",
        "# Takes about 21 minutes\n",
        "\n",
        "#Bag of Words #min_df=0,max_df=1,binary=False,ngram_range=(1,3)\n",
        "count_vect = CountVectorizer()\n",
        "cv_train_x = count_vect.fit_transform(train_x)\n",
        "\n",
        "# Train model\n",
        "train_y = pd.read_pickle(\"./training_processed_y.pkl\")\n",
        "svm = SVC(kernel='linear', probability= True)\n",
        "svm.fit(cv_train_x,train_y)\n",
        "\n",
        "# Save Vectorizer\n",
        "vec_file = 'vectorizer_svm.pickle'\n",
        "pickle.dump(count_vect, open(vec_file, 'wb'))\n",
        "\n",
        "# Save Model\n",
        "mod_file = 'svm.model'\n",
        "pickle.dump(svm, open(mod_file, 'wb'))\n",
        "\n"
      ],
      "metadata": {
        "id": "vdiPpP4yWLWW"
      },
      "execution_count": null,
      "outputs": []
    },
    {
      "cell_type": "code",
      "source": [
        "svm.score(cv_train_x,train_y)"
      ],
      "metadata": {
        "colab": {
          "base_uri": "https://localhost:8080/"
        },
        "id": "bY2EQyhL80EX",
        "outputId": "35d6b590-606a-485c-bfff-45c4820b38bd"
      },
      "execution_count": null,
      "outputs": [
        {
          "output_type": "execute_result",
          "data": {
            "text/plain": [
              "0.99995"
            ]
          },
          "metadata": {},
          "execution_count": 24
        }
      ]
    },
    {
      "cell_type": "markdown",
      "source": [
        "### Support Vector Machine with TF-IDF"
      ],
      "metadata": {
        "id": "Xbb32zCe0H_u"
      }
    },
    {
      "cell_type": "code",
      "source": [
        "# TF-IDF Score\n",
        "tfdif_vect = TfidfVectorizer()\n",
        "tfdif_train_x = tfdif_vect.fit_transform(train_x)"
      ],
      "metadata": {
        "id": "ZZvK5pfR0N39"
      },
      "execution_count": null,
      "outputs": []
    },
    {
      "cell_type": "code",
      "source": [
        "# Support Vector Machine with TF-IDF \n",
        "# Very long training time of 40 mins\n",
        "\n",
        "# Train model\n",
        "train_y = pd.read_pickle(\"./training_processed_y.pkl\")\n",
        "svm = SVC(kernel='linear', probability= True)\n",
        "svm.fit(tfdif_train_x,train_y)\n",
        "\n",
        "# Save Vectorizer\n",
        "vec_file = 'vectorizer_svm_tfidf.pickle'\n",
        "pickle.dump(tfdif_vect, open(vec_file, 'wb'))\n",
        "\n",
        "# Save Model\n",
        "mod_file = 'svm_tfidf.model'\n",
        "pickle.dump(svm, open(mod_file, 'wb'))\n",
        "\n",
        "svm.score(tfdif_train_x,train_y)\n"
      ],
      "metadata": {
        "colab": {
          "base_uri": "https://localhost:8080/"
        },
        "id": "pqT2_Bbl0Y-s",
        "outputId": "50c60a07-26ec-47fa-83cc-b09bb67b5e64"
      },
      "execution_count": null,
      "outputs": [
        {
          "output_type": "execute_result",
          "data": {
            "text/plain": [
              "0.9685"
            ]
          },
          "metadata": {},
          "execution_count": 36
        }
      ]
    },
    {
      "cell_type": "markdown",
      "source": [
        "### Support Vector Machine with TF-IDF and n-gram models"
      ],
      "metadata": {
        "id": "9Ph2S2j7DTTC"
      }
    },
    {
      "cell_type": "code",
      "source": [
        "# TF-IDF Score\n",
        "tfdif_vect = TfidfVectorizer(ngram_range=(1,2))\n",
        "tfdif_train_x = tfdif_vect.fit_transform(train_x)"
      ],
      "metadata": {
        "id": "ra8gupR1DjiF"
      },
      "execution_count": null,
      "outputs": []
    },
    {
      "cell_type": "code",
      "source": [
        "# Support Vector Machine with TF-IDF \n",
        "# Took a much shorter amount of time of 11 mins 0 sec\n",
        "\n",
        "# Train model\n",
        "# train_y = pd.read_pickle(\"./training_processed_y.pkl\")\n",
        "svm = SVC(kernel='linear',probability=True)\n",
        "svm.fit(tfdif_train_x,train_y)\n",
        "\n",
        "# Save Vectorizer\n",
        "vec_file = 'vectorizer_svm_tfidf_2.pickle'\n",
        "pickle.dump(tfdif_vect, open(vec_file, 'wb'))\n",
        "\n",
        "# Save Model\n",
        "mod_file = 'svm_tfidf_2.model'\n",
        "pickle.dump(svm, open(mod_file, 'wb'))\n",
        "\n",
        "svm.score(tfdif_train_x,train_y)\n"
      ],
      "metadata": {
        "id": "gjt1XTsZDjiG",
        "colab": {
          "base_uri": "https://localhost:8080/"
        },
        "outputId": "9a01139f-3dea-4f48-811a-865c2b45b5ef"
      },
      "execution_count": null,
      "outputs": [
        {
          "output_type": "execute_result",
          "data": {
            "text/plain": [
              "0.99635"
            ]
          },
          "metadata": {},
          "execution_count": 7
        }
      ]
    },
    {
      "cell_type": "markdown",
      "source": [
        "# Model Tuning"
      ],
      "metadata": {
        "id": "GZOPHd7oweo3"
      }
    },
    {
      "cell_type": "markdown",
      "source": [
        "### SVM with Hyperparameter Tuning with just CountVectorizer"
      ],
      "metadata": {
        "id": "wM5v2utzwmY8"
      }
    },
    {
      "cell_type": "code",
      "source": [
        "from sklearn.model_selection import RepeatedStratifiedKFold\n",
        "from sklearn.model_selection import GridSearchCV\n",
        "\n",
        "validate_x = pd.read_pickle(\"./validate_x2.pkl\")\n",
        "validate_y = pd.read_pickle(\"./validate_y2.pkl\")\n",
        "\n",
        "# with pd.option_context('display.max_colwidth', None):\n",
        "#   display(validate_x)\n",
        "\n",
        "count_vect = CountVectorizer()\n",
        "cv_val_x = count_vect.fit_transform(validate_x)\n",
        "\n",
        "# define model and parameters\n",
        "svm = SVC()\n",
        "# kernel = ['poly', 'rbf']\n",
        "# C = [50, 10, 1.0, 0.1, 0.01]\n",
        "# gamma = ['scale']\n",
        "\n",
        "# define grid search\n",
        "grid = {'C': [0.1,1, 10, 50],'kernel': ['rbf', 'poly']}\n",
        "# grid = dict(kernel=kernel,C=C,gamma=gamma)\n",
        "cv = RepeatedStratifiedKFold(n_splits=10, n_repeats=3, random_state=1)\n",
        "grid_search = GridSearchCV(estimator=svm, param_grid = grid, cv=cv, scoring='accuracy',error_score=0)\n",
        "grid_result = grid_search.fit(cv_val_x, validate_y)\n",
        "\n",
        "# summarize results\n",
        "print(\"Best: %f using %s\" % (grid_result.best_score_, grid_result.best_params_))\n",
        "means = grid_result.cv_results_['mean_test_score']\n",
        "stds = grid_result.cv_results_['std_test_score']\n",
        "params = grid_result.cv_results_['params']\n",
        "for mean, stdev, param in zip(means, stds, params):\n",
        "  print(\"%f (%f) with: %r\" % (mean, stdev, param))\n"
      ],
      "metadata": {
        "id": "S7skUKxB6wj2"
      },
      "execution_count": null,
      "outputs": []
    },
    {
      "cell_type": "markdown",
      "source": [
        "### SVM with Hyperparameter Tuning with TF-IDF"
      ],
      "metadata": {
        "id": "y4cyJxpR7cIz"
      }
    },
    {
      "cell_type": "code",
      "source": [
        "from sklearn.model_selection import RepeatedStratifiedKFold\n",
        "from sklearn.model_selection import GridSearchCV\n",
        "\n",
        "validate_x = pd.read_pickle(\"./validate_x2.pkl\")\n",
        "validate_y = pd.read_pickle(\"./validate_y2.pkl\")\n",
        "\n",
        "# with pd.option_context('display.max_colwidth', None):\n",
        "#   display(validate_x)\n",
        "\n",
        "tfdif_vect = TfidfVectorizer()\n",
        "tfdif_val_x = tfdif_vect.fit_transform(validate_x)\n",
        "\n",
        "# define model and parameters\n",
        "svm = SVC()\n",
        "# kernel = ['poly', 'rbf']\n",
        "# C = [50, 10, 1.0, 0.1, 0.01]\n",
        "# gamma = ['scale']\n",
        "\n",
        "# define grid search\n",
        "grid = {'C': [0.1,1, 10, 50],'kernel': ['rbf', 'poly','linear']}\n",
        "# grid = dict(kernel=kernel,C=C,gamma=gamma)\n",
        "cv = RepeatedStratifiedKFold(n_splits=10, n_repeats=3, random_state=1)\n",
        "grid_search = GridSearchCV(estimator=svm, param_grid = grid, cv=cv, scoring='accuracy',error_score=0)\n",
        "grid_result = grid_search.fit(tfdif_val_x, validate_y)\n",
        "\n",
        "# summarize results\n",
        "print(\"Best: %f using %s\" % (grid_result.best_score_, grid_result.best_params_))\n",
        "means = grid_result.cv_results_['mean_test_score']\n",
        "stds = grid_result.cv_results_['std_test_score']\n",
        "params = grid_result.cv_results_['params']\n",
        "for mean, stdev, param in zip(means, stds, params):\n",
        "  print(\"%f (%f) with: %r\" % (mean, stdev, param))\n"
      ],
      "metadata": {
        "id": "QKxOTuDk7iFq"
      },
      "execution_count": null,
      "outputs": []
    },
    {
      "cell_type": "markdown",
      "source": [
        "### Testing Tuned Model BoW"
      ],
      "metadata": {
        "id": "VrgptoKtGLEn"
      }
    },
    {
      "cell_type": "code",
      "source": [
        "# Support Vector Machine \n",
        "# Best score and parameters: 0.836533 using {'C': 10, 'kernel': 'rbf'}\n",
        "# 1hr 22mins\n",
        "\n",
        "#Bag of Words\n",
        "count_vect = CountVectorizer()\n",
        "cv_train_x = count_vect.fit_transform(train_x_shuffle)\n",
        "\n",
        "# Train model\n",
        "svm = SVC( C= 10, kernel='rbf', probability= True)\n",
        "svm.fit(cv_train_x,train_y_shuffle)\n",
        "\n",
        "# Save Vectorizer\n",
        "vec_file = 'vectorizer_svm_tuned_2.pickle'\n",
        "pickle.dump(count_vect, open(vec_file, 'wb'))\n",
        "\n",
        "# Save Model\n",
        "mod_file = 'svm_tuned_2.model'\n",
        "pickle.dump(svm, open(mod_file, 'wb'))\n",
        "\n"
      ],
      "metadata": {
        "id": "7voECsBcGPS0"
      },
      "execution_count": null,
      "outputs": []
    },
    {
      "cell_type": "code",
      "source": [
        "svm.score(cv_train_x,train_y)"
      ],
      "metadata": {
        "colab": {
          "base_uri": "https://localhost:8080/"
        },
        "id": "GIKbvhS-Glkt",
        "outputId": "7f084a96-b4b7-4569-899d-0890167d50d5"
      },
      "execution_count": null,
      "outputs": [
        {
          "output_type": "execute_result",
          "data": {
            "text/plain": [
              "0.99915"
            ]
          },
          "metadata": {},
          "execution_count": 7
        }
      ]
    },
    {
      "cell_type": "code",
      "source": [
        "# using data shuffling\n",
        "svm.score(cv_train_x,train_y_shuffle)"
      ],
      "metadata": {
        "id": "C23xNvhHi38A",
        "colab": {
          "base_uri": "https://localhost:8080/"
        },
        "outputId": "87749f30-b4a0-4997-867e-9786a2c87761"
      },
      "execution_count": null,
      "outputs": [
        {
          "output_type": "execute_result",
          "data": {
            "text/plain": [
              "0.99915"
            ]
          },
          "metadata": {},
          "execution_count": 9
        }
      ]
    },
    {
      "cell_type": "markdown",
      "metadata": {
        "id": "k2M6Qt8-ubHm"
      },
      "source": [
        "# Results & Evaluation"
      ]
    },
    {
      "cell_type": "code",
      "source": [
        "import pickle\n",
        "\n",
        "test_x = pd.read_pickle(\"./test_x_v4.pkl\")\n",
        "test_y = pd.read_pickle(\"./test_y_v4.pkl\")"
      ],
      "metadata": {
        "id": "8NmBivMRMNCt"
      },
      "execution_count": null,
      "outputs": []
    },
    {
      "cell_type": "markdown",
      "source": [
        "### Logistic Regression Count Vectoriser Results"
      ],
      "metadata": {
        "id": "QXqp_mlMSdpi"
      }
    },
    {
      "cell_type": "code",
      "source": [
        "\n",
        "#load the model\n",
        "loaded_model = pickle.load(open('log_reg2.model', 'rb'))\n",
        "\n",
        "# load the vectorizer\n",
        "loaded_vectorizer = pickle.load(open('vectorizer2.pickle', 'rb'))\n",
        "\n",
        "# make a prediction\n",
        "y_pred = loaded_model.predict(loaded_vectorizer.transform(test_x))\n",
        "y_proba = loaded_model.predict_proba(loaded_vectorizer.transform(test_x))[:,1]\n",
        "\n",
        "accuracy = accuracy_score(test_y,y_pred)\n",
        "print(\"BOW Logistic Regression Acurracy :\",accuracy)\n",
        "\n",
        "f1Score= f1_score(test_y,y_pred,average=None)\n",
        "print(\"BOW Logistic Regression F1 Score :\",f1Score)\n",
        "\n",
        "conf_mat = confusion_matrix(test_y,y_pred)\n",
        "print(\"BOW Logistic Regression Confusion Matrix :\",conf_mat)\n"
      ],
      "metadata": {
        "colab": {
          "base_uri": "https://localhost:8080/"
        },
        "id": "T5GxYKYECRay",
        "outputId": "45d477e6-738a-481f-83a9-42ec88792aff"
      },
      "execution_count": null,
      "outputs": [
        {
          "output_type": "stream",
          "name": "stdout",
          "text": [
            "BOW Logistic Regression Acurracy : 0.84832\n",
            "BOW Logistic Regression F1 Score : [0.85235945 0.8440533 ]\n",
            "BOW Logistic Regression Confusion Matrix : [[10946  1648]\n",
            " [ 2144 10262]]\n"
          ]
        }
      ]
    },
    {
      "cell_type": "code",
      "source": [
        "from sklearn.metrics import classification_report\n",
        "\n",
        "print(classification_report(test_y,y_pred))"
      ],
      "metadata": {
        "id": "1WazpULgDAqs",
        "colab": {
          "base_uri": "https://localhost:8080/"
        },
        "outputId": "c6901be0-7288-42a9-be04-461eb68c925b"
      },
      "execution_count": null,
      "outputs": [
        {
          "output_type": "stream",
          "name": "stdout",
          "text": [
            "              precision    recall  f1-score   support\n",
            "\n",
            "           0       0.84      0.87      0.85     12594\n",
            "           1       0.86      0.83      0.84     12406\n",
            "\n",
            "    accuracy                           0.85     25000\n",
            "   macro avg       0.85      0.85      0.85     25000\n",
            "weighted avg       0.85      0.85      0.85     25000\n",
            "\n"
          ]
        }
      ]
    },
    {
      "cell_type": "code",
      "source": [
        "from sklearn.metrics import ConfusionMatrixDisplay,confusion_matrix\n",
        "\n",
        "cm = confusion_matrix(test_y, y_pred)\n",
        "\n",
        "cm_display = ConfusionMatrixDisplay(cm).plot()"
      ],
      "metadata": {
        "colab": {
          "base_uri": "https://localhost:8080/",
          "height": 279
        },
        "id": "Q85-AQJc-4hL",
        "outputId": "5149eaa5-b84d-489f-ecea-3591d710c01e"
      },
      "execution_count": null,
      "outputs": [
        {
          "output_type": "display_data",
          "data": {
            "text/plain": [
              "<Figure size 432x288 with 2 Axes>"
            ],
            "image/png": "[encoded data removed]"
          },
          "metadata": {
            "needs_background": "light"
          }
        }
      ]
    },
    {
      "cell_type": "code",
      "source": [
        "group_names = ['True Neg','False Pos','False Neg','True Pos']\n",
        "group_counts = ['{0:0.0f}'.format(value) for value in\n",
        "                cm.flatten()]\n",
        "group_percentages = ['{0:.2%}'.format(value) for value in\n",
        "                    cm.flatten()/np.sum(cm)]\n",
        "labels = [f'{v1}\\n{v2}\\n{v3}' for v1, v2, v3 in\n",
        "          zip(group_names,group_counts,group_percentages)]\n",
        "labels = np.asarray(labels).reshape(2,2)\n",
        "sns.heatmap(cm, annot=labels, fmt='').set(title='Confusion Matrix - Log Res BoW')"
      ],
      "metadata": {
        "colab": {
          "base_uri": "https://localhost:8080/",
          "height": 299
        },
        "id": "WMdKZTPAMnoo",
        "outputId": "0eec7db5-1d7a-4135-dcc5-c9cc04de75b7"
      },
      "execution_count": null,
      "outputs": [
        {
          "output_type": "execute_result",
          "data": {
            "text/plain": [
              "[Text(0.5, 1.0, 'Confusion Matrix - Log Res BoW')]"
            ]
          },
          "metadata": {},
          "execution_count": 42
        },
        {
          "output_type": "display_data",
          "data": {
            "text/plain": [
              "<Figure size 432x288 with 2 Axes>"
            ],
            "image/png": "[encoded data removed]"
          },
          "metadata": {
            "needs_background": "light"
          }
        }
      ]
    },
    {
      "cell_type": "code",
      "source": [
        "from sklearn.metrics import roc_curve, roc_auc_score\n",
        "from sklearn.metrics import RocCurveDisplay\n",
        "\n",
        "fpr, tpr, _ = roc_curve(test_y,y_proba)\n",
        "roc_display = RocCurveDisplay(fpr=fpr, tpr=tpr)\n",
        "auc = roc_auc_score(test_y, y_proba)\n",
        "\n",
        "# Create Receiver Operating Characteristic curve\n",
        "plt.figure(figsize = (12,10))\n",
        "plt.plot(fpr,tpr,label=\"AUC= \"+str(auc))\n",
        "plt.ylabel('True Positive Rate (Sensitivity)')\n",
        "plt.xlabel('False Positive Rate (Specificity)')\n",
        "plt.title(\"ROC Curves - Logistic Regression using BOW\")\n",
        "plt.legend(loc=4)\n",
        "plt.show()"
      ],
      "metadata": {
        "colab": {
          "base_uri": "https://localhost:8080/",
          "height": 621
        },
        "id": "pR09_u_k_Dh3",
        "outputId": "bf1fa33a-05d8-474c-d7d3-bb82de828881"
      },
      "execution_count": null,
      "outputs": [
        {
          "output_type": "display_data",
          "data": {
            "text/plain": [
              "<Figure size 864x720 with 1 Axes>"
            ],
            "image/png": "[encoded data removed]"
          },
          "metadata": {
            "needs_background": "light"
          }
        }
      ]
    },
    {
      "cell_type": "markdown",
      "source": [
        "### Logistic Regression TF-IDF Trigram Results"
      ],
      "metadata": {
        "id": "lT7HtKnqtHYx"
      }
    },
    {
      "cell_type": "code",
      "source": [
        "import pickle\n",
        "test_x = pd.read_pickle(\"./test_x_v4.pkl\")\n",
        "test_y = pd.read_pickle(\"./test_y_v4.pkl\")\n",
        "\n",
        "# load the vectorizer\n",
        "loaded_vectorizer = pickle.load(open('vectorizer_tfidf_2.pickle', 'rb'))\n",
        "\n",
        "# load the model\n",
        "loaded_model = pickle.load(open('log_reg_tfidf_2.model', 'rb'))\n",
        "\n",
        "# make a prediction\n",
        "y_pred = loaded_model.predict(loaded_vectorizer.transform(test_x))"
      ],
      "metadata": {
        "id": "qZ-b_TsrjX1Y"
      },
      "execution_count": null,
      "outputs": []
    },
    {
      "cell_type": "code",
      "source": [
        "y_proba = loaded_model.predict_proba(loaded_vectorizer.transform(test_x))[:,1]"
      ],
      "metadata": {
        "id": "ACAjM6sQo0dB"
      },
      "execution_count": null,
      "outputs": []
    },
    {
      "cell_type": "code",
      "source": [
        "from sklearn.metrics import roc_curve, roc_auc_score\n",
        "from sklearn.metrics import RocCurveDisplay\n",
        "\n",
        "fpr, tpr , thresholds= roc_curve(test_y, y_proba)\n",
        "roc_display = RocCurveDisplay(fpr=fpr, tpr=tpr)\n",
        "auc = roc_auc_score(test_y, y_proba)\n",
        "\n",
        "# Create ROC curve\n",
        "plt.figure(figsize = (12,10))\n",
        "plt.plot(fpr,tpr,label=\"AUC= \"+str(auc))\n",
        "plt.ylabel('True Positive Rate (Sensitivity)')\n",
        "plt.xlabel('False Positive Rate (Specificity)')\n",
        "plt.legend(loc=4)\n",
        "plt.title(\"ROC Curves - Logistic Regression using TF-IDF and tri-gram model\")\n",
        "plt.show()"
      ],
      "metadata": {
        "colab": {
          "base_uri": "https://localhost:8080/",
          "height": 621
        },
        "id": "1FZttYsOlGZR",
        "outputId": "dd98e8a4-1b56-44ec-89e6-970bccd40451"
      },
      "execution_count": null,
      "outputs": [
        {
          "output_type": "display_data",
          "data": {
            "text/plain": [
              "<Figure size 864x720 with 1 Axes>"
            ],
            "image/png": "[encoded data removed]"
          },
          "metadata": {
            "needs_background": "light"
          }
        }
      ]
    },
    {
      "cell_type": "code",
      "source": [
        "print(y_proba)"
      ],
      "metadata": {
        "colab": {
          "base_uri": "https://localhost:8080/"
        },
        "id": "Ffi1idSNrgsN",
        "outputId": "7e330b8d-561b-45c2-d5b5-55b467277e39"
      },
      "execution_count": null,
      "outputs": [
        {
          "output_type": "stream",
          "name": "stdout",
          "text": [
            "[[0.3614385  0.6385615 ]\n",
            " [0.4010523  0.5989477 ]\n",
            " [0.39629282 0.60370718]\n",
            " ...\n",
            " [0.8076969  0.1923031 ]\n",
            " [0.32418641 0.67581359]\n",
            " [0.4679525  0.5320475 ]]\n"
          ]
        }
      ]
    },
    {
      "cell_type": "code",
      "source": [
        "from sklearn.metrics import accuracy_score, confusion_matrix, f1_score,classification_report\n",
        "\n",
        "accuracy = accuracy_score(test_y,y_pred)\n",
        "print(\"TF-TDF Logistic Regression Acurracy :\",accuracy)\n",
        "\n",
        "f1Score= f1_score(test_y,y_pred,average=None)\n",
        "print(\"TF-TDF Logistic Regression F1 Score :\",f1Score)\n",
        "\n",
        "conf_mat = confusion_matrix(test_y,y_pred)\n",
        "print(\"TF-TDF Logistic Regression Confusion Matrix :\",conf_mat)\n"
      ],
      "metadata": {
        "colab": {
          "base_uri": "https://localhost:8080/"
        },
        "outputId": "865373ab-3eb0-48d7-8093-e3f66f3f67a2",
        "id": "ORHBuIK7jX1Z"
      },
      "execution_count": null,
      "outputs": [
        {
          "output_type": "stream",
          "name": "stdout",
          "text": [
            "TF-TDF Logistic Regression Acurracy : 0.8336\n",
            "TF-TDF Logistic Regression F1 Score : [0.81832474 0.84650579]\n",
            "TF-TDF Logistic Regression Confusion Matrix : [[ 9369  3225]\n",
            " [  935 11471]]\n"
          ]
        }
      ]
    },
    {
      "cell_type": "markdown",
      "source": [
        "### SVM Results with CountVectorizer"
      ],
      "metadata": {
        "id": "KBTfsgd1RugZ"
      }
    },
    {
      "cell_type": "code",
      "source": [
        "import pickle\n",
        "\n",
        "test_x = pd.read_pickle(\"./test_x_v4.pkl\")\n",
        "test_y = pd.read_pickle(\"./test_y_v4.pkl\")\n",
        "\n",
        "# load the vectorizer\n",
        "loaded_vectorizer = pickle.load(open('vectorizer_svm.pickle', 'rb'))\n",
        "\n",
        "# load the model\n",
        "loaded_model = pickle.load(open('svm.model', 'rb'))\n",
        "\n",
        "# make a prediction\n",
        "y_pred = loaded_model.predict(loaded_vectorizer.transform(test_x))\n",
        "y_proba = loaded_model.predict_proba(loaded_vectorizer.transform(test_x))[:,1]\n"
      ],
      "metadata": {
        "id": "jWGy56ICcOcP"
      },
      "execution_count": null,
      "outputs": []
    },
    {
      "cell_type": "code",
      "source": [
        "from sklearn.metrics import accuracy_score, confusion_matrix, f1_score,classification_report\n",
        "\n",
        "accuracy = accuracy_score(test_y,y_pred)\n",
        "print(\"BOW SVM Acurracy :\",accuracy)\n",
        "\n",
        "f1Score= f1_score(test_y,y_pred,average=None)\n",
        "print(\"BOW SVM F1 Score :\",f1Score)\n",
        "\n",
        "conf_mat = confusion_matrix(test_y,y_pred)\n",
        "print(\"BOW SVM Confusion Matrix :\",conf_mat)\n"
      ],
      "metadata": {
        "colab": {
          "base_uri": "https://localhost:8080/"
        },
        "outputId": "d28239fd-46b3-48b5-f1ec-c0dff312824a",
        "id": "_09FnPJMcn7n"
      },
      "execution_count": null,
      "outputs": [
        {
          "output_type": "stream",
          "name": "stdout",
          "text": [
            "BOW SVM Acurracy : 0.76436\n",
            "BOW SVM F1 Score : [0.78872431 0.7336438 ]\n",
            "BOW SVM Confusion Matrix : [[10996  1598]\n",
            " [ 4293  8113]]\n"
          ]
        }
      ]
    },
    {
      "cell_type": "code",
      "source": [
        "from sklearn.metrics import classification_report\n",
        "\n",
        "print(classification_report(test_y,y_pred))"
      ],
      "metadata": {
        "colab": {
          "base_uri": "https://localhost:8080/"
        },
        "outputId": "7b4c97cb-a19f-4bbe-dba5-b1ce33fbe15b",
        "id": "daFpWpqywKx3"
      },
      "execution_count": null,
      "outputs": [
        {
          "output_type": "stream",
          "name": "stdout",
          "text": [
            "              precision    recall  f1-score   support\n",
            "\n",
            "           0       0.72      0.87      0.79     12594\n",
            "           1       0.84      0.65      0.73     12406\n",
            "\n",
            "    accuracy                           0.76     25000\n",
            "   macro avg       0.78      0.76      0.76     25000\n",
            "weighted avg       0.78      0.76      0.76     25000\n",
            "\n"
          ]
        }
      ]
    },
    {
      "cell_type": "code",
      "source": [
        "from sklearn.metrics import roc_curve, roc_auc_score\n",
        "from sklearn.metrics import RocCurveDisplay\n",
        "\n",
        "fpr, tpr, _ = roc_curve(test_y, y_proba)\n",
        "roc_display = RocCurveDisplay(fpr=fpr, tpr=tpr)\n",
        "auc = roc_auc_score(test_y, y_proba)\n",
        "\n",
        "# Creat ROC curve\n",
        "plt.figure(figsize = (12,10))\n",
        "plt.plot(fpr,tpr,label=\"AUC= \"+str(auc))\n",
        "plt.ylabel('True Positive Rate (Sensitivity)')\n",
        "plt.xlabel('False Positive Rate (Specificity)')\n",
        "plt.title(\"ROC Curve - Support Vector Machine using CountVectorizer\")\n",
        "plt.legend(loc=4)\n",
        "plt.show()"
      ],
      "metadata": {
        "colab": {
          "base_uri": "https://localhost:8080/",
          "height": 621
        },
        "id": "SWtKMHl6qn_D",
        "outputId": "8182167c-65c1-4ab2-980b-c65f074e01c6"
      },
      "execution_count": null,
      "outputs": [
        {
          "output_type": "display_data",
          "data": {
            "text/plain": [
              "<Figure size 864x720 with 1 Axes>"
            ],
            "image/png": "[encoded data removed]"
          },
          "metadata": {
            "needs_background": "light"
          }
        }
      ]
    },
    {
      "cell_type": "code",
      "source": [
        "from sklearn.metrics import ConfusionMatrixDisplay,confusion_matrix\n",
        "\n",
        "cm = confusion_matrix(test_y, y_pred)\n",
        "\n",
        "group_names = ['True Neg','False Pos','False Neg','True Pos']\n",
        "group_counts = ['{0:0.0f}'.format(value) for value in\n",
        "                cm.flatten()]\n",
        "group_percentages = ['{0:.2%}'.format(value) for value in\n",
        "                    cm.flatten()/np.sum(cm)]\n",
        "labels = [f'{v1}\\n{v2}\\n{v3}' for v1, v2, v3 in\n",
        "          zip(group_names,group_counts,group_percentages)]\n",
        "labels = np.asarray(labels).reshape(2,2)\n",
        "sns.heatmap(cm, annot=labels, fmt='').set(title='Confusion Matrix - SVM BoW')"
      ],
      "metadata": {
        "colab": {
          "base_uri": "https://localhost:8080/",
          "height": 299
        },
        "id": "dQVemlC4ftUw",
        "outputId": "ccb4ac23-1131-454b-a410-6656061e9d46"
      },
      "execution_count": null,
      "outputs": [
        {
          "output_type": "execute_result",
          "data": {
            "text/plain": [
              "[Text(0.5, 1.0, 'Confusion Matrix - SVM BoW')]"
            ]
          },
          "metadata": {},
          "execution_count": 41
        },
        {
          "output_type": "display_data",
          "data": {
            "text/plain": [
              "<Figure size 432x288 with 2 Axes>"
            ],
            "image/png": "[encoded data removed]"
          },
          "metadata": {
            "needs_background": "light"
          }
        }
      ]
    },
    {
      "cell_type": "markdown",
      "source": [
        "### SVM Results with TF-IDF"
      ],
      "metadata": {
        "id": "WhF5d8bc5EWA"
      }
    },
    {
      "cell_type": "code",
      "source": [
        "import pickle\n",
        "\n",
        "test_x = pd.read_pickle(\"./test_x_v4.pkl\")\n",
        "test_y = pd.read_pickle(\"./test_y_v4.pkl\")\n",
        "\n",
        "# load the vectorizer\n",
        "loaded_vectorizer = pickle.load(open('vectorizer_svm_tfidf.pickle', 'rb'))\n",
        "\n",
        "# load the model\n",
        "loaded_model = pickle.load(open('svm_tfidf.model', 'rb'))\n",
        "\n",
        "# make a prediction\n",
        "y_pred = loaded_model.predict(loaded_vectorizer.transform(test_x))"
      ],
      "metadata": {
        "id": "qdgIwXYf5NSH"
      },
      "execution_count": null,
      "outputs": []
    },
    {
      "cell_type": "code",
      "source": [
        "y_proba = loaded_model.predict_proba(loaded_vectorizer.transform(test_x))[:,1]"
      ],
      "metadata": {
        "id": "j58hoR2ihjFq"
      },
      "execution_count": null,
      "outputs": []
    },
    {
      "cell_type": "code",
      "source": [
        "from sklearn.metrics import accuracy_score, confusion_matrix, f1_score,classification_report\n",
        "\n",
        "accuracy = accuracy_score(test_y,y_pred)\n",
        "print(\"TF-IDF SVM Acurracy :\",accuracy)\n",
        "\n",
        "f1Score= f1_score(test_y,y_pred,average=None)\n",
        "print(\"TF-IDF SVM F1 Score :\",f1Score)\n",
        "\n",
        "conf_mat = confusion_matrix(test_y,y_pred)\n",
        "print(\"TF-IDF SVM Confusion Matrix :\",conf_mat)\n"
      ],
      "metadata": {
        "colab": {
          "base_uri": "https://localhost:8080/"
        },
        "outputId": "743dfaf4-5ed7-45e8-872e-e6b9a98687f3",
        "id": "S-Aw-4NG5NSI"
      },
      "execution_count": null,
      "outputs": [
        {
          "output_type": "stream",
          "name": "stdout",
          "text": [
            "TF-IDF SVM Acurracy : 0.86088\n",
            "TF-IDF SVM F1 Score : [0.86052294 0.86123524]\n",
            "TF-IDF SVM Confusion Matrix : [[10729  1865]\n",
            " [ 1613 10793]]\n"
          ]
        }
      ]
    },
    {
      "cell_type": "code",
      "source": [
        "from sklearn.metrics import roc_curve, roc_auc_score\n",
        "from sklearn.metrics import RocCurveDisplay\n",
        "\n",
        "fpr, tpr, _ = roc_curve(test_y, y_proba)\n",
        "roc_display = RocCurveDisplay(fpr=fpr, tpr=tpr)\n",
        "auc = roc_auc_score(test_y, y_proba)\n",
        "\n",
        "# Create Receiver Operating Characteristic curve\n",
        "plt.figure(figsize = (12,10))\n",
        "plt.plot(fpr,tpr,label=\"AUC= \"+str(auc))\n",
        "plt.ylabel('True Positive Rate (Sensitivity)')\n",
        "plt.xlabel('False Positive Rate (Specificity)')\n",
        "plt.title(\"ROC Curve - Support Vector Machine using TF-IDF\")\n",
        "plt.legend(loc=4)\n",
        "plt.show()"
      ],
      "metadata": {
        "colab": {
          "base_uri": "https://localhost:8080/",
          "height": 621
        },
        "outputId": "92fa915a-6cab-41cd-9993-78a6b1217181",
        "id": "iIHuh1sg5NSJ"
      },
      "execution_count": null,
      "outputs": [
        {
          "output_type": "display_data",
          "data": {
            "text/plain": [
              "<Figure size 864x720 with 1 Axes>"
            ],
            "image/png": "[encoded data removed]"
          },
          "metadata": {
            "needs_background": "light"
          }
        }
      ]
    },
    {
      "cell_type": "code",
      "source": [
        "# Learning curve unexpectedly shows a straight line which could mean that the model is overfitting\n",
        "# Future work could focus on improvements such as training with more samples, \n",
        "# reducing more irrelevant features\n",
        "\n",
        "\n",
        "from sklearn.metrics import accuracy_score\n",
        "from sklearn.model_selection import learning_curve\n",
        "\n",
        "train_sizes, train_scores, test_scores = learning_curve(loaded_model, tfdif_train_x, train_y, cv=5, scoring=\"accuracy\" )\n",
        "\n",
        "plt.plot(train_sizes, train_scores.mean(axis=1), label=\"Training Score\")\n",
        "plt.plot(train_sizes, test_scores.mean(axis=1), label=\"Test Score\")\n",
        "plt.xlabel(\"Number of training samples\")\n",
        "plt.ylabel(\"Accuracy\")\n",
        "plt.legend()\n",
        "plt.show()"
      ],
      "metadata": {
        "colab": {
          "base_uri": "https://localhost:8080/",
          "height": 280
        },
        "id": "QRWIQC1ffiIH",
        "outputId": "f63573f5-9a65-4112-cb54-eea06e28d0f9"
      },
      "execution_count": null,
      "outputs": [
        {
          "output_type": "display_data",
          "data": {
            "text/plain": [
              "<Figure size 432x288 with 1 Axes>"
            ],
            "image/png": "[encoded data removed]"
          },
          "metadata": {
            "needs_background": "light"
          }
        }
      ]
    },
    {
      "cell_type": "code",
      "source": [
        "from sklearn.metrics import ConfusionMatrixDisplay,confusion_matrix\n",
        "\n",
        "cm = confusion_matrix(test_y, y_pred)\n",
        "\n",
        "cm_display = ConfusionMatrixDisplay(cm).plot()"
      ],
      "metadata": {
        "colab": {
          "base_uri": "https://localhost:8080/",
          "height": 279
        },
        "outputId": "7350073c-0cf6-495e-bcfe-6478df7a6b6d",
        "id": "LPYeJXzqY3fF"
      },
      "execution_count": null,
      "outputs": [
        {
          "output_type": "display_data",
          "data": {
            "text/plain": [
              "<Figure size 432x288 with 2 Axes>"
            ],
            "image/png": "[encoded data removed]"
          },
          "metadata": {
            "needs_background": "light"
          }
        }
      ]
    },
    {
      "cell_type": "code",
      "source": [
        "group_names = ['True Neg','False Pos','False Neg','True Pos']\n",
        "group_counts = ['{0:0.0f}'.format(value) for value in\n",
        "                cm.flatten()]\n",
        "group_percentages = ['{0:.2%}'.format(value) for value in\n",
        "                    cm.flatten()/np.sum(cm)]\n",
        "labels = [f'{v1}\\n{v2}\\n{v3}' for v1, v2, v3 in\n",
        "          zip(group_names,group_counts,group_percentages)]\n",
        "labels = np.asarray(labels).reshape(2,2)\n",
        "sns.heatmap(cm, annot=labels, fmt='')"
      ],
      "metadata": {
        "colab": {
          "base_uri": "https://localhost:8080/",
          "height": 283
        },
        "id": "FRcPPLKhY5px",
        "outputId": "7541f6e9-5950-4255-d110-d2ae803925ee"
      },
      "execution_count": null,
      "outputs": [
        {
          "output_type": "execute_result",
          "data": {
            "text/plain": [
              "<matplotlib.axes._subplots.AxesSubplot at 0x7fb131efba60>"
            ]
          },
          "metadata": {},
          "execution_count": 35
        },
        {
          "output_type": "display_data",
          "data": {
            "text/plain": [
              "<Figure size 432x288 with 2 Axes>"
            ],
            "image/png": "[encoded data removed]"
          },
          "metadata": {
            "needs_background": "light"
          }
        }
      ]
    },
    {
      "cell_type": "code",
      "source": [
        "from sklearn.metrics import classification_report\n",
        "\n",
        "print(classification_report(test_y,y_pred))"
      ],
      "metadata": {
        "colab": {
          "base_uri": "https://localhost:8080/"
        },
        "id": "UDrDCyo_ZY6Q",
        "outputId": "de7578be-f319-4f72-c9ef-909a20945caf"
      },
      "execution_count": null,
      "outputs": [
        {
          "output_type": "stream",
          "name": "stdout",
          "text": [
            "              precision    recall  f1-score   support\n",
            "\n",
            "           0       0.87      0.85      0.86     12594\n",
            "           1       0.85      0.87      0.86     12406\n",
            "\n",
            "    accuracy                           0.86     25000\n",
            "   macro avg       0.86      0.86      0.86     25000\n",
            "weighted avg       0.86      0.86      0.86     25000\n",
            "\n"
          ]
        }
      ]
    },
    {
      "cell_type": "code",
      "source": [
        "from sklearn.metrics import precision_recall_curve, auc\n",
        "\n",
        "#calculate precision and recall\n",
        "precision, recall, thresholds = precision_recall_curve(test_y, y_proba)\n",
        "\n",
        "#create precision recall curve and area under curve\n",
        "plt.figure(figsize = (12,8))\n",
        "auc_precision_recall = auc(recall, precision)\n",
        "plt.plot(recall, precision, color='navy',label=\"AUC= \"+str(auc_precision_recall))\n",
        "plt.ylabel('Precision')\n",
        "plt.xlabel('Recall')\n",
        "plt.title(\"Precision-Recall Curve SVM using TF-IDF\")\n",
        "\n",
        "#display plot\n",
        "plt.legend()\n",
        "plt.show()"
      ],
      "metadata": {
        "id": "dXX7uvvloloV"
      },
      "execution_count": null,
      "outputs": []
    },
    {
      "cell_type": "markdown",
      "source": [
        "### SVM Results with Bi-gram model"
      ],
      "metadata": {
        "id": "2Q3zm-80fR_U"
      }
    },
    {
      "cell_type": "code",
      "source": [
        "import pickle\n",
        "\n",
        "val_x = pd.read_pickle(\"./validate_x2.pkl\")\n",
        "val_y = pd.read_pickle(\"./validate_y2.pkl\")\n",
        "\n",
        "val_x, val_y = shuffle(val_x, val_y)\n",
        "\n",
        "\n",
        "# load the vectorizer\n",
        "loaded_vectorizer = pickle.load(open('vectorizer_svm_tfidf_2.pickle', 'rb'))\n",
        "\n",
        "# load the model\n",
        "loaded_model = pickle.load(open('svm_tfidf_2.model', 'rb'))\n",
        "\n",
        "# make a prediction\n",
        "y_pred = loaded_model.predict(loaded_vectorizer.transform(val_x))\n",
        "y_proba = loaded_model.predict_proba(loaded_vectorizer.transform(val_x))[:,1]"
      ],
      "metadata": {
        "id": "Z7_cd9HROkl4"
      },
      "execution_count": null,
      "outputs": []
    },
    {
      "cell_type": "code",
      "source": [
        "print(classification_report(val_y,y_pred))"
      ],
      "metadata": {
        "colab": {
          "base_uri": "https://localhost:8080/"
        },
        "id": "N-GNn0lCRza1",
        "outputId": "c3dbb67f-8430-486e-f94f-5a2c9a201ea8"
      },
      "execution_count": null,
      "outputs": [
        {
          "output_type": "stream",
          "name": "stdout",
          "text": [
            "              precision    recall  f1-score   support\n",
            "\n",
            "           0       0.91      0.88      0.90      2536\n",
            "           1       0.88      0.91      0.90      2464\n",
            "\n",
            "    accuracy                           0.90      5000\n",
            "   macro avg       0.90      0.90      0.90      5000\n",
            "weighted avg       0.90      0.90      0.90      5000\n",
            "\n"
          ]
        }
      ]
    },
    {
      "cell_type": "code",
      "source": [
        "cm = confusion_matrix(val_y, y_pred)\n",
        "\n",
        "cm_display = ConfusionMatrixDisplay(cm).plot()"
      ],
      "metadata": {
        "colab": {
          "base_uri": "https://localhost:8080/",
          "height": 279
        },
        "id": "YOrHm-9ESFzl",
        "outputId": "34c6baa5-6a34-4e39-dec6-f584af001b06"
      },
      "execution_count": null,
      "outputs": [
        {
          "output_type": "display_data",
          "data": {
            "text/plain": [
              "<Figure size 432x288 with 2 Axes>"
            ],
            "image/png": "[encoded data removed]"
          },
          "metadata": {
            "needs_background": "light"
          }
        }
      ]
    },
    {
      "cell_type": "code",
      "source": [
        "fpr, tpr, _ = roc_curve(val_y, y_proba)\n",
        "roc_display = RocCurveDisplay(fpr=fpr, tpr=tpr)\n",
        "auc = roc_auc_score(val_y, y_proba)\n",
        "\n",
        "# Creat ROC curve\n",
        "plt.plot(fpr,tpr,label=\"AUC= \"+str(auc))\n",
        "plt.ylabel('True Positive Rate (Sensitivity)')\n",
        "plt.xlabel('False Positive Rate (Specificity)')\n",
        "plt.title(\"ROC Curve - Support Vector Machine using Bi-gram model\")\n",
        "plt.legend(loc=4)\n",
        "plt.show()"
      ],
      "metadata": {
        "colab": {
          "base_uri": "https://localhost:8080/",
          "height": 295
        },
        "id": "RzqPxI2OSR4z",
        "outputId": "9b555a98-4bcc-44cb-d24f-87e0763d819d"
      },
      "execution_count": null,
      "outputs": [
        {
          "output_type": "display_data",
          "data": {
            "text/plain": [
              "<Figure size 432x288 with 1 Axes>"
            ],
            "image/png": "[encoded data removed]"
          },
          "metadata": {
            "needs_background": "light"
          }
        }
      ]
    },
    {
      "cell_type": "code",
      "source": [
        "import pickle\n",
        "\n",
        "test_x = pd.read_pickle(\"./test_x_v4.pkl\")\n",
        "test_y = pd.read_pickle(\"./test_y_v4.pkl\")\n",
        "\n",
        "# load the vectorizer\n",
        "loaded_vectorizer = pickle.load(open('vectorizer_svm_tfidf_2.pickle', 'rb'))\n",
        "\n",
        "# load the model\n",
        "loaded_model = pickle.load(open('svm_tfidf_2.model', 'rb'))\n",
        "\n",
        "# make a prediction\n",
        "y_pred_test = loaded_model.predict(loaded_vectorizer.transform(test_x))\n",
        "y_proba_test = loaded_model.predict_proba(loaded_vectorizer.transform(test_x))[:,1]"
      ],
      "metadata": {
        "id": "LRmt_6J-fY6E"
      },
      "execution_count": null,
      "outputs": []
    },
    {
      "cell_type": "code",
      "source": [
        "print(classification_report(test_y,y_pred_test))"
      ],
      "metadata": {
        "colab": {
          "base_uri": "https://localhost:8080/"
        },
        "id": "pIpdqIw6dRs-",
        "outputId": "fdded62e-b9b2-4529-8c7d-f4396bc1e339"
      },
      "execution_count": null,
      "outputs": [
        {
          "output_type": "stream",
          "name": "stdout",
          "text": [
            "              precision    recall  f1-score   support\n",
            "\n",
            "           0       0.91      0.83      0.87     12594\n",
            "           1       0.84      0.91      0.88     12406\n",
            "\n",
            "    accuracy                           0.87     25000\n",
            "   macro avg       0.87      0.87      0.87     25000\n",
            "weighted avg       0.87      0.87      0.87     25000\n",
            "\n"
          ]
        }
      ]
    },
    {
      "cell_type": "code",
      "source": [
        "accuracy = accuracy_score(test_y,y_pred_test)\n",
        "print(\"TF-IDF Bi-gram SVM Acurracy :\",accuracy)"
      ],
      "metadata": {
        "colab": {
          "base_uri": "https://localhost:8080/"
        },
        "id": "acTEWo5QdfXI",
        "outputId": "993db0aa-8602-49d8-dd7f-206ae8998f01"
      },
      "execution_count": null,
      "outputs": [
        {
          "output_type": "stream",
          "name": "stdout",
          "text": [
            "TF-IDF Bi-gram SVM Acurracy : 0.872\n"
          ]
        }
      ]
    },
    {
      "cell_type": "code",
      "source": [
        "fpr, tpr, _ = roc_curve(test_y, y_proba_test)\n",
        "roc_display = RocCurveDisplay(fpr=fpr, tpr=tpr)\n",
        "auc = roc_auc_score(test_y, y_proba_test)\n",
        "\n",
        "# Creat ROC curve\n",
        "plt.plot(fpr,tpr,label=\"AUC= \"+str(auc))\n",
        "plt.ylabel('True Positive Rate (Sensitivity)')\n",
        "plt.xlabel('False Positive Rate (Specificity)')\n",
        "plt.title(\"ROC Curve - Support Vector Machine using TF-IDF Bi-gram model\")\n",
        "plt.legend(loc=4)\n",
        "plt.show()"
      ],
      "metadata": {
        "colab": {
          "base_uri": "https://localhost:8080/",
          "height": 295
        },
        "id": "9HosNmHgdrjJ",
        "outputId": "08183591-f8d3-475e-b22c-21a5f30d19cb"
      },
      "execution_count": null,
      "outputs": [
        {
          "output_type": "display_data",
          "data": {
            "text/plain": [
              "<Figure size 432x288 with 1 Axes>"
            ],
            "image/png": "[encoded data removed]"
          },
          "metadata": {
            "needs_background": "light"
          }
        }
      ]
    },
    {
      "cell_type": "code",
      "source": [
        "cm = confusion_matrix(test_y, y_pred_test)\n",
        "\n",
        "# cm_display = ConfusionMatrixDisplay(cm).plot()\n",
        "\n",
        "group_names = ['True Neg','False Pos','False Neg','True Pos']\n",
        "group_counts = ['{0:0.0f}'.format(value) for value in\n",
        "                cm.flatten()]\n",
        "group_percentages = ['{0:.2%}'.format(value) for value in\n",
        "                    cm.flatten()/np.sum(cm)]\n",
        "labels = [f'{v1}\\n{v2}\\n{v3}' for v1, v2, v3 in\n",
        "          zip(group_names,group_counts,group_percentages)]\n",
        "labels = np.asarray(labels).reshape(2,2)\n",
        "sns.heatmap(cm, annot=labels, fmt='')"
      ],
      "metadata": {
        "colab": {
          "base_uri": "https://localhost:8080/",
          "height": 283
        },
        "id": "Fj7oh2-AfbuA",
        "outputId": "4ccfb9d2-cdcd-4931-8a7c-30171df67043"
      },
      "execution_count": null,
      "outputs": [
        {
          "output_type": "execute_result",
          "data": {
            "text/plain": [
              "<matplotlib.axes._subplots.AxesSubplot at 0x7f5f69aca220>"
            ]
          },
          "metadata": {},
          "execution_count": 31
        },
        {
          "output_type": "display_data",
          "data": {
            "text/plain": [
              "<Figure size 432x288 with 2 Axes>"
            ],
            "image/png": "[encoded data removed]"
          },
          "metadata": {
            "needs_background": "light"
          }
        }
      ]
    },
    {
      "cell_type": "markdown",
      "source": [
        "# Tuned SVM with Bag-Of-words"
      ],
      "metadata": {
        "id": "AZxI7oTHfk3e"
      }
    },
    {
      "cell_type": "code",
      "source": [
        "import pickle\n",
        "\n",
        "test_x = pd.read_pickle(\"./test_x_v4.pkl\")\n",
        "test_y = pd.read_pickle(\"./test_y_v4.pkl\")\n",
        "\n",
        "# load the vectorizer\n",
        "loaded_vectorizer = pickle.load(open('vectorizer_svm_tuned.pickle', 'rb'))\n",
        "\n",
        "# load the model\n",
        "loaded_model = pickle.load(open('svm_tuned.model', 'rb'))\n",
        "\n",
        "# make a prediction\n",
        "y_pred = loaded_model.predict(loaded_vectorizer.transform(test_x))\n",
        "y_proba = loaded_model.predict_proba(loaded_vectorizer.transform(test_x))[:,1]"
      ],
      "metadata": {
        "id": "wts_2pYKflWY"
      },
      "execution_count": null,
      "outputs": []
    },
    {
      "cell_type": "code",
      "source": [
        "from sklearn.metrics import accuracy_score, confusion_matrix, f1_score,classification_report\n",
        "\n",
        "accuracy = accuracy_score(test_y,y_pred)\n",
        "print(\"TF-IDF SVM Acurracy :\",accuracy)\n",
        "\n",
        "f1Score= f1_score(test_y,y_pred,average=None)\n",
        "print(\"TF-IDF SVM F1 Score :\",f1Score)\n",
        "\n",
        "conf_mat = confusion_matrix(test_y,y_pred)\n",
        "print(\"TF-IDF SVM Confusion Matrix :\",conf_mat)\n"
      ],
      "metadata": {
        "colab": {
          "base_uri": "https://localhost:8080/"
        },
        "id": "pTqa5uzFjukt",
        "outputId": "6884113d-1ee3-41df-e068-2e829ee4040f"
      },
      "execution_count": null,
      "outputs": [
        {
          "output_type": "stream",
          "name": "stdout",
          "text": [
            "TF-IDF SVM Acurracy : 0.759\n",
            "TF-IDF SVM F1 Score : [0.70917604 0.79424922]\n",
            "TF-IDF SVM Confusion Matrix : [[ 7346  5248]\n",
            " [  777 11629]]\n"
          ]
        }
      ]
    },
    {
      "cell_type": "code",
      "source": [
        "print(classification_report(test_y,y_pred))"
      ],
      "metadata": {
        "colab": {
          "base_uri": "https://localhost:8080/"
        },
        "id": "mX0dCwmcj813",
        "outputId": "366c5e60-c400-4850-8e98-6284aec57426"
      },
      "execution_count": null,
      "outputs": [
        {
          "output_type": "stream",
          "name": "stdout",
          "text": [
            "              precision    recall  f1-score   support\n",
            "\n",
            "           0       0.90      0.58      0.71     12594\n",
            "           1       0.69      0.94      0.79     12406\n",
            "\n",
            "    accuracy                           0.76     25000\n",
            "   macro avg       0.80      0.76      0.75     25000\n",
            "weighted avg       0.80      0.76      0.75     25000\n",
            "\n"
          ]
        }
      ]
    },
    {
      "cell_type": "code",
      "source": [
        "from sklearn.metrics import roc_curve, roc_auc_score\n",
        "from sklearn.metrics import RocCurveDisplay\n",
        "\n",
        "fpr, tpr, _ = roc_curve(test_y, y_proba)\n",
        "roc_display = RocCurveDisplay(fpr=fpr, tpr=tpr)\n",
        "auc = roc_auc_score(test_y, y_proba)\n",
        "\n",
        "# Creat ROC curve\n",
        "plt.plot(fpr,tpr,label=\"AUC= \"+str(auc))\n",
        "plt.ylabel('True Positive Rate (Sensitivity)')\n",
        "plt.xlabel('False Positive Rate (Specificity)')\n",
        "plt.title(\"ROC Curve - Tuned Support Vector Machine\")\n",
        "plt.legend(loc=4)\n",
        "plt.show()"
      ],
      "metadata": {
        "colab": {
          "base_uri": "https://localhost:8080/",
          "height": 295
        },
        "id": "1J4OBFq2kEXL",
        "outputId": "dad29fab-c066-4200-a73a-44b3d28fa527"
      },
      "execution_count": null,
      "outputs": [
        {
          "output_type": "display_data",
          "data": {
            "text/plain": [
              "<Figure size 432x288 with 1 Axes>"
            ],
            "image/png": "[encoded data removed]"
          },
          "metadata": {
            "needs_background": "light"
          }
        }
      ]
    },
    {
      "cell_type": "code",
      "source": [
        "from sklearn.metrics import ConfusionMatrixDisplay,confusion_matrix\n",
        "\n",
        "cm = confusion_matrix(test_y, y_pred)\n",
        "\n",
        "cm_display = ConfusionMatrixDisplay(cm).plot()"
      ],
      "metadata": {
        "colab": {
          "base_uri": "https://localhost:8080/",
          "height": 279
        },
        "id": "SOM69xcmrv-q",
        "outputId": "1cf806a4-be80-4ab1-db15-dfa9946800cf"
      },
      "execution_count": null,
      "outputs": [
        {
          "output_type": "display_data",
          "data": {
            "text/plain": [
              "<Figure size 432x288 with 2 Axes>"
            ],
            "image/png": "[encoded data removed]"
          },
          "metadata": {
            "needs_background": "light"
          }
        }
      ]
    },
    {
      "cell_type": "markdown",
      "source": [
        "# Test Model on User Input"
      ],
      "metadata": {
        "id": "h0W1tZir4SRR"
      }
    },
    {
      "cell_type": "code",
      "source": [
        "# load the vectorizer\n",
        "loaded_vectorizer = pickle.load(open('vectorizer_svm_tfidf.pickle', 'rb'))\n",
        "\n",
        "# load the model\n",
        "loaded_model = pickle.load(open('svm_tfidf.model', 'rb'))\n",
        "\n",
        "def test_model(sentence):\n",
        "    vec_sen = loaded_vectorizer.transform([sentence]).toarray()\n",
        "    res = loaded_model.predict(vec_sen)[0]\n",
        "    return res\n",
        "\n",
        "bad_review = 'This movie was a letdown. The plot was predictable, the acting was stiff, and the special effects were underwhelming. Overall, a disappointing waste of time.'\n",
        "good_review = 'This movie was a triumph. The storyline was engaging, the acting was top-notch, and the special effects were stunning. A must-watch for any film enthusiast.'\n",
        "res = test_model(bad_review)\n",
        "print(res)"
      ],
      "metadata": {
        "colab": {
          "base_uri": "https://localhost:8080/"
        },
        "id": "kfx8rk88gDoG",
        "outputId": "fd2f7c22-367e-4e76-e07c-284c7deae620"
      },
      "execution_count": null,
      "outputs": [
        {
          "output_type": "stream",
          "name": "stdout",
          "text": [
            "0\n"
          ]
        }
      ]
    }
  ],
  "metadata": {
    "colab": {
      "collapsed_sections": [
        "WWU6QAFkWMbq",
        "wM5v2utzwmY8",
        "y4cyJxpR7cIz",
        "VrgptoKtGLEn",
        "KBTfsgd1RugZ",
        "AZxI7oTHfk3e"
      ],
      "provenance": [],
      "authorship_tag": "ABX9TyP7m+SO+NicyuyvyGCPTU0m",
      "include_colab_link": true
    },
    "kernelspec": {
      "display_name": "Python 3",
      "name": "python3"
    },
    "language_info": {
      "name": "python"
    },
    "gpuClass": "standard"
  },
  "nbformat": 4,
  "nbformat_minor": 0
}